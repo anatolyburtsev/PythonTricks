{
 "cells": [
  {
   "cell_type": "markdown",
   "id": "06df95fa",
   "metadata": {},
   "source": [
    "# Task\n",
    "There is a function, which consumes string argument. It should validate that this string follows particular date-like pattern.\n",
    "\n",
    "```\n",
    "def process(argument: str) -> str:\n",
    "    # fail if argument doesn't look like YYYY-mm-dd\n",
    "    logic() \n",
    "\n",
    "```"
   ]
  },
  {
   "cell_type": "markdown",
   "id": "4a90d6aa",
   "metadata": {},
   "source": [
    "## Common code and imports"
   ]
  },
  {
   "cell_type": "code",
   "execution_count": 16,
   "id": "f13a560f",
   "metadata": {},
   "outputs": [],
   "source": [
    "import re\n",
    "from datetime import datetime"
   ]
  },
  {
   "cell_type": "markdown",
   "id": "15a218c9",
   "metadata": {},
   "source": [
    "## Approach 1 with assert"
   ]
  },
  {
   "cell_type": "code",
   "execution_count": 10,
   "id": "d3fc9a33",
   "metadata": {},
   "outputs": [],
   "source": [
    "date_like_pattern = r'^\\d{4}-\\d{2}-\\d{2}$'\n",
    "\n",
    "def process(date_string: str) -> str:\n",
    "    assert re.match(date_like_pattern, date_string)\n",
    "    return \"Success\""
   ]
  },
  {
   "cell_type": "code",
   "execution_count": 11,
   "id": "bef9f852",
   "metadata": {},
   "outputs": [
    {
     "name": "stdout",
     "output_type": "stream",
     "text": [
      "Success\n"
     ]
    }
   ],
   "source": [
    "print(process(\"2022-12-12\"))  # Success"
   ]
  },
  {
   "cell_type": "code",
   "execution_count": 12,
   "id": "9c77c6b5",
   "metadata": {},
   "outputs": [
    {
     "ename": "AssertionError",
     "evalue": "",
     "output_type": "error",
     "traceback": [
      "\u001b[0;31m---------------------------------------------------------------------------\u001b[0m",
      "\u001b[0;31mAssertionError\u001b[0m                            Traceback (most recent call last)",
      "Cell \u001b[0;32mIn[12], line 1\u001b[0m\n\u001b[0;32m----> 1\u001b[0m \u001b[38;5;28mprint\u001b[39m(\u001b[43mprocess\u001b[49m\u001b[43m(\u001b[49m\u001b[38;5;124;43m\"\u001b[39;49m\u001b[38;5;124;43m2022/12/12\u001b[39;49m\u001b[38;5;124;43m\"\u001b[39;49m\u001b[43m)\u001b[49m)  \u001b[38;5;66;03m# AssertionError\u001b[39;00m\n",
      "Cell \u001b[0;32mIn[10], line 4\u001b[0m, in \u001b[0;36mprocess\u001b[0;34m(date_string)\u001b[0m\n\u001b[1;32m      3\u001b[0m \u001b[38;5;28;01mdef\u001b[39;00m \u001b[38;5;21mprocess\u001b[39m(date_string: \u001b[38;5;28mstr\u001b[39m) \u001b[38;5;241m-\u001b[39m\u001b[38;5;241m>\u001b[39m \u001b[38;5;28mstr\u001b[39m:\n\u001b[0;32m----> 4\u001b[0m     \u001b[38;5;28;01massert\u001b[39;00m re\u001b[38;5;241m.\u001b[39mmatch(date_like_pattern, date_string)\n\u001b[1;32m      5\u001b[0m     \u001b[38;5;28;01mreturn\u001b[39;00m \u001b[38;5;124m\"\u001b[39m\u001b[38;5;124mSuccess\u001b[39m\u001b[38;5;124m\"\u001b[39m\n",
      "\u001b[0;31mAssertionError\u001b[0m: "
     ]
    }
   ],
   "source": [
    "print(process(\"2022/12/12\"))  # AssertionError"
   ]
  },
  {
   "cell_type": "markdown",
   "id": "15b11066",
   "metadata": {},
   "source": [
    "### Is there any problem?"
   ]
  },
  {
   "cell_type": "code",
   "execution_count": 14,
   "id": "fb53941f",
   "metadata": {},
   "outputs": [
    {
     "name": "stdout",
     "output_type": "stream",
     "text": [
      "Success\r\n",
      "Traceback (most recent call last):\r\n",
      "  File \"/Users/aburtsev/Code/PythonTricks/custom_type_approach1.py\", line 10, in <module>\r\n",
      "    print(process(\"2022/12/12\"))  # AssertionError\r\n",
      "  File \"/Users/aburtsev/Code/PythonTricks/custom_type_approach1.py\", line 5, in process\r\n",
      "    assert re.match(date_like_pattern, date_string)\r\n",
      "AssertionError\r\n"
     ]
    }
   ],
   "source": [
    "! python3 custom_type_approach1.py"
   ]
  },
  {
   "cell_type": "code",
   "execution_count": 15,
   "id": "4ad03c3b",
   "metadata": {},
   "outputs": [
    {
     "name": "stdout",
     "output_type": "stream",
     "text": [
      "Success\r\n",
      "Success\r\n"
     ]
    }
   ],
   "source": [
    "! python3 -O custom_type_approach1.py"
   ]
  },
  {
   "cell_type": "markdown",
   "id": "fb9330e3",
   "metadata": {},
   "source": [
    "Python's flag `-O` means optmization. Used quite often when code run in prod. It does a lot of optimizations, including ommiting all asserts"
   ]
  },
  {
   "cell_type": "markdown",
   "id": "870ab7e5",
   "metadata": {},
   "source": [
    "## Approach 2 with re "
   ]
  },
  {
   "cell_type": "code",
   "execution_count": 17,
   "id": "34a14f41",
   "metadata": {},
   "outputs": [],
   "source": [
    "def process(date_string: str) -> str:\n",
    "    if not re.match(date_like_pattern, date_string):\n",
    "        raise ValueError(f'Input param is not date: {date_string}')\n",
    "    return \"Success\""
   ]
  },
  {
   "cell_type": "code",
   "execution_count": 18,
   "id": "6ea596ad",
   "metadata": {},
   "outputs": [
    {
     "name": "stdout",
     "output_type": "stream",
     "text": [
      "Success\n"
     ]
    }
   ],
   "source": [
    "print(process(\"2022-12-12\"))  # Success"
   ]
  },
  {
   "cell_type": "code",
   "execution_count": 20,
   "id": "a69479cf",
   "metadata": {},
   "outputs": [
    {
     "ename": "ValueError",
     "evalue": "Input param is not date: 2022/12/12",
     "output_type": "error",
     "traceback": [
      "\u001b[0;31m---------------------------------------------------------------------------\u001b[0m",
      "\u001b[0;31mValueError\u001b[0m                                Traceback (most recent call last)",
      "Cell \u001b[0;32mIn[20], line 1\u001b[0m\n\u001b[0;32m----> 1\u001b[0m \u001b[38;5;28mprint\u001b[39m(\u001b[43mprocess\u001b[49m\u001b[43m(\u001b[49m\u001b[38;5;124;43m\"\u001b[39;49m\u001b[38;5;124;43m2022/12/12\u001b[39;49m\u001b[38;5;124;43m\"\u001b[39;49m\u001b[43m)\u001b[49m)  \u001b[38;5;66;03m# ValueError\u001b[39;00m\n",
      "Cell \u001b[0;32mIn[17], line 3\u001b[0m, in \u001b[0;36mprocess\u001b[0;34m(date_string)\u001b[0m\n\u001b[1;32m      1\u001b[0m \u001b[38;5;28;01mdef\u001b[39;00m \u001b[38;5;21mprocess\u001b[39m(date_string: \u001b[38;5;28mstr\u001b[39m) \u001b[38;5;241m-\u001b[39m\u001b[38;5;241m>\u001b[39m \u001b[38;5;28mstr\u001b[39m:\n\u001b[1;32m      2\u001b[0m     \u001b[38;5;28;01mif\u001b[39;00m \u001b[38;5;129;01mnot\u001b[39;00m re\u001b[38;5;241m.\u001b[39mmatch(date_like_pattern, date_string):\n\u001b[0;32m----> 3\u001b[0m         \u001b[38;5;28;01mraise\u001b[39;00m \u001b[38;5;167;01mValueError\u001b[39;00m(\u001b[38;5;124mf\u001b[39m\u001b[38;5;124m'\u001b[39m\u001b[38;5;124mInput param is not date: \u001b[39m\u001b[38;5;132;01m{\u001b[39;00mdate_string\u001b[38;5;132;01m}\u001b[39;00m\u001b[38;5;124m'\u001b[39m)\n\u001b[1;32m      4\u001b[0m     \u001b[38;5;28;01mreturn\u001b[39;00m \u001b[38;5;124m\"\u001b[39m\u001b[38;5;124mSuccess\u001b[39m\u001b[38;5;124m\"\u001b[39m\n",
      "\u001b[0;31mValueError\u001b[0m: Input param is not date: 2022/12/12"
     ]
    }
   ],
   "source": [
    "print(process(\"2022/12/12\"))  # ValueError"
   ]
  },
  {
   "cell_type": "markdown",
   "id": "534271a4",
   "metadata": {},
   "source": [
    "### Downside of that approach?"
   ]
  },
  {
   "cell_type": "markdown",
   "id": "b21a511f",
   "metadata": {},
   "source": [
    " Some correct-looking string might be incorrect date"
   ]
  },
  {
   "cell_type": "code",
   "execution_count": 23,
   "id": "41493d36",
   "metadata": {},
   "outputs": [
    {
     "name": "stdout",
     "output_type": "stream",
     "text": [
      "Success\n"
     ]
    }
   ],
   "source": [
    "print(process(\"2022-13-99\"))"
   ]
  },
  {
   "cell_type": "markdown",
   "id": "cd1bc266",
   "metadata": {},
   "source": [
    "## Approach 3 with datetime"
   ]
  },
  {
   "cell_type": "code",
   "execution_count": 29,
   "id": "ada4db36",
   "metadata": {},
   "outputs": [],
   "source": [
    "def validate_date_string(date_string: str) -> None:\n",
    "    try:\n",
    "        datetime.strptime(date_string, \"%Y-%m-%d\")\n",
    "    except ValueError:\n",
    "        raise ValueError(f'Input param is not date: {date_string}')\n",
    "\n",
    "def process(date_string: str) -> str:\n",
    "    validate_date_string(date_string)\n",
    "    return \"Success\""
   ]
  },
  {
   "cell_type": "code",
   "execution_count": 30,
   "id": "452da917",
   "metadata": {},
   "outputs": [
    {
     "name": "stdout",
     "output_type": "stream",
     "text": [
      "Success\n"
     ]
    }
   ],
   "source": [
    "print(process(\"2022-12-12\")) "
   ]
  },
  {
   "cell_type": "code",
   "execution_count": 31,
   "id": "1e11c67d",
   "metadata": {},
   "outputs": [
    {
     "ename": "ValueError",
     "evalue": "Input param is not date: 2022-13-13",
     "output_type": "error",
     "traceback": [
      "\u001b[0;31m---------------------------------------------------------------------------\u001b[0m",
      "\u001b[0;31mValueError\u001b[0m                                Traceback (most recent call last)",
      "Cell \u001b[0;32mIn[29], line 3\u001b[0m, in \u001b[0;36mvalidate_date_string\u001b[0;34m(date_string)\u001b[0m\n\u001b[1;32m      2\u001b[0m \u001b[38;5;28;01mtry\u001b[39;00m:\n\u001b[0;32m----> 3\u001b[0m     \u001b[43mdatetime\u001b[49m\u001b[38;5;241;43m.\u001b[39;49m\u001b[43mstrptime\u001b[49m\u001b[43m(\u001b[49m\u001b[43mdate_string\u001b[49m\u001b[43m,\u001b[49m\u001b[43m \u001b[49m\u001b[38;5;124;43m\"\u001b[39;49m\u001b[38;5;124;43m%\u001b[39;49m\u001b[38;5;124;43mY-\u001b[39;49m\u001b[38;5;124;43m%\u001b[39;49m\u001b[38;5;124;43mm-\u001b[39;49m\u001b[38;5;132;43;01m%d\u001b[39;49;00m\u001b[38;5;124;43m\"\u001b[39;49m\u001b[43m)\u001b[49m\n\u001b[1;32m      4\u001b[0m \u001b[38;5;28;01mexcept\u001b[39;00m \u001b[38;5;167;01mValueError\u001b[39;00m:\n",
      "File \u001b[0;32m~/opt/miniconda3/lib/python3.9/_strptime.py:568\u001b[0m, in \u001b[0;36m_strptime_datetime\u001b[0;34m(cls, data_string, format)\u001b[0m\n\u001b[1;32m    566\u001b[0m \u001b[38;5;250m\u001b[39m\u001b[38;5;124;03m\"\"\"Return a class cls instance based on the input string and the\u001b[39;00m\n\u001b[1;32m    567\u001b[0m \u001b[38;5;124;03mformat string.\"\"\"\u001b[39;00m\n\u001b[0;32m--> 568\u001b[0m tt, fraction, gmtoff_fraction \u001b[38;5;241m=\u001b[39m \u001b[43m_strptime\u001b[49m\u001b[43m(\u001b[49m\u001b[43mdata_string\u001b[49m\u001b[43m,\u001b[49m\u001b[43m \u001b[49m\u001b[38;5;28;43mformat\u001b[39;49m\u001b[43m)\u001b[49m\n\u001b[1;32m    569\u001b[0m tzname, gmtoff \u001b[38;5;241m=\u001b[39m tt[\u001b[38;5;241m-\u001b[39m\u001b[38;5;241m2\u001b[39m:]\n",
      "File \u001b[0;32m~/opt/miniconda3/lib/python3.9/_strptime.py:349\u001b[0m, in \u001b[0;36m_strptime\u001b[0;34m(data_string, format)\u001b[0m\n\u001b[1;32m    348\u001b[0m \u001b[38;5;28;01mif\u001b[39;00m \u001b[38;5;129;01mnot\u001b[39;00m found:\n\u001b[0;32m--> 349\u001b[0m     \u001b[38;5;28;01mraise\u001b[39;00m \u001b[38;5;167;01mValueError\u001b[39;00m(\u001b[38;5;124m\"\u001b[39m\u001b[38;5;124mtime data \u001b[39m\u001b[38;5;132;01m%r\u001b[39;00m\u001b[38;5;124m does not match format \u001b[39m\u001b[38;5;132;01m%r\u001b[39;00m\u001b[38;5;124m\"\u001b[39m \u001b[38;5;241m%\u001b[39m\n\u001b[1;32m    350\u001b[0m                      (data_string, \u001b[38;5;28mformat\u001b[39m))\n\u001b[1;32m    351\u001b[0m \u001b[38;5;28;01mif\u001b[39;00m \u001b[38;5;28mlen\u001b[39m(data_string) \u001b[38;5;241m!=\u001b[39m found\u001b[38;5;241m.\u001b[39mend():\n",
      "\u001b[0;31mValueError\u001b[0m: time data '2022-13-13' does not match format '%Y-%m-%d'",
      "\nDuring handling of the above exception, another exception occurred:\n",
      "\u001b[0;31mValueError\u001b[0m                                Traceback (most recent call last)",
      "Cell \u001b[0;32mIn[31], line 1\u001b[0m\n\u001b[0;32m----> 1\u001b[0m \u001b[38;5;28mprint\u001b[39m(\u001b[43mprocess\u001b[49m\u001b[43m(\u001b[49m\u001b[38;5;124;43m\"\u001b[39;49m\u001b[38;5;124;43m2022-13-13\u001b[39;49m\u001b[38;5;124;43m\"\u001b[39;49m\u001b[43m)\u001b[49m)\n",
      "Cell \u001b[0;32mIn[29], line 8\u001b[0m, in \u001b[0;36mprocess\u001b[0;34m(date_string)\u001b[0m\n\u001b[1;32m      7\u001b[0m \u001b[38;5;28;01mdef\u001b[39;00m \u001b[38;5;21mprocess\u001b[39m(date_string: \u001b[38;5;28mstr\u001b[39m) \u001b[38;5;241m-\u001b[39m\u001b[38;5;241m>\u001b[39m \u001b[38;5;28mstr\u001b[39m:\n\u001b[0;32m----> 8\u001b[0m     \u001b[43mvalidate_date_string\u001b[49m\u001b[43m(\u001b[49m\u001b[43mdate_string\u001b[49m\u001b[43m)\u001b[49m\n\u001b[1;32m      9\u001b[0m     \u001b[38;5;28;01mreturn\u001b[39;00m \u001b[38;5;124m\"\u001b[39m\u001b[38;5;124mSuccess\u001b[39m\u001b[38;5;124m\"\u001b[39m\n",
      "Cell \u001b[0;32mIn[29], line 5\u001b[0m, in \u001b[0;36mvalidate_date_string\u001b[0;34m(date_string)\u001b[0m\n\u001b[1;32m      3\u001b[0m     datetime\u001b[38;5;241m.\u001b[39mstrptime(date_string, \u001b[38;5;124m\"\u001b[39m\u001b[38;5;124m%\u001b[39m\u001b[38;5;124mY-\u001b[39m\u001b[38;5;124m%\u001b[39m\u001b[38;5;124mm-\u001b[39m\u001b[38;5;132;01m%d\u001b[39;00m\u001b[38;5;124m\"\u001b[39m)\n\u001b[1;32m      4\u001b[0m \u001b[38;5;28;01mexcept\u001b[39;00m \u001b[38;5;167;01mValueError\u001b[39;00m:\n\u001b[0;32m----> 5\u001b[0m     \u001b[38;5;28;01mraise\u001b[39;00m \u001b[38;5;167;01mValueError\u001b[39;00m(\u001b[38;5;124mf\u001b[39m\u001b[38;5;124m'\u001b[39m\u001b[38;5;124mInput param is not date: \u001b[39m\u001b[38;5;132;01m{\u001b[39;00mdate_string\u001b[38;5;132;01m}\u001b[39;00m\u001b[38;5;124m'\u001b[39m)\n",
      "\u001b[0;31mValueError\u001b[0m: Input param is not date: 2022-13-13"
     ]
    }
   ],
   "source": [
    "print(process(\"2022-13-13\"))"
   ]
  },
  {
   "cell_type": "markdown",
   "id": "2fb16300",
   "metadata": {},
   "source": [
    "### Downside?"
   ]
  },
  {
   "cell_type": "markdown",
   "id": "3d3d6453",
   "metadata": {},
   "source": [
    "Actually, it's already good-enough. Potential downside, that we need to repeat it in each function and it's quite easy to forget to add it."
   ]
  },
  {
   "cell_type": "markdown",
   "id": "9803e83d",
   "metadata": {},
   "source": [
    "## Approach 4 with decorator"
   ]
  },
  {
   "cell_type": "code",
   "execution_count": 33,
   "id": "1abc93c6",
   "metadata": {},
   "outputs": [],
   "source": [
    "def validate_date(func):\n",
    "    def wrapper(date_string):\n",
    "        try:\n",
    "            datetime.strptime(date_string, \"%Y-%m-%d\")\n",
    "            return func(date_string)\n",
    "        except ValueError:\n",
    "            raise ValueError(f'Input param is not date: {date_string}')\n",
    "\n",
    "    return wrapper"
   ]
  },
  {
   "cell_type": "code",
   "execution_count": 34,
   "id": "d2ecc447",
   "metadata": {},
   "outputs": [],
   "source": [
    "@validate_date\n",
    "def process(date_string: str) -> str:\n",
    "    return \"Success\""
   ]
  },
  {
   "cell_type": "code",
   "execution_count": 35,
   "id": "3327cfb4",
   "metadata": {},
   "outputs": [
    {
     "name": "stdout",
     "output_type": "stream",
     "text": [
      "Success\n"
     ]
    }
   ],
   "source": [
    "print(process(\"2022-12-12\"))"
   ]
  },
  {
   "cell_type": "code",
   "execution_count": 36,
   "id": "abd46f76",
   "metadata": {},
   "outputs": [
    {
     "ename": "ValueError",
     "evalue": "Input param is not date: 2022-13-13",
     "output_type": "error",
     "traceback": [
      "\u001b[0;31m---------------------------------------------------------------------------\u001b[0m",
      "\u001b[0;31mValueError\u001b[0m                                Traceback (most recent call last)",
      "Cell \u001b[0;32mIn[33], line 4\u001b[0m, in \u001b[0;36mvalidate_date.<locals>.wrapper\u001b[0;34m(date_string)\u001b[0m\n\u001b[1;32m      3\u001b[0m \u001b[38;5;28;01mtry\u001b[39;00m:\n\u001b[0;32m----> 4\u001b[0m     \u001b[43mdatetime\u001b[49m\u001b[38;5;241;43m.\u001b[39;49m\u001b[43mstrptime\u001b[49m\u001b[43m(\u001b[49m\u001b[43mdate_string\u001b[49m\u001b[43m,\u001b[49m\u001b[43m \u001b[49m\u001b[38;5;124;43m\"\u001b[39;49m\u001b[38;5;124;43m%\u001b[39;49m\u001b[38;5;124;43mY-\u001b[39;49m\u001b[38;5;124;43m%\u001b[39;49m\u001b[38;5;124;43mm-\u001b[39;49m\u001b[38;5;132;43;01m%d\u001b[39;49;00m\u001b[38;5;124;43m\"\u001b[39;49m\u001b[43m)\u001b[49m\n\u001b[1;32m      5\u001b[0m     \u001b[38;5;28;01mreturn\u001b[39;00m func(date_string)\n",
      "File \u001b[0;32m~/opt/miniconda3/lib/python3.9/_strptime.py:568\u001b[0m, in \u001b[0;36m_strptime_datetime\u001b[0;34m(cls, data_string, format)\u001b[0m\n\u001b[1;32m    566\u001b[0m \u001b[38;5;250m\u001b[39m\u001b[38;5;124;03m\"\"\"Return a class cls instance based on the input string and the\u001b[39;00m\n\u001b[1;32m    567\u001b[0m \u001b[38;5;124;03mformat string.\"\"\"\u001b[39;00m\n\u001b[0;32m--> 568\u001b[0m tt, fraction, gmtoff_fraction \u001b[38;5;241m=\u001b[39m \u001b[43m_strptime\u001b[49m\u001b[43m(\u001b[49m\u001b[43mdata_string\u001b[49m\u001b[43m,\u001b[49m\u001b[43m \u001b[49m\u001b[38;5;28;43mformat\u001b[39;49m\u001b[43m)\u001b[49m\n\u001b[1;32m    569\u001b[0m tzname, gmtoff \u001b[38;5;241m=\u001b[39m tt[\u001b[38;5;241m-\u001b[39m\u001b[38;5;241m2\u001b[39m:]\n",
      "File \u001b[0;32m~/opt/miniconda3/lib/python3.9/_strptime.py:349\u001b[0m, in \u001b[0;36m_strptime\u001b[0;34m(data_string, format)\u001b[0m\n\u001b[1;32m    348\u001b[0m \u001b[38;5;28;01mif\u001b[39;00m \u001b[38;5;129;01mnot\u001b[39;00m found:\n\u001b[0;32m--> 349\u001b[0m     \u001b[38;5;28;01mraise\u001b[39;00m \u001b[38;5;167;01mValueError\u001b[39;00m(\u001b[38;5;124m\"\u001b[39m\u001b[38;5;124mtime data \u001b[39m\u001b[38;5;132;01m%r\u001b[39;00m\u001b[38;5;124m does not match format \u001b[39m\u001b[38;5;132;01m%r\u001b[39;00m\u001b[38;5;124m\"\u001b[39m \u001b[38;5;241m%\u001b[39m\n\u001b[1;32m    350\u001b[0m                      (data_string, \u001b[38;5;28mformat\u001b[39m))\n\u001b[1;32m    351\u001b[0m \u001b[38;5;28;01mif\u001b[39;00m \u001b[38;5;28mlen\u001b[39m(data_string) \u001b[38;5;241m!=\u001b[39m found\u001b[38;5;241m.\u001b[39mend():\n",
      "\u001b[0;31mValueError\u001b[0m: time data '2022-13-13' does not match format '%Y-%m-%d'",
      "\nDuring handling of the above exception, another exception occurred:\n",
      "\u001b[0;31mValueError\u001b[0m                                Traceback (most recent call last)",
      "Cell \u001b[0;32mIn[36], line 1\u001b[0m\n\u001b[0;32m----> 1\u001b[0m \u001b[38;5;28mprint\u001b[39m(\u001b[43mprocess\u001b[49m\u001b[43m(\u001b[49m\u001b[38;5;124;43m\"\u001b[39;49m\u001b[38;5;124;43m2022-13-13\u001b[39;49m\u001b[38;5;124;43m\"\u001b[39;49m\u001b[43m)\u001b[49m)\n",
      "Cell \u001b[0;32mIn[33], line 7\u001b[0m, in \u001b[0;36mvalidate_date.<locals>.wrapper\u001b[0;34m(date_string)\u001b[0m\n\u001b[1;32m      5\u001b[0m     \u001b[38;5;28;01mreturn\u001b[39;00m func(date_string)\n\u001b[1;32m      6\u001b[0m \u001b[38;5;28;01mexcept\u001b[39;00m \u001b[38;5;167;01mValueError\u001b[39;00m:\n\u001b[0;32m----> 7\u001b[0m     \u001b[38;5;28;01mraise\u001b[39;00m \u001b[38;5;167;01mValueError\u001b[39;00m(\u001b[38;5;124mf\u001b[39m\u001b[38;5;124m'\u001b[39m\u001b[38;5;124mInput param is not date: \u001b[39m\u001b[38;5;132;01m{\u001b[39;00mdate_string\u001b[38;5;132;01m}\u001b[39;00m\u001b[38;5;124m'\u001b[39m)\n",
      "\u001b[0;31mValueError\u001b[0m: Input param is not date: 2022-13-13"
     ]
    }
   ],
   "source": [
    "print(process(\"2022-13-13\"))"
   ]
  },
  {
   "cell_type": "markdown",
   "id": "ac367586",
   "metadata": {},
   "source": [
    "### Downside?"
   ]
  },
  {
   "cell_type": "markdown",
   "id": "5fa9f828",
   "metadata": {},
   "source": [
    "Only applicable to function with 1 param"
   ]
  },
  {
   "cell_type": "markdown",
   "id": "24e6c406",
   "metadata": {},
   "source": [
    "## Approach 5 with configurable decorator"
   ]
  },
  {
   "cell_type": "code",
   "execution_count": 39,
   "id": "62bcb3e2",
   "metadata": {},
   "outputs": [],
   "source": [
    "def validate_arg_is_date(arg_position):\n",
    "    def internal_decorator(func):\n",
    "        def wrapper(*args, **kwargs):\n",
    "            try:\n",
    "                datetime.strptime(args[arg_position], \"%Y-%m-%d\")\n",
    "                return func(*args, **kwargs)\n",
    "            except ValueError:\n",
    "                raise ValueError(f'Input param is not date: {args[arg_position]}')\n",
    "\n",
    "        return wrapper\n",
    "    return internal_decorator"
   ]
  },
  {
   "cell_type": "code",
   "execution_count": 40,
   "id": "f6614f5d",
   "metadata": {},
   "outputs": [],
   "source": [
    "@validate_arg_is_date(1)\n",
    "def process(first_param: int, date_string: str) -> str:\n",
    "    return \"Success\""
   ]
  },
  {
   "cell_type": "code",
   "execution_count": 42,
   "id": "13b0434f",
   "metadata": {},
   "outputs": [
    {
     "name": "stdout",
     "output_type": "stream",
     "text": [
      "Success\n"
     ]
    }
   ],
   "source": [
    "print(process(10, \"2022-12-12\"))"
   ]
  },
  {
   "cell_type": "code",
   "execution_count": 41,
   "id": "c7dd9200",
   "metadata": {},
   "outputs": [
    {
     "ename": "ValueError",
     "evalue": "Input param is not date: 2022-13-13",
     "output_type": "error",
     "traceback": [
      "\u001b[0;31m---------------------------------------------------------------------------\u001b[0m",
      "\u001b[0;31mValueError\u001b[0m                                Traceback (most recent call last)",
      "Cell \u001b[0;32mIn[39], line 5\u001b[0m, in \u001b[0;36mvalidate_arg_is_date.<locals>.internal_decorator.<locals>.wrapper\u001b[0;34m(*args, **kwargs)\u001b[0m\n\u001b[1;32m      4\u001b[0m \u001b[38;5;28;01mtry\u001b[39;00m:\n\u001b[0;32m----> 5\u001b[0m     \u001b[43mdatetime\u001b[49m\u001b[38;5;241;43m.\u001b[39;49m\u001b[43mstrptime\u001b[49m\u001b[43m(\u001b[49m\u001b[43margs\u001b[49m\u001b[43m[\u001b[49m\u001b[43marg_position\u001b[49m\u001b[43m]\u001b[49m\u001b[43m,\u001b[49m\u001b[43m \u001b[49m\u001b[38;5;124;43m\"\u001b[39;49m\u001b[38;5;124;43m%\u001b[39;49m\u001b[38;5;124;43mY-\u001b[39;49m\u001b[38;5;124;43m%\u001b[39;49m\u001b[38;5;124;43mm-\u001b[39;49m\u001b[38;5;132;43;01m%d\u001b[39;49;00m\u001b[38;5;124;43m\"\u001b[39;49m\u001b[43m)\u001b[49m\n\u001b[1;32m      6\u001b[0m     \u001b[38;5;28;01mreturn\u001b[39;00m func(\u001b[38;5;241m*\u001b[39margs, \u001b[38;5;241m*\u001b[39m\u001b[38;5;241m*\u001b[39mkwargs)\n",
      "File \u001b[0;32m~/opt/miniconda3/lib/python3.9/_strptime.py:568\u001b[0m, in \u001b[0;36m_strptime_datetime\u001b[0;34m(cls, data_string, format)\u001b[0m\n\u001b[1;32m    566\u001b[0m \u001b[38;5;250m\u001b[39m\u001b[38;5;124;03m\"\"\"Return a class cls instance based on the input string and the\u001b[39;00m\n\u001b[1;32m    567\u001b[0m \u001b[38;5;124;03mformat string.\"\"\"\u001b[39;00m\n\u001b[0;32m--> 568\u001b[0m tt, fraction, gmtoff_fraction \u001b[38;5;241m=\u001b[39m \u001b[43m_strptime\u001b[49m\u001b[43m(\u001b[49m\u001b[43mdata_string\u001b[49m\u001b[43m,\u001b[49m\u001b[43m \u001b[49m\u001b[38;5;28;43mformat\u001b[39;49m\u001b[43m)\u001b[49m\n\u001b[1;32m    569\u001b[0m tzname, gmtoff \u001b[38;5;241m=\u001b[39m tt[\u001b[38;5;241m-\u001b[39m\u001b[38;5;241m2\u001b[39m:]\n",
      "File \u001b[0;32m~/opt/miniconda3/lib/python3.9/_strptime.py:349\u001b[0m, in \u001b[0;36m_strptime\u001b[0;34m(data_string, format)\u001b[0m\n\u001b[1;32m    348\u001b[0m \u001b[38;5;28;01mif\u001b[39;00m \u001b[38;5;129;01mnot\u001b[39;00m found:\n\u001b[0;32m--> 349\u001b[0m     \u001b[38;5;28;01mraise\u001b[39;00m \u001b[38;5;167;01mValueError\u001b[39;00m(\u001b[38;5;124m\"\u001b[39m\u001b[38;5;124mtime data \u001b[39m\u001b[38;5;132;01m%r\u001b[39;00m\u001b[38;5;124m does not match format \u001b[39m\u001b[38;5;132;01m%r\u001b[39;00m\u001b[38;5;124m\"\u001b[39m \u001b[38;5;241m%\u001b[39m\n\u001b[1;32m    350\u001b[0m                      (data_string, \u001b[38;5;28mformat\u001b[39m))\n\u001b[1;32m    351\u001b[0m \u001b[38;5;28;01mif\u001b[39;00m \u001b[38;5;28mlen\u001b[39m(data_string) \u001b[38;5;241m!=\u001b[39m found\u001b[38;5;241m.\u001b[39mend():\n",
      "\u001b[0;31mValueError\u001b[0m: time data '2022-13-13' does not match format '%Y-%m-%d'",
      "\nDuring handling of the above exception, another exception occurred:\n",
      "\u001b[0;31mValueError\u001b[0m                                Traceback (most recent call last)",
      "Cell \u001b[0;32mIn[41], line 1\u001b[0m\n\u001b[0;32m----> 1\u001b[0m \u001b[38;5;28mprint\u001b[39m(\u001b[43mprocess\u001b[49m\u001b[43m(\u001b[49m\u001b[38;5;241;43m10\u001b[39;49m\u001b[43m,\u001b[49m\u001b[43m \u001b[49m\u001b[38;5;124;43m\"\u001b[39;49m\u001b[38;5;124;43m2022-13-13\u001b[39;49m\u001b[38;5;124;43m\"\u001b[39;49m\u001b[43m)\u001b[49m)\n",
      "Cell \u001b[0;32mIn[39], line 8\u001b[0m, in \u001b[0;36mvalidate_arg_is_date.<locals>.internal_decorator.<locals>.wrapper\u001b[0;34m(*args, **kwargs)\u001b[0m\n\u001b[1;32m      6\u001b[0m     \u001b[38;5;28;01mreturn\u001b[39;00m func(\u001b[38;5;241m*\u001b[39margs, \u001b[38;5;241m*\u001b[39m\u001b[38;5;241m*\u001b[39mkwargs)\n\u001b[1;32m      7\u001b[0m \u001b[38;5;28;01mexcept\u001b[39;00m \u001b[38;5;167;01mValueError\u001b[39;00m:\n\u001b[0;32m----> 8\u001b[0m     \u001b[38;5;28;01mraise\u001b[39;00m \u001b[38;5;167;01mValueError\u001b[39;00m(\u001b[38;5;124mf\u001b[39m\u001b[38;5;124m'\u001b[39m\u001b[38;5;124mInput param is not date: \u001b[39m\u001b[38;5;132;01m{\u001b[39;00margs[arg_position]\u001b[38;5;132;01m}\u001b[39;00m\u001b[38;5;124m'\u001b[39m)\n",
      "\u001b[0;31mValueError\u001b[0m: Input param is not date: 2022-13-13"
     ]
    }
   ],
   "source": [
    "print(process(10, \"2022-13-13\"))"
   ]
  },
  {
   "cell_type": "markdown",
   "id": "c5d4f664",
   "metadata": {},
   "source": [
    "### Downside?"
   ]
  },
  {
   "cell_type": "markdown",
   "id": "bf1fb796",
   "metadata": {},
   "source": [
    "If we add new argument to function, we need not to forget to update index in decorators, but everyone always does that"
   ]
  },
  {
   "cell_type": "markdown",
   "id": "4ca2413f",
   "metadata": {},
   "source": [
    "## Approach 6 with custom Type via pydantic"
   ]
  },
  {
   "cell_type": "code",
   "execution_count": 44,
   "id": "1504d764",
   "metadata": {},
   "outputs": [
    {
     "name": "stdout",
     "output_type": "stream",
     "text": [
      "Requirement already satisfied: pydantic in /Users/aburtsev/opt/miniconda3/lib/python3.9/site-packages (1.10.6)\r\n",
      "Requirement already satisfied: typing-extensions>=4.2.0 in /Users/aburtsev/opt/miniconda3/lib/python3.9/site-packages (from pydantic) (4.5.0)\r\n"
     ]
    }
   ],
   "source": [
    "! pip install pydantic"
   ]
  },
  {
   "cell_type": "code",
   "execution_count": 54,
   "id": "2dc15817",
   "metadata": {},
   "outputs": [],
   "source": [
    "from pydantic import validate_arguments"
   ]
  },
  {
   "cell_type": "code",
   "execution_count": 55,
   "id": "d41d9cf7",
   "metadata": {},
   "outputs": [],
   "source": [
    "class DateString(str):\n",
    "    @classmethod\n",
    "    def validate(cls, value: str) -> str:\n",
    "        try:\n",
    "            datetime.strptime(value, \"%Y-%m-%d\")\n",
    "        except ValueError:\n",
    "            raise ValueError(f'Input param is not date: {value}')\n",
    "        return value\n",
    "\n",
    "    @classmethod\n",
    "    def __get_validators__(cls) -> 'CallableGenerator':\n",
    "        yield cls.validate\n",
    "\n",
    "\n",
    "@validate_arguments\n",
    "def process(s3_prefix: str, date_string: DateString) -> str:\n",
    "    return \"Success\""
   ]
  },
  {
   "cell_type": "code",
   "execution_count": 56,
   "id": "bfb003a4",
   "metadata": {},
   "outputs": [
    {
     "name": "stdout",
     "output_type": "stream",
     "text": [
      "Success\n"
     ]
    }
   ],
   "source": [
    "print(process(\"2022-12-12\"))"
   ]
  },
  {
   "cell_type": "code",
   "execution_count": 57,
   "id": "105c59b7",
   "metadata": {},
   "outputs": [
    {
     "ename": "ValidationError",
     "evalue": "1 validation error for Process\ndate_string\n  Input param is not date: 2022-13-13 (type=value_error)",
     "output_type": "error",
     "traceback": [
      "\u001b[0;31m---------------------------------------------------------------------------\u001b[0m",
      "\u001b[0;31mValidationError\u001b[0m                           Traceback (most recent call last)",
      "Cell \u001b[0;32mIn[57], line 1\u001b[0m\n\u001b[0;32m----> 1\u001b[0m \u001b[38;5;28mprint\u001b[39m(\u001b[43mprocess\u001b[49m\u001b[43m(\u001b[49m\u001b[38;5;124;43m\"\u001b[39;49m\u001b[38;5;124;43m2022-13-13\u001b[39;49m\u001b[38;5;124;43m\"\u001b[39;49m\u001b[43m)\u001b[49m)\n",
      "File \u001b[0;32m~/opt/miniconda3/lib/python3.9/site-packages/pydantic/decorator.py:40\u001b[0m, in \u001b[0;36mpydantic.decorator.validate_arguments.validate.wrapper_function\u001b[0;34m()\u001b[0m\n",
      "File \u001b[0;32m~/opt/miniconda3/lib/python3.9/site-packages/pydantic/decorator.py:133\u001b[0m, in \u001b[0;36mpydantic.decorator.ValidatedFunction.call\u001b[0;34m()\u001b[0m\n",
      "File \u001b[0;32m~/opt/miniconda3/lib/python3.9/site-packages/pydantic/decorator.py:130\u001b[0m, in \u001b[0;36mpydantic.decorator.ValidatedFunction.init_model_instance\u001b[0;34m()\u001b[0m\n",
      "File \u001b[0;32m~/opt/miniconda3/lib/python3.9/site-packages/pydantic/main.py:341\u001b[0m, in \u001b[0;36mpydantic.main.BaseModel.__init__\u001b[0;34m()\u001b[0m\n",
      "\u001b[0;31mValidationError\u001b[0m: 1 validation error for Process\ndate_string\n  Input param is not date: 2022-13-13 (type=value_error)"
     ]
    }
   ],
   "source": [
    "print(process(\"2022-13-13\"))"
   ]
  },
  {
   "cell_type": "markdown",
   "id": "5e5e58ed",
   "metadata": {},
   "source": [
    "### Downside ?"
   ]
  },
  {
   "cell_type": "markdown",
   "id": "1709b4b2",
   "metadata": {},
   "source": [
    "I think it's the best way to solve that issue, but code might looks scary at first"
   ]
  },
  {
   "cell_type": "code",
   "execution_count": null,
   "id": "66fdfbd6",
   "metadata": {},
   "outputs": [],
   "source": []
  }
 ],
 "metadata": {
  "kernelspec": {
   "display_name": "Python 3 (ipykernel)",
   "language": "python",
   "name": "python3"
  },
  "language_info": {
   "codemirror_mode": {
    "name": "ipython",
    "version": 3
   },
   "file_extension": ".py",
   "mimetype": "text/x-python",
   "name": "python",
   "nbconvert_exporter": "python",
   "pygments_lexer": "ipython3",
   "version": "3.9.12"
  }
 },
 "nbformat": 4,
 "nbformat_minor": 5
}
