{
 "cells": [
  {
   "cell_type": "markdown",
   "source": [
    "## Walrus Operator\n",
    "The \"walrus operator\", officially known as the assignment expression operator, is a feature in Python that was introduced in Python 3.8. The operator is denoted by :=.\n",
    "\n",
    "```\n",
    "# Without the walrus operator\n",
    "value = some_function()\n",
    "if value:\n",
    "    print(f'The result is {value}.')\n",
    "```\n",
    "\n",
    "```\n",
    "# With the walrus operator\n",
    "if (value := some_function()):\n",
    "    print(f'The result is {value}.')\n",
    "```\n"
   ],
   "metadata": {
    "collapsed": false
   }
  },
  {
   "cell_type": "code",
   "execution_count": 3,
   "outputs": [
    {
     "name": "stdout",
     "output_type": "stream",
     "text": [
      "[1, 2, 4, 6]\n"
     ]
    }
   ],
   "source": [
    "# Example 2:\n",
    "\n",
    "def safe_int(val):\n",
    "    try:\n",
    "        return int(val)\n",
    "    except ValueError:\n",
    "        return None\n",
    "\n",
    "data = [\"1\", \"2\", \"three\", \"4\", \"five\", \"6\"]\n",
    "int_data = [num for item in data if (num := safe_int(item)) is not None]\n",
    "print(int_data)"
   ],
   "metadata": {
    "collapsed": false,
    "ExecuteTime": {
     "end_time": "2023-07-01T21:44:52.333377Z",
     "start_time": "2023-07-01T21:44:52.329186Z"
    }
   }
  },
  {
   "cell_type": "code",
   "execution_count": 4,
   "outputs": [
    {
     "name": "stdout",
     "output_type": "stream",
     "text": [
      "Phone number found:  123-456-7890\n"
     ]
    }
   ],
   "source": [
    "# Example 3\n",
    "import re\n",
    "\n",
    "text = \"Hello, my name is John Doe and my number is 123-456-7890.\"\n",
    "\n",
    "if match := re.search(r'\\d{3}-\\d{3}-\\d{4}', text):\n",
    "    print(\"Phone number found: \", match.group())\n",
    "else:\n",
    "    print(\"No phone number found.\")"
   ],
   "metadata": {
    "collapsed": false,
    "ExecuteTime": {
     "end_time": "2023-07-01T21:45:20.093525Z",
     "start_time": "2023-07-01T21:45:20.071620Z"
    }
   }
  },
  {
   "cell_type": "code",
   "execution_count": null,
   "outputs": [],
   "source": [],
   "metadata": {
    "collapsed": false
   }
  }
 ],
 "metadata": {
  "kernelspec": {
   "display_name": "Python 3",
   "language": "python",
   "name": "python3"
  },
  "language_info": {
   "codemirror_mode": {
    "name": "ipython",
    "version": 2
   },
   "file_extension": ".py",
   "mimetype": "text/x-python",
   "name": "python",
   "nbconvert_exporter": "python",
   "pygments_lexer": "ipython2",
   "version": "2.7.6"
  }
 },
 "nbformat": 4,
 "nbformat_minor": 0
}
