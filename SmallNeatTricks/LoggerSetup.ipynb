{
 "cells": [
  {
   "cell_type": "markdown",
   "source": [
    "# Setting Up a Logger for a Python Project"
   ],
   "metadata": {
    "collapsed": false
   }
  },
  {
   "cell_type": "code",
   "execution_count": 1,
   "outputs": [],
   "source": [
    "import inspect\n",
    "a = 10\n",
    "b = \"ABC\""
   ],
   "metadata": {
    "collapsed": false,
    "ExecuteTime": {
     "end_time": "2023-07-05T00:35:28.494105Z",
     "start_time": "2023-07-05T00:35:28.489582Z"
    }
   }
  },
  {
   "cell_type": "markdown",
   "source": [
    "Logging is a handy feature that allows you to monitor what's happening in a running service. In Python, enabling logging is easy. Simply add the following lines to your Python file:\n",
    "```\n",
    "import logging\n",
    "\n",
    "logger = logging.getLogger()\n",
    "logger.setLevel(logging.INFO)\n",
    "logger.addHandler(logging.StreamHandler())\n",
    "\n",
    "logger.info(\"Log record, application running\")\n",
    "```\n",
    "\n",
    "However, problems can arise when these same lines start appearing in multiple files across the same project. If you need to update them all to follow a new formatting standard, it can become time-consuming and error-prone.\n",
    "\n",
    "A good solution to this problem is to extract the logging setup code into a dedicated function within a separate file and reuse it across your project.\n",
    "\n",
    "Consider this function `setup_basic_logger` in the file log_setup.py:\n"
   ],
   "metadata": {
    "collapsed": false
   }
  },
  {
   "cell_type": "code",
   "execution_count": 2,
   "outputs": [
    {
     "name": "stdout",
     "output_type": "stream",
     "text": [
      "def setup_basic_logger(name: str) -> logging.Logger:\n",
      "    logger = logging.getLogger(name)\n",
      "    logger.setLevel(logging.INFO)\n",
      "    logger.addHandler(logging.StreamHandler())\n",
      "    return logger\n",
      "\n"
     ]
    }
   ],
   "source": [
    "from log_setup import setup_basic_logger\n",
    "print(inspect.getsource(setup_basic_logger))"
   ],
   "metadata": {
    "collapsed": false,
    "ExecuteTime": {
     "end_time": "2023-07-05T00:35:28.707206Z",
     "start_time": "2023-07-05T00:35:28.700955Z"
    }
   }
  },
  {
   "cell_type": "markdown",
   "source": [
    "Then, you can import and use it in your script with just one line:"
   ],
   "metadata": {
    "collapsed": false
   }
  },
  {
   "cell_type": "code",
   "execution_count": 3,
   "metadata": {
    "collapsed": true,
    "ExecuteTime": {
     "end_time": "2023-07-05T00:35:29.021901Z",
     "start_time": "2023-07-05T00:35:29.018956Z"
    }
   },
   "outputs": [],
   "source": [
    "logger_basic = setup_basic_logger(__name__ + \"_basic\")"
   ]
  },
  {
   "cell_type": "code",
   "execution_count": 4,
   "outputs": [
    {
     "name": "stderr",
     "output_type": "stream",
     "text": [
      "Log record: 10, ABC\n"
     ]
    }
   ],
   "source": [
    "logger_basic.debug(\"Debug record\")\n",
    "logger_basic.info(f\"Log record: {a}, {b}\")"
   ],
   "metadata": {
    "collapsed": false,
    "ExecuteTime": {
     "end_time": "2023-07-05T00:35:29.194453Z",
     "start_time": "2023-07-05T00:35:29.186397Z"
    }
   }
  },
  {
   "cell_type": "markdown",
   "source": [
    "Here, `__name__` is a built-in Python variable that represents the name of the current module. Adding \"_basic\" makes the logger's name unique, which is especially helpful when you have multiple loggers in your project.\n",
    "\n",
    "You may notice that the `logger_basic.debug()` message is not displayed because the logging level is set to INFO, which is higher than DEBUG."
   ],
   "metadata": {
    "collapsed": false
   }
  },
  {
   "cell_type": "markdown",
   "source": [
    "To enhance our logger setup, we can add formatting and make the logging level configurable:"
   ],
   "metadata": {
    "collapsed": false
   }
  },
  {
   "cell_type": "code",
   "execution_count": 5,
   "outputs": [
    {
     "name": "stdout",
     "output_type": "stream",
     "text": [
      "def setup_formatted_logger(name: str, logging_level=logging.INFO) -> logging.Logger:\n",
      "    logger = logging.getLogger(name)\n",
      "    logger.setLevel(logging_level)\n",
      "\n",
      "    handler = logging.StreamHandler()\n",
      "\n",
      "    formatter = logging.Formatter('%(asctime)s - %(name)s - %(levelname)s - %(message)s')\n",
      "    handler.setFormatter(formatter)\n",
      "\n",
      "    logger.addHandler(handler)\n",
      "    return logger\n",
      "\n"
     ]
    }
   ],
   "source": [
    "from log_setup import setup_formatted_logger\n",
    "print(inspect.getsource(setup_formatted_logger))"
   ],
   "metadata": {
    "collapsed": false,
    "ExecuteTime": {
     "end_time": "2023-07-05T00:35:29.706132Z",
     "start_time": "2023-07-05T00:35:29.697093Z"
    }
   }
  },
  {
   "cell_type": "markdown",
   "source": [
    "Here, the Formatter class is used to specify the layout of log records in the final output. Now you can set the log level when you set up your logger:"
   ],
   "metadata": {
    "collapsed": false
   }
  },
  {
   "cell_type": "code",
   "execution_count": 6,
   "outputs": [],
   "source": [
    "import logging\n",
    "logger = setup_formatted_logger(__name__ + \"_formatted\", logging_level=logging.DEBUG)"
   ],
   "metadata": {
    "collapsed": false,
    "ExecuteTime": {
     "end_time": "2023-07-05T00:35:30.054815Z",
     "start_time": "2023-07-05T00:35:30.049859Z"
    }
   }
  },
  {
   "cell_type": "code",
   "execution_count": 7,
   "outputs": [
    {
     "name": "stderr",
     "output_type": "stream",
     "text": [
      "2023-07-04 17:35:30,227 - __main___formatted - DEBUG - Log record: 10, ABC\n"
     ]
    }
   ],
   "source": [
    "logger.debug(f\"Log record: {a}, {b}\")"
   ],
   "metadata": {
    "collapsed": false,
    "ExecuteTime": {
     "end_time": "2023-07-05T00:35:30.238595Z",
     "start_time": "2023-07-05T00:35:30.229869Z"
    }
   }
  },
  {
   "cell_type": "markdown",
   "source": [
    "With these utilities in place, you can easily manage and control how logging is performed across your Python project."
   ],
   "metadata": {
    "collapsed": false
   }
  },
  {
   "cell_type": "code",
   "execution_count": null,
   "outputs": [],
   "source": [],
   "metadata": {
    "collapsed": false
   }
  }
 ],
 "metadata": {
  "kernelspec": {
   "display_name": "Python 3",
   "language": "python",
   "name": "python3"
  },
  "language_info": {
   "codemirror_mode": {
    "name": "ipython",
    "version": 2
   },
   "file_extension": ".py",
   "mimetype": "text/x-python",
   "name": "python",
   "nbconvert_exporter": "python",
   "pygments_lexer": "ipython2",
   "version": "2.7.6"
  }
 },
 "nbformat": 4,
 "nbformat_minor": 0
}
