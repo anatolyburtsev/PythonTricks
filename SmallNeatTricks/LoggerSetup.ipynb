{
 "cells": [
  {
   "cell_type": "markdown",
   "source": [
    "# Setting up logger for python project"
   ],
   "metadata": {
    "collapsed": false
   }
  },
  {
   "cell_type": "markdown",
   "source": [
    "Logging is very handy feature to keep an eye what's going on with the running service. Logging is quite easy to enable in python, just add following line to python file.\n",
    "```\n",
    "import logging\n",
    "\n",
    "logger = logging.getLogger()\n",
    "logger.setLevel(logging.INFO)\n",
    "logger.addHandler(logging.StreamHandler())\n",
    "\n",
    "logger.info(\"Log record, application running\")\n",
    "```\n",
    "\n",
    "The problem appears when these same lines start popping up here and there in different files of the same project and you need to update them all together to follow new formatting.\n",
    "\n",
    "That can be solved by extracting logging setup code into separate file and reusing it everywhere else.\n",
    "\n",
    "`log_setup.py`\n",
    "```\n",
    "import logging\n",
    "\n",
    "def setup_basic_logger(name: str) -> logging.Logger:\n",
    "    logger = logging.getLogger(name)\n",
    "    logger.setLevel(logging.INFO)\n",
    "    logger.addHandler(logging.StreamHandler())\n",
    "    return logger\n",
    "```\n",
    "\n",
    "Then it can be imported and instantiated with one line"
   ],
   "metadata": {
    "collapsed": false
   }
  },
  {
   "cell_type": "code",
   "execution_count": 1,
   "metadata": {
    "collapsed": true,
    "ExecuteTime": {
     "end_time": "2023-07-05T00:19:10.076580Z",
     "start_time": "2023-07-05T00:19:10.072477Z"
    }
   },
   "outputs": [],
   "source": [
    "from log_setup import setup_basic_logger\n",
    "\n",
    "logger_basic = setup_basic_logger(__name__ + \"_basic\")"
   ]
  },
  {
   "cell_type": "code",
   "execution_count": 2,
   "outputs": [],
   "source": [
    "a = 10\n",
    "b = \"ABC\""
   ],
   "metadata": {
    "collapsed": false,
    "ExecuteTime": {
     "end_time": "2023-07-05T00:19:10.287989Z",
     "start_time": "2023-07-05T00:19:10.284418Z"
    }
   }
  },
  {
   "cell_type": "code",
   "execution_count": 3,
   "outputs": [
    {
     "name": "stderr",
     "output_type": "stream",
     "text": [
      "Log record: 10, ABC\n"
     ]
    }
   ],
   "source": [
    "logger_basic.debug(\"Won't see that record, given it's more verbose than default INFO level\")\n",
    "logger_basic.info(f\"Log record: {a}, {b}\")"
   ],
   "metadata": {
    "collapsed": false,
    "ExecuteTime": {
     "end_time": "2023-07-05T00:19:10.485533Z",
     "start_time": "2023-07-05T00:19:10.478852Z"
    }
   }
  },
  {
   "cell_type": "markdown",
   "source": [
    "It's possible to enhance logger setup by adding logging format and making logging level configurable:\n",
    "\n",
    "```\n",
    "\n",
    "def setup_formatted_logger(name: str, logging_level=logging.INFO) -> logging.Logger:\n",
    "    logger = logging.getLogger(name)\n",
    "    logger.setLevel(logging_level)\n",
    "\n",
    "    handler = logging.StreamHandler()\n",
    "\n",
    "    formatter = logging.Formatter('%(asctime)s - %(name)s - %(levelname)s - %(message)s')\n",
    "    handler.setFormatter(formatter)\n",
    "\n",
    "    logger.addHandler(handler)\n",
    "    return logger\n",
    "```"
   ],
   "metadata": {
    "collapsed": false
   }
  },
  {
   "cell_type": "code",
   "execution_count": 4,
   "outputs": [],
   "source": [
    "import logging\n",
    "from log_setup import setup_formatted_logger\n",
    "\n",
    "logger = setup_formatted_logger(__name__ + \"_formatted\", logging_level=logging.DEBUG)"
   ],
   "metadata": {
    "collapsed": false,
    "ExecuteTime": {
     "end_time": "2023-07-05T00:19:10.857793Z",
     "start_time": "2023-07-05T00:19:10.853865Z"
    }
   }
  },
  {
   "cell_type": "code",
   "execution_count": 5,
   "outputs": [
    {
     "name": "stderr",
     "output_type": "stream",
     "text": [
      "2023-07-04 17:19:11,283 - __main___formatted - DEBUG - Log record: 10, ABC\n"
     ]
    }
   ],
   "source": [
    "logger.debug(f\"Log record: {a}, {b}\")"
   ],
   "metadata": {
    "collapsed": false,
    "ExecuteTime": {
     "end_time": "2023-07-05T00:19:11.293909Z",
     "start_time": "2023-07-05T00:19:11.286202Z"
    }
   }
  },
  {
   "cell_type": "code",
   "execution_count": null,
   "outputs": [],
   "source": [],
   "metadata": {
    "collapsed": false
   }
  }
 ],
 "metadata": {
  "kernelspec": {
   "display_name": "Python 3",
   "language": "python",
   "name": "python3"
  },
  "language_info": {
   "codemirror_mode": {
    "name": "ipython",
    "version": 2
   },
   "file_extension": ".py",
   "mimetype": "text/x-python",
   "name": "python",
   "nbconvert_exporter": "python",
   "pygments_lexer": "ipython2",
   "version": "2.7.6"
  }
 },
 "nbformat": 4,
 "nbformat_minor": 0
}
