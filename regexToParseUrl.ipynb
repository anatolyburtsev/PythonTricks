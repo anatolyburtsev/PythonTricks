{
 "cells": [
  {
   "cell_type": "code",
   "execution_count": 96,
   "id": "d35bb15f",
   "metadata": {},
   "outputs": [],
   "source": [
    "import re"
   ]
  },
  {
   "cell_type": "code",
   "execution_count": 97,
   "id": "19e4c280",
   "metadata": {},
   "outputs": [],
   "source": [
    "good_url = \"s3://project/service/data/date=2022-09-19/data.csv\"\n",
    "bad_url = \"s3://project/service/data/tmp/date=2022-09-19/data.csv\""
   ]
  },
  {
   "cell_type": "code",
   "execution_count": 98,
   "id": "885d3cda",
   "metadata": {},
   "outputs": [],
   "source": [
    "s3_bucket = \"project\""
   ]
  },
  {
   "cell_type": "code",
   "execution_count": 99,
   "id": "b36c474a",
   "metadata": {},
   "outputs": [],
   "source": [
    "s3_path = \"service/data\""
   ]
  },
  {
   "cell_type": "code",
   "execution_count": 100,
   "id": "6b841cca",
   "metadata": {},
   "outputs": [],
   "source": [
    "key = \"date\""
   ]
  },
  {
   "cell_type": "code",
   "execution_count": 101,
   "id": "2dc4eb2b",
   "metadata": {},
   "outputs": [],
   "source": [
    "pattern = re.compile(fr\"s3://{s3_bucket}/{s3_path}/{key}=(\\d+-\\d+-\\d+)/\")"
   ]
  },
  {
   "cell_type": "code",
   "execution_count": 102,
   "id": "13aa9cd2",
   "metadata": {},
   "outputs": [],
   "source": [
    "pattern.match(bad_url) # no response"
   ]
  },
  {
   "cell_type": "code",
   "execution_count": 103,
   "id": "5d199611",
   "metadata": {},
   "outputs": [
    {
     "data": {
      "text/plain": [
       "<re.Match object; span=(0, 42), match='s3://project/service/data/date=2022-09-19/'>"
      ]
     },
     "execution_count": 103,
     "metadata": {},
     "output_type": "execute_result"
    }
   ],
   "source": [
    "m = pattern.match(good_url) # there is a match\n",
    "m"
   ]
  },
  {
   "cell_type": "code",
   "execution_count": 104,
   "id": "79648438",
   "metadata": {},
   "outputs": [
    {
     "data": {
      "text/plain": [
       "'2022-09-19'"
      ]
     },
     "execution_count": 104,
     "metadata": {},
     "output_type": "execute_result"
    }
   ],
   "source": [
    "m.group(1)"
   ]
  },
  {
   "cell_type": "code",
   "execution_count": null,
   "id": "d4b81b34",
   "metadata": {},
   "outputs": [],
   "source": []
  }
 ],
 "metadata": {
  "kernelspec": {
   "display_name": "Python 3 (ipykernel)",
   "language": "python",
   "name": "python3"
  },
  "language_info": {
   "codemirror_mode": {
    "name": "ipython",
    "version": 3
   },
   "file_extension": ".py",
   "mimetype": "text/x-python",
   "name": "python",
   "nbconvert_exporter": "python",
   "pygments_lexer": "ipython3",
   "version": "3.9.12"
  }
 },
 "nbformat": 4,
 "nbformat_minor": 5
}
