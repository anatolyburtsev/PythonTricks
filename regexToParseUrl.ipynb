{
 "cells": [
  {
   "cell_type": "markdown",
   "id": "71e280e2",
   "metadata": {},
   "source": [
    "# Task"
   ]
  },
  {
   "cell_type": "markdown",
   "id": "7b83cfe0",
   "metadata": {},
   "source": [
    "There is an url, we need to validate if it matches the expected pattern, and if yes, then extract specific part of that url"
   ]
  },
  {
   "cell_type": "code",
   "execution_count": 105,
   "id": "198c68e0",
   "metadata": {},
   "outputs": [],
   "source": [
    "import re"
   ]
  },
  {
   "cell_type": "code",
   "execution_count": 106,
   "id": "52af81ca",
   "metadata": {},
   "outputs": [],
   "source": [
    "good_url = \"s3://project/service/data/date=2022-09-19/data.csv\"\n",
    "bad_url = \"s3://project/service/data/tmp/date=2022-09-19/data.csv\""
   ]
  },
  {
   "cell_type": "code",
   "execution_count": 107,
   "id": "737f4521",
   "metadata": {},
   "outputs": [],
   "source": [
    "s3_bucket = \"project\""
   ]
  },
  {
   "cell_type": "code",
   "execution_count": 108,
   "id": "2096c6d5",
   "metadata": {},
   "outputs": [],
   "source": [
    "s3_path = \"service/data\""
   ]
  },
  {
   "cell_type": "code",
   "execution_count": 109,
   "id": "ca4d4661",
   "metadata": {},
   "outputs": [],
   "source": [
    "key = \"date\""
   ]
  },
  {
   "cell_type": "code",
   "execution_count": 110,
   "id": "326b821d",
   "metadata": {},
   "outputs": [],
   "source": [
    "pattern = re.compile(fr\"s3://{s3_bucket}/{s3_path}/{key}=(\\d+-\\d+-\\d+)/\")"
   ]
  },
  {
   "cell_type": "code",
   "execution_count": 111,
   "id": "ad654b1d",
   "metadata": {},
   "outputs": [],
   "source": [
    "pattern.match(bad_url) # no response"
   ]
  },
  {
   "cell_type": "code",
   "execution_count": 112,
   "id": "fc0ede99",
   "metadata": {},
   "outputs": [
    {
     "data": {
      "text/plain": [
       "<re.Match object; span=(0, 42), match='s3://project/service/data/date=2022-09-19/'>"
      ]
     },
     "execution_count": 112,
     "metadata": {},
     "output_type": "execute_result"
    }
   ],
   "source": [
    "m = pattern.match(good_url) # there is a match\n",
    "m"
   ]
  },
  {
   "cell_type": "code",
   "execution_count": 113,
   "id": "b36c110b",
   "metadata": {},
   "outputs": [
    {
     "data": {
      "text/plain": [
       "'2022-09-19'"
      ]
     },
     "execution_count": 113,
     "metadata": {},
     "output_type": "execute_result"
    }
   ],
   "source": [
    "m.group(1)"
   ]
  },
  {
   "cell_type": "code",
   "execution_count": null,
   "id": "2a22c6aa",
   "metadata": {},
   "outputs": [],
   "source": []
  }
 ],
 "metadata": {
  "kernelspec": {
   "display_name": "Python 3 (ipykernel)",
   "language": "python",
   "name": "python3"
  },
  "language_info": {
   "codemirror_mode": {
    "name": "ipython",
    "version": 3
   },
   "file_extension": ".py",
   "mimetype": "text/x-python",
   "name": "python",
   "nbconvert_exporter": "python",
   "pygments_lexer": "ipython3",
   "version": "3.9.12"
  }
 },
 "nbformat": 4,
 "nbformat_minor": 5
}
