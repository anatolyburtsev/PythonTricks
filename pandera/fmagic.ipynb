{
 "cells": [
  {
   "cell_type": "markdown",
   "source": [
    "# comma for big numbers"
   ],
   "metadata": {
    "collapsed": false
   }
  },
  {
   "cell_type": "code",
   "execution_count": null,
   "outputs": [],
   "source": [],
   "metadata": {
    "collapsed": false
   }
  },
  {
   "cell_type": "code",
   "execution_count": 28,
   "metadata": {
    "collapsed": true,
    "ExecuteTime": {
     "end_time": "2023-08-23T22:01:38.020735Z",
     "start_time": "2023-08-23T22:01:38.008527Z"
    }
   },
   "outputs": [],
   "source": [
    "n = 100 ** 4"
   ]
  },
  {
   "cell_type": "code",
   "execution_count": 29,
   "outputs": [
    {
     "name": "stdout",
     "output_type": "stream",
     "text": [
      "100000000\n"
     ]
    }
   ],
   "source": [
    "print(n)"
   ],
   "metadata": {
    "collapsed": false,
    "ExecuteTime": {
     "end_time": "2023-08-23T22:01:38.119161Z",
     "start_time": "2023-08-23T22:01:38.108116Z"
    }
   }
  },
  {
   "cell_type": "code",
   "execution_count": 30,
   "outputs": [
    {
     "name": "stdout",
     "output_type": "stream",
     "text": [
      "100,000,000\n"
     ]
    }
   ],
   "source": [
    "print(f\"{n:,}\")"
   ],
   "metadata": {
    "collapsed": false,
    "ExecuteTime": {
     "end_time": "2023-08-23T22:01:49.967509Z",
     "start_time": "2023-08-23T22:01:49.963519Z"
    }
   }
  },
  {
   "cell_type": "markdown",
   "source": [
    "# Equal sign magic"
   ],
   "metadata": {
    "collapsed": false
   }
  },
  {
   "cell_type": "code",
   "execution_count": 31,
   "outputs": [],
   "source": [
    "i = 10"
   ],
   "metadata": {
    "collapsed": false,
    "ExecuteTime": {
     "end_time": "2023-08-23T22:02:03.321425Z",
     "start_time": "2023-08-23T22:02:03.313357Z"
    }
   }
  },
  {
   "cell_type": "code",
   "execution_count": 32,
   "outputs": [
    {
     "name": "stdout",
     "output_type": "stream",
     "text": [
      "i=10\n"
     ]
    }
   ],
   "source": [
    "print(f\"i={i}\")"
   ],
   "metadata": {
    "collapsed": false,
    "ExecuteTime": {
     "end_time": "2023-08-23T22:02:03.480229Z",
     "start_time": "2023-08-23T22:02:03.472909Z"
    }
   }
  },
  {
   "cell_type": "code",
   "execution_count": 33,
   "outputs": [
    {
     "name": "stdout",
     "output_type": "stream",
     "text": [
      "i=10\n"
     ]
    }
   ],
   "source": [
    "print(f\"{i=}\")"
   ],
   "metadata": {
    "collapsed": false,
    "ExecuteTime": {
     "end_time": "2023-08-23T22:02:11.358716Z",
     "start_time": "2023-08-23T22:02:11.350076Z"
    }
   }
  },
  {
   "cell_type": "markdown",
   "source": [],
   "metadata": {
    "collapsed": false
   }
  },
  {
   "cell_type": "markdown",
   "source": [
    "# Padding"
   ],
   "metadata": {
    "collapsed": false
   }
  },
  {
   "cell_type": "code",
   "execution_count": 34,
   "outputs": [
    {
     "name": "stdout",
     "output_type": "stream",
     "text": [
      "It's 08 AM!\n",
      "It's 09 AM!\n",
      "It's 10 AM!\n",
      "It's 11 AM!\n"
     ]
    }
   ],
   "source": [
    "for hour in range(8, 12):\n",
    "    print(f\"It's {hour:02} AM!\")"
   ],
   "metadata": {
    "collapsed": false,
    "ExecuteTime": {
     "end_time": "2023-08-23T22:02:27.221643Z",
     "start_time": "2023-08-23T22:02:27.211798Z"
    }
   }
  },
  {
   "cell_type": "markdown",
   "source": [
    "# Format dates"
   ],
   "metadata": {
    "collapsed": false
   }
  },
  {
   "cell_type": "code",
   "execution_count": 35,
   "outputs": [],
   "source": [
    "from datetime import datetime"
   ],
   "metadata": {
    "collapsed": false,
    "ExecuteTime": {
     "end_time": "2023-08-23T22:02:42.537908Z",
     "start_time": "2023-08-23T22:02:42.530667Z"
    }
   }
  },
  {
   "cell_type": "code",
   "execution_count": 36,
   "outputs": [],
   "source": [
    "date = datetime.now()"
   ],
   "metadata": {
    "collapsed": false,
    "ExecuteTime": {
     "end_time": "2023-08-23T22:02:42.839958Z",
     "start_time": "2023-08-23T22:02:42.833382Z"
    }
   }
  },
  {
   "cell_type": "code",
   "execution_count": 37,
   "outputs": [
    {
     "name": "stdout",
     "output_type": "stream",
     "text": [
      "Time is 03:02 PM, Date: Wednesday\n"
     ]
    }
   ],
   "source": [
    "print(f\"Time is {date:%I:%M %p}, Date: {date:%A}\")"
   ],
   "metadata": {
    "collapsed": false,
    "ExecuteTime": {
     "end_time": "2023-08-23T22:02:46.506264Z",
     "start_time": "2023-08-23T22:02:46.502365Z"
    }
   }
  },
  {
   "cell_type": "markdown",
   "source": [
    "# Fill string with symbol"
   ],
   "metadata": {
    "collapsed": false
   }
  },
  {
   "cell_type": "code",
   "execution_count": 38,
   "outputs": [],
   "source": [
    "s = \"Hello\""
   ],
   "metadata": {
    "collapsed": false,
    "ExecuteTime": {
     "end_time": "2023-08-23T22:03:03.920503Z",
     "start_time": "2023-08-23T22:03:03.911464Z"
    }
   }
  },
  {
   "cell_type": "code",
   "execution_count": 42,
   "outputs": [
    {
     "name": "stdout",
     "output_type": "stream",
     "text": [
      "@@@@@@@@@@Hello\n"
     ]
    }
   ],
   "source": [
    "print(f\"{s:@>15}\")"
   ],
   "metadata": {
    "collapsed": false,
    "ExecuteTime": {
     "end_time": "2023-08-23T22:03:19.767961Z",
     "start_time": "2023-08-23T22:03:19.761035Z"
    }
   }
  },
  {
   "cell_type": "code",
   "execution_count": 40,
   "outputs": [
    {
     "name": "stdout",
     "output_type": "stream",
     "text": [
      "Hello**********\n"
     ]
    }
   ],
   "source": [
    "print(f\"{s:*<15}\")\n"
   ],
   "metadata": {
    "collapsed": false,
    "ExecuteTime": {
     "end_time": "2023-08-23T22:03:04.705569Z",
     "start_time": "2023-08-23T22:03:04.698084Z"
    }
   }
  },
  {
   "cell_type": "code",
   "execution_count": 41,
   "outputs": [
    {
     "name": "stdout",
     "output_type": "stream",
     "text": [
      "*****Hello*****\n"
     ]
    }
   ],
   "source": [
    "print(f\"{s:*^15}\")\n"
   ],
   "metadata": {
    "collapsed": false,
    "ExecuteTime": {
     "end_time": "2023-08-23T22:03:04.886399Z",
     "start_time": "2023-08-23T22:03:04.883122Z"
    }
   }
  },
  {
   "cell_type": "code",
   "execution_count": null,
   "outputs": [],
   "source": [],
   "metadata": {
    "collapsed": false
   }
  }
 ],
 "metadata": {
  "kernelspec": {
   "display_name": "Python 3",
   "language": "python",
   "name": "python3"
  },
  "language_info": {
   "codemirror_mode": {
    "name": "ipython",
    "version": 2
   },
   "file_extension": ".py",
   "mimetype": "text/x-python",
   "name": "python",
   "nbconvert_exporter": "python",
   "pygments_lexer": "ipython2",
   "version": "2.7.6"
  }
 },
 "nbformat": 4,
 "nbformat_minor": 0
}
