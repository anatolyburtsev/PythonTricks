{
 "cells": [
  {
   "cell_type": "markdown",
   "id": "cc7b5ade",
   "metadata": {},
   "source": [
    "# Introduction"
   ]
  },
  {
   "cell_type": "markdown",
   "source": [
    "## Problem:\n",
    "## Garbage In => Garbage out"
   ],
   "metadata": {
    "collapsed": false
   }
  },
  {
   "cell_type": "markdown",
   "source": [
    "Anecdote story:\n",
    "Demand prediction system for online retailer.\n",
    "\n",
    "\n",
    "One data source provided information about promotion campaigns, e.g.\n",
    "\n",
    "How it was:\n",
    "```\n",
    "\"\" -> No campaign\n",
    "\"Sping_2018\" -> sku included in promotion campaign \"Spring 2018\"\n",
    "```\n",
    "\n",
    "Generated boolean feature from it:\n",
    "``bool(len(column_name))``\n",
    "\n",
    "Then they silently changed it to :\n",
    "```\n",
    "\"None\" -> No campaign\n",
    "\"Sping_2018\" -> sku included in promotion campaign \"Spring 2018\"\n",
    "```"
   ],
   "metadata": {
    "collapsed": false
   }
  },
  {
   "cell_type": "code",
   "execution_count": null,
   "outputs": [],
   "source": [],
   "metadata": {
    "collapsed": false
   }
  },
  {
   "cell_type": "code",
   "execution_count": 66,
   "outputs": [],
   "source": [
    "import pandera as pa\n",
    "from pandera import Column, Check\n",
    "import numpy as np"
   ],
   "metadata": {
    "collapsed": false,
    "ExecuteTime": {
     "end_time": "2023-08-23T18:35:45.038048Z",
     "start_time": "2023-08-23T18:35:45.025727Z"
    }
   }
  },
  {
   "cell_type": "code",
   "execution_count": 72,
   "id": "2ef1fb81",
   "metadata": {
    "ExecuteTime": {
     "end_time": "2023-08-23T20:56:44.115473Z",
     "start_time": "2023-08-23T20:56:44.085962Z"
    }
   },
   "outputs": [
    {
     "data": {
      "text/plain": "     name    store  price\n0   apple     Aldi      2\n1  banana  Walmart      1\n2   apple  Walmart      3\n3  orange     Aldi      4",
      "text/html": "<div>\n<style scoped>\n    .dataframe tbody tr th:only-of-type {\n        vertical-align: middle;\n    }\n\n    .dataframe tbody tr th {\n        vertical-align: top;\n    }\n\n    .dataframe thead th {\n        text-align: right;\n    }\n</style>\n<table border=\"1\" class=\"dataframe\">\n  <thead>\n    <tr style=\"text-align: right;\">\n      <th></th>\n      <th>name</th>\n      <th>store</th>\n      <th>price</th>\n    </tr>\n  </thead>\n  <tbody>\n    <tr>\n      <th>0</th>\n      <td>apple</td>\n      <td>Aldi</td>\n      <td>2</td>\n    </tr>\n    <tr>\n      <th>1</th>\n      <td>banana</td>\n      <td>Walmart</td>\n      <td>1</td>\n    </tr>\n    <tr>\n      <th>2</th>\n      <td>apple</td>\n      <td>Walmart</td>\n      <td>3</td>\n    </tr>\n    <tr>\n      <th>3</th>\n      <td>orange</td>\n      <td>Aldi</td>\n      <td>4</td>\n    </tr>\n  </tbody>\n</table>\n</div>"
     },
     "execution_count": 72,
     "metadata": {},
     "output_type": "execute_result"
    }
   ],
   "source": [
    "import pandas as pd\n",
    "\n",
    "fruits = pd.DataFrame(\n",
    "    {\n",
    "        \"name\": [\"apple\", \"banana\", \"apple\", \"orange\"],\n",
    "        \"store\": [\"Aldi\", \"Walmart\", \"Walmart\", \"Aldi\"],\n",
    "        \"price\": [2, 1, 3, 4],\n",
    "    }\n",
    ")\n",
    "\n",
    "fruits"
   ]
  },
  {
   "cell_type": "markdown",
   "source": [
    "## [Pandera website](https://union.ai/pandera)"
   ],
   "metadata": {
    "collapsed": false
   }
  },
  {
   "cell_type": "markdown",
   "source": [
    "# DataFrame Schema"
   ],
   "metadata": {
    "collapsed": false
   }
  },
  {
   "cell_type": "code",
   "execution_count": 81,
   "id": "407ac593",
   "metadata": {
    "ExecuteTime": {
     "end_time": "2023-08-23T21:40:25.390313Z",
     "start_time": "2023-08-23T21:40:25.369166Z"
    }
   },
   "outputs": [],
   "source": [
    "available_fruits = [\"apple\", \"banana\", \"orange\"]\n",
    "nearby_stores = [\"Aldi\", \"Walmart\"]\n",
    "\n",
    "schema = pa.DataFrameSchema(\n",
    "    {\n",
    "        \"name\": Column(str, Check.isin(available_fruits)),\n",
    "        \"store\": Column(str, Check.isin(nearby_stores)),\n",
    "        \"price\": Column(int, Check.less_than(3)),\n",
    "    }\n",
    ")"
   ]
  },
  {
   "cell_type": "code",
   "execution_count": 82,
   "outputs": [
    {
     "ename": "SchemaError",
     "evalue": "<Schema Column(name=price, type=DataType(int64))> failed element-wise validator 0:\n<Check less_than: less_than(3)>\nfailure cases:\n   index  failure_case\n0      2             3\n1      3             4",
     "output_type": "error",
     "traceback": [
      "\u001B[0;31m---------------------------------------------------------------------------\u001B[0m",
      "\u001B[0;31mSchemaError\u001B[0m                               Traceback (most recent call last)",
      "Cell \u001B[0;32mIn[82], line 1\u001B[0m\n\u001B[0;32m----> 1\u001B[0m \u001B[43mschema\u001B[49m\u001B[38;5;241;43m.\u001B[39;49m\u001B[43mvalidate\u001B[49m\u001B[43m(\u001B[49m\u001B[43mfruits\u001B[49m\u001B[43m)\u001B[49m\n",
      "File \u001B[0;32m~/Library/Caches/pypoetry/virtualenvs/pandera-hello-IuF_8Kcx-py3.11/lib/python3.11/site-packages/pandera/api/pandas/container.py:366\u001B[0m, in \u001B[0;36mDataFrameSchema.validate\u001B[0;34m(self, check_obj, head, tail, sample, random_state, lazy, inplace)\u001B[0m\n\u001B[1;32m    354\u001B[0m     check_obj \u001B[38;5;241m=\u001B[39m check_obj\u001B[38;5;241m.\u001B[39mmap_partitions(  \u001B[38;5;66;03m# type: ignore [operator]\u001B[39;00m\n\u001B[1;32m    355\u001B[0m         \u001B[38;5;28mself\u001B[39m\u001B[38;5;241m.\u001B[39m_validate,\n\u001B[1;32m    356\u001B[0m         head\u001B[38;5;241m=\u001B[39mhead,\n\u001B[0;32m   (...)\u001B[0m\n\u001B[1;32m    362\u001B[0m         meta\u001B[38;5;241m=\u001B[39mcheck_obj,\n\u001B[1;32m    363\u001B[0m     )\n\u001B[1;32m    364\u001B[0m     \u001B[38;5;28;01mreturn\u001B[39;00m check_obj\u001B[38;5;241m.\u001B[39mpandera\u001B[38;5;241m.\u001B[39madd_schema(\u001B[38;5;28mself\u001B[39m)\n\u001B[0;32m--> 366\u001B[0m \u001B[38;5;28;01mreturn\u001B[39;00m \u001B[38;5;28;43mself\u001B[39;49m\u001B[38;5;241;43m.\u001B[39;49m\u001B[43m_validate\u001B[49m\u001B[43m(\u001B[49m\n\u001B[1;32m    367\u001B[0m \u001B[43m    \u001B[49m\u001B[43mcheck_obj\u001B[49m\u001B[38;5;241;43m=\u001B[39;49m\u001B[43mcheck_obj\u001B[49m\u001B[43m,\u001B[49m\n\u001B[1;32m    368\u001B[0m \u001B[43m    \u001B[49m\u001B[43mhead\u001B[49m\u001B[38;5;241;43m=\u001B[39;49m\u001B[43mhead\u001B[49m\u001B[43m,\u001B[49m\n\u001B[1;32m    369\u001B[0m \u001B[43m    \u001B[49m\u001B[43mtail\u001B[49m\u001B[38;5;241;43m=\u001B[39;49m\u001B[43mtail\u001B[49m\u001B[43m,\u001B[49m\n\u001B[1;32m    370\u001B[0m \u001B[43m    \u001B[49m\u001B[43msample\u001B[49m\u001B[38;5;241;43m=\u001B[39;49m\u001B[43msample\u001B[49m\u001B[43m,\u001B[49m\n\u001B[1;32m    371\u001B[0m \u001B[43m    \u001B[49m\u001B[43mrandom_state\u001B[49m\u001B[38;5;241;43m=\u001B[39;49m\u001B[43mrandom_state\u001B[49m\u001B[43m,\u001B[49m\n\u001B[1;32m    372\u001B[0m \u001B[43m    \u001B[49m\u001B[43mlazy\u001B[49m\u001B[38;5;241;43m=\u001B[39;49m\u001B[43mlazy\u001B[49m\u001B[43m,\u001B[49m\n\u001B[1;32m    373\u001B[0m \u001B[43m    \u001B[49m\u001B[43minplace\u001B[49m\u001B[38;5;241;43m=\u001B[39;49m\u001B[43minplace\u001B[49m\u001B[43m,\u001B[49m\n\u001B[1;32m    374\u001B[0m \u001B[43m\u001B[49m\u001B[43m)\u001B[49m\n",
      "File \u001B[0;32m~/Library/Caches/pypoetry/virtualenvs/pandera-hello-IuF_8Kcx-py3.11/lib/python3.11/site-packages/pandera/api/pandas/container.py:395\u001B[0m, in \u001B[0;36mDataFrameSchema._validate\u001B[0;34m(self, check_obj, head, tail, sample, random_state, lazy, inplace)\u001B[0m\n\u001B[1;32m    386\u001B[0m \u001B[38;5;28;01mif\u001B[39;00m \u001B[38;5;28mself\u001B[39m\u001B[38;5;241m.\u001B[39m_is_inferred:\n\u001B[1;32m    387\u001B[0m     warnings\u001B[38;5;241m.\u001B[39mwarn(\n\u001B[1;32m    388\u001B[0m         \u001B[38;5;124mf\u001B[39m\u001B[38;5;124m\"\u001B[39m\u001B[38;5;124mThis \u001B[39m\u001B[38;5;132;01m{\u001B[39;00m\u001B[38;5;28mtype\u001B[39m(\u001B[38;5;28mself\u001B[39m)\u001B[38;5;132;01m}\u001B[39;00m\u001B[38;5;124m is an inferred schema that hasn\u001B[39m\u001B[38;5;124m'\u001B[39m\u001B[38;5;124mt been \u001B[39m\u001B[38;5;124m\"\u001B[39m\n\u001B[1;32m    389\u001B[0m         \u001B[38;5;124m\"\u001B[39m\u001B[38;5;124mmodified. It\u001B[39m\u001B[38;5;124m'\u001B[39m\u001B[38;5;124ms recommended that you refine the schema \u001B[39m\u001B[38;5;124m\"\u001B[39m\n\u001B[0;32m   (...)\u001B[0m\n\u001B[1;32m    392\u001B[0m         \u001B[38;5;167;01mUserWarning\u001B[39;00m,\n\u001B[1;32m    393\u001B[0m     )\n\u001B[0;32m--> 395\u001B[0m \u001B[38;5;28;01mreturn\u001B[39;00m \u001B[38;5;28;43mself\u001B[39;49m\u001B[38;5;241;43m.\u001B[39;49m\u001B[43mget_backend\u001B[49m\u001B[43m(\u001B[49m\u001B[43mcheck_obj\u001B[49m\u001B[43m)\u001B[49m\u001B[38;5;241;43m.\u001B[39;49m\u001B[43mvalidate\u001B[49m\u001B[43m(\u001B[49m\n\u001B[1;32m    396\u001B[0m \u001B[43m    \u001B[49m\u001B[43mcheck_obj\u001B[49m\u001B[43m,\u001B[49m\n\u001B[1;32m    397\u001B[0m \u001B[43m    \u001B[49m\u001B[43mschema\u001B[49m\u001B[38;5;241;43m=\u001B[39;49m\u001B[38;5;28;43mself\u001B[39;49m\u001B[43m,\u001B[49m\n\u001B[1;32m    398\u001B[0m \u001B[43m    \u001B[49m\u001B[43mhead\u001B[49m\u001B[38;5;241;43m=\u001B[39;49m\u001B[43mhead\u001B[49m\u001B[43m,\u001B[49m\n\u001B[1;32m    399\u001B[0m \u001B[43m    \u001B[49m\u001B[43mtail\u001B[49m\u001B[38;5;241;43m=\u001B[39;49m\u001B[43mtail\u001B[49m\u001B[43m,\u001B[49m\n\u001B[1;32m    400\u001B[0m \u001B[43m    \u001B[49m\u001B[43msample\u001B[49m\u001B[38;5;241;43m=\u001B[39;49m\u001B[43msample\u001B[49m\u001B[43m,\u001B[49m\n\u001B[1;32m    401\u001B[0m \u001B[43m    \u001B[49m\u001B[43mrandom_state\u001B[49m\u001B[38;5;241;43m=\u001B[39;49m\u001B[43mrandom_state\u001B[49m\u001B[43m,\u001B[49m\n\u001B[1;32m    402\u001B[0m \u001B[43m    \u001B[49m\u001B[43mlazy\u001B[49m\u001B[38;5;241;43m=\u001B[39;49m\u001B[43mlazy\u001B[49m\u001B[43m,\u001B[49m\n\u001B[1;32m    403\u001B[0m \u001B[43m    \u001B[49m\u001B[43minplace\u001B[49m\u001B[38;5;241;43m=\u001B[39;49m\u001B[43minplace\u001B[49m\u001B[43m,\u001B[49m\n\u001B[1;32m    404\u001B[0m \u001B[43m\u001B[49m\u001B[43m)\u001B[49m\n",
      "File \u001B[0;32m~/Library/Caches/pypoetry/virtualenvs/pandera-hello-IuF_8Kcx-py3.11/lib/python3.11/site-packages/pandera/backends/pandas/container.py:97\u001B[0m, in \u001B[0;36mDataFrameSchemaBackend.validate\u001B[0;34m(self, check_obj, schema, head, tail, sample, random_state, lazy, inplace)\u001B[0m\n\u001B[1;32m     92\u001B[0m components \u001B[38;5;241m=\u001B[39m \u001B[38;5;28mself\u001B[39m\u001B[38;5;241m.\u001B[39mcollect_schema_components(\n\u001B[1;32m     93\u001B[0m     check_obj, schema, column_info\n\u001B[1;32m     94\u001B[0m )\n\u001B[1;32m     96\u001B[0m \u001B[38;5;66;03m# run the checks\u001B[39;00m\n\u001B[0;32m---> 97\u001B[0m error_handler \u001B[38;5;241m=\u001B[39m \u001B[38;5;28;43mself\u001B[39;49m\u001B[38;5;241;43m.\u001B[39;49m\u001B[43mrun_checks_and_handle_errors\u001B[49m\u001B[43m(\u001B[49m\n\u001B[1;32m     98\u001B[0m \u001B[43m    \u001B[49m\u001B[43merror_handler\u001B[49m\u001B[43m,\u001B[49m\n\u001B[1;32m     99\u001B[0m \u001B[43m    \u001B[49m\u001B[43mschema\u001B[49m\u001B[43m,\u001B[49m\n\u001B[1;32m    100\u001B[0m \u001B[43m    \u001B[49m\u001B[43mcheck_obj\u001B[49m\u001B[43m,\u001B[49m\n\u001B[1;32m    101\u001B[0m \u001B[43m    \u001B[49m\u001B[43mcolumn_info\u001B[49m\u001B[43m,\u001B[49m\n\u001B[1;32m    102\u001B[0m \u001B[43m    \u001B[49m\u001B[43msample\u001B[49m\u001B[43m,\u001B[49m\n\u001B[1;32m    103\u001B[0m \u001B[43m    \u001B[49m\u001B[43mcomponents\u001B[49m\u001B[43m,\u001B[49m\n\u001B[1;32m    104\u001B[0m \u001B[43m    \u001B[49m\u001B[43mlazy\u001B[49m\u001B[43m,\u001B[49m\n\u001B[1;32m    105\u001B[0m \u001B[43m    \u001B[49m\u001B[43mhead\u001B[49m\u001B[43m,\u001B[49m\n\u001B[1;32m    106\u001B[0m \u001B[43m    \u001B[49m\u001B[43mtail\u001B[49m\u001B[43m,\u001B[49m\n\u001B[1;32m    107\u001B[0m \u001B[43m    \u001B[49m\u001B[43mrandom_state\u001B[49m\u001B[43m,\u001B[49m\n\u001B[1;32m    108\u001B[0m \u001B[43m\u001B[49m\u001B[43m)\u001B[49m\n\u001B[1;32m    110\u001B[0m \u001B[38;5;28;01mif\u001B[39;00m error_handler\u001B[38;5;241m.\u001B[39mcollected_errors:\n\u001B[1;32m    111\u001B[0m     \u001B[38;5;28;01mif\u001B[39;00m \u001B[38;5;28mgetattr\u001B[39m(schema, \u001B[38;5;124m\"\u001B[39m\u001B[38;5;124mdrop_invalid_rows\u001B[39m\u001B[38;5;124m\"\u001B[39m, \u001B[38;5;28;01mFalse\u001B[39;00m):\n",
      "File \u001B[0;32m~/Library/Caches/pypoetry/virtualenvs/pandera-hello-IuF_8Kcx-py3.11/lib/python3.11/site-packages/pandera/backends/pandas/container.py:172\u001B[0m, in \u001B[0;36mDataFrameSchemaBackend.run_checks_and_handle_errors\u001B[0;34m(self, error_handler, schema, check_obj, column_info, sample, components, lazy, head, tail, random_state)\u001B[0m\n\u001B[1;32m    161\u001B[0m         \u001B[38;5;28;01melse\u001B[39;00m:\n\u001B[1;32m    162\u001B[0m             error \u001B[38;5;241m=\u001B[39m SchemaError(\n\u001B[1;32m    163\u001B[0m                 schema,\n\u001B[1;32m    164\u001B[0m                 data\u001B[38;5;241m=\u001B[39mcheck_obj,\n\u001B[0;32m   (...)\u001B[0m\n\u001B[1;32m    170\u001B[0m                 reason_code\u001B[38;5;241m=\u001B[39mresult\u001B[38;5;241m.\u001B[39mreason_code,\n\u001B[1;32m    171\u001B[0m             )\n\u001B[0;32m--> 172\u001B[0m         \u001B[43merror_handler\u001B[49m\u001B[38;5;241;43m.\u001B[39;49m\u001B[43mcollect_error\u001B[49m\u001B[43m(\u001B[49m\n\u001B[1;32m    173\u001B[0m \u001B[43m            \u001B[49m\u001B[43mresult\u001B[49m\u001B[38;5;241;43m.\u001B[39;49m\u001B[43mreason_code\u001B[49m\u001B[43m,\u001B[49m\n\u001B[1;32m    174\u001B[0m \u001B[43m            \u001B[49m\u001B[43merror\u001B[49m\u001B[43m,\u001B[49m\n\u001B[1;32m    175\u001B[0m \u001B[43m            \u001B[49m\u001B[43moriginal_exc\u001B[49m\u001B[38;5;241;43m=\u001B[39;49m\u001B[43mresult\u001B[49m\u001B[38;5;241;43m.\u001B[39;49m\u001B[43moriginal_exc\u001B[49m\u001B[43m,\u001B[49m\n\u001B[1;32m    176\u001B[0m \u001B[43m        \u001B[49m\u001B[43m)\u001B[49m\n\u001B[1;32m    178\u001B[0m \u001B[38;5;28;01mreturn\u001B[39;00m error_handler\n",
      "File \u001B[0;32m~/Library/Caches/pypoetry/virtualenvs/pandera-hello-IuF_8Kcx-py3.11/lib/python3.11/site-packages/pandera/error_handlers.py:38\u001B[0m, in \u001B[0;36mSchemaErrorHandler.collect_error\u001B[0;34m(self, reason_code, schema_error, original_exc)\u001B[0m\n\u001B[1;32m     31\u001B[0m \u001B[38;5;250m\u001B[39m\u001B[38;5;124;03m\"\"\"Collect schema error, raising exception if lazy is False.\u001B[39;00m\n\u001B[1;32m     32\u001B[0m \n\u001B[1;32m     33\u001B[0m \u001B[38;5;124;03m:param reason_code: string representing reason for error.\u001B[39;00m\n\u001B[1;32m     34\u001B[0m \u001B[38;5;124;03m:param schema_error: ``SchemaError`` object.\u001B[39;00m\n\u001B[1;32m     35\u001B[0m \u001B[38;5;124;03m:param original_exc: original exception associated with the SchemaError.\u001B[39;00m\n\u001B[1;32m     36\u001B[0m \u001B[38;5;124;03m\"\"\"\u001B[39;00m\n\u001B[1;32m     37\u001B[0m \u001B[38;5;28;01mif\u001B[39;00m \u001B[38;5;129;01mnot\u001B[39;00m \u001B[38;5;28mself\u001B[39m\u001B[38;5;241m.\u001B[39m_lazy:\n\u001B[0;32m---> 38\u001B[0m     \u001B[38;5;28;01mraise\u001B[39;00m schema_error \u001B[38;5;28;01mfrom\u001B[39;00m \u001B[38;5;21;01moriginal_exc\u001B[39;00m\n\u001B[1;32m     40\u001B[0m \u001B[38;5;66;03m# delete data of validated object from SchemaError object to prevent\u001B[39;00m\n\u001B[1;32m     41\u001B[0m \u001B[38;5;66;03m# storing copies of the validated DataFrame/Series for every\u001B[39;00m\n\u001B[1;32m     42\u001B[0m \u001B[38;5;66;03m# SchemaError collected.\u001B[39;00m\n\u001B[1;32m     43\u001B[0m \u001B[38;5;28;01mdel\u001B[39;00m schema_error\u001B[38;5;241m.\u001B[39mdata\n",
      "File \u001B[0;32m~/Library/Caches/pypoetry/virtualenvs/pandera-hello-IuF_8Kcx-py3.11/lib/python3.11/site-packages/pandera/backends/pandas/container.py:192\u001B[0m, in \u001B[0;36mDataFrameSchemaBackend.run_schema_component_checks\u001B[0;34m(self, check_obj, schema_components, lazy)\u001B[0m\n\u001B[1;32m    190\u001B[0m \u001B[38;5;28;01mfor\u001B[39;00m schema_component \u001B[38;5;129;01min\u001B[39;00m schema_components:\n\u001B[1;32m    191\u001B[0m     \u001B[38;5;28;01mtry\u001B[39;00m:\n\u001B[0;32m--> 192\u001B[0m         result \u001B[38;5;241m=\u001B[39m \u001B[43mschema_component\u001B[49m\u001B[38;5;241;43m.\u001B[39;49m\u001B[43mvalidate\u001B[49m\u001B[43m(\u001B[49m\n\u001B[1;32m    193\u001B[0m \u001B[43m            \u001B[49m\u001B[43mcheck_obj\u001B[49m\u001B[43m,\u001B[49m\u001B[43m \u001B[49m\u001B[43mlazy\u001B[49m\u001B[38;5;241;43m=\u001B[39;49m\u001B[43mlazy\u001B[49m\u001B[43m,\u001B[49m\u001B[43m \u001B[49m\u001B[43minplace\u001B[49m\u001B[38;5;241;43m=\u001B[39;49m\u001B[38;5;28;43;01mTrue\u001B[39;49;00m\n\u001B[1;32m    194\u001B[0m \u001B[43m        \u001B[49m\u001B[43m)\u001B[49m\n\u001B[1;32m    195\u001B[0m         check_passed\u001B[38;5;241m.\u001B[39mappend(is_table(result))\n\u001B[1;32m    196\u001B[0m     \u001B[38;5;28;01mexcept\u001B[39;00m SchemaError \u001B[38;5;28;01mas\u001B[39;00m err:\n",
      "File \u001B[0;32m~/Library/Caches/pypoetry/virtualenvs/pandera-hello-IuF_8Kcx-py3.11/lib/python3.11/site-packages/pandera/api/pandas/components.py:169\u001B[0m, in \u001B[0;36mColumn.validate\u001B[0;34m(self, check_obj, head, tail, sample, random_state, lazy, inplace)\u001B[0m\n\u001B[1;32m    142\u001B[0m \u001B[38;5;28;01mdef\u001B[39;00m \u001B[38;5;21mvalidate\u001B[39m(\n\u001B[1;32m    143\u001B[0m     \u001B[38;5;28mself\u001B[39m,\n\u001B[1;32m    144\u001B[0m     check_obj: pd\u001B[38;5;241m.\u001B[39mDataFrame,\n\u001B[0;32m   (...)\u001B[0m\n\u001B[1;32m    150\u001B[0m     inplace: \u001B[38;5;28mbool\u001B[39m \u001B[38;5;241m=\u001B[39m \u001B[38;5;28;01mFalse\u001B[39;00m,\n\u001B[1;32m    151\u001B[0m ) \u001B[38;5;241m-\u001B[39m\u001B[38;5;241m>\u001B[39m pd\u001B[38;5;241m.\u001B[39mDataFrame:\n\u001B[1;32m    152\u001B[0m \u001B[38;5;250m    \u001B[39m\u001B[38;5;124;03m\"\"\"Validate a Column in a DataFrame object.\u001B[39;00m\n\u001B[1;32m    153\u001B[0m \n\u001B[1;32m    154\u001B[0m \u001B[38;5;124;03m    :param check_obj: pandas DataFrame to validate.\u001B[39;00m\n\u001B[0;32m   (...)\u001B[0m\n\u001B[1;32m    167\u001B[0m \u001B[38;5;124;03m    :returns: validated DataFrame.\u001B[39;00m\n\u001B[1;32m    168\u001B[0m \u001B[38;5;124;03m    \"\"\"\u001B[39;00m\n\u001B[0;32m--> 169\u001B[0m     \u001B[38;5;28;01mreturn\u001B[39;00m \u001B[38;5;28;43mself\u001B[39;49m\u001B[38;5;241;43m.\u001B[39;49m\u001B[43mget_backend\u001B[49m\u001B[43m(\u001B[49m\u001B[43mcheck_obj\u001B[49m\u001B[43m)\u001B[49m\u001B[38;5;241;43m.\u001B[39;49m\u001B[43mvalidate\u001B[49m\u001B[43m(\u001B[49m\n\u001B[1;32m    170\u001B[0m \u001B[43m        \u001B[49m\u001B[43mcheck_obj\u001B[49m\u001B[43m,\u001B[49m\n\u001B[1;32m    171\u001B[0m \u001B[43m        \u001B[49m\u001B[38;5;28;43mself\u001B[39;49m\u001B[43m,\u001B[49m\n\u001B[1;32m    172\u001B[0m \u001B[43m        \u001B[49m\u001B[43mhead\u001B[49m\u001B[38;5;241;43m=\u001B[39;49m\u001B[43mhead\u001B[49m\u001B[43m,\u001B[49m\n\u001B[1;32m    173\u001B[0m \u001B[43m        \u001B[49m\u001B[43mtail\u001B[49m\u001B[38;5;241;43m=\u001B[39;49m\u001B[43mtail\u001B[49m\u001B[43m,\u001B[49m\n\u001B[1;32m    174\u001B[0m \u001B[43m        \u001B[49m\u001B[43msample\u001B[49m\u001B[38;5;241;43m=\u001B[39;49m\u001B[43msample\u001B[49m\u001B[43m,\u001B[49m\n\u001B[1;32m    175\u001B[0m \u001B[43m        \u001B[49m\u001B[43mrandom_state\u001B[49m\u001B[38;5;241;43m=\u001B[39;49m\u001B[43mrandom_state\u001B[49m\u001B[43m,\u001B[49m\n\u001B[1;32m    176\u001B[0m \u001B[43m        \u001B[49m\u001B[43mlazy\u001B[49m\u001B[38;5;241;43m=\u001B[39;49m\u001B[43mlazy\u001B[49m\u001B[43m,\u001B[49m\n\u001B[1;32m    177\u001B[0m \u001B[43m        \u001B[49m\u001B[43minplace\u001B[49m\u001B[38;5;241;43m=\u001B[39;49m\u001B[43minplace\u001B[49m\u001B[43m,\u001B[49m\n\u001B[1;32m    178\u001B[0m \u001B[43m    \u001B[49m\u001B[43m)\u001B[49m\n",
      "File \u001B[0;32m~/Library/Caches/pypoetry/virtualenvs/pandera-hello-IuF_8Kcx-py3.11/lib/python3.11/site-packages/pandera/backends/pandas/components.py:119\u001B[0m, in \u001B[0;36mColumnBackend.validate\u001B[0;34m(self, check_obj, schema, head, tail, sample, random_state, lazy, inplace)\u001B[0m\n\u001B[1;32m    115\u001B[0m             check_obj \u001B[38;5;241m=\u001B[39m validate_column(\n\u001B[1;32m    116\u001B[0m                 check_obj, column_name, return_check_obj\u001B[38;5;241m=\u001B[39m\u001B[38;5;28;01mTrue\u001B[39;00m\n\u001B[1;32m    117\u001B[0m             )\n\u001B[1;32m    118\u001B[0m         \u001B[38;5;28;01melse\u001B[39;00m:\n\u001B[0;32m--> 119\u001B[0m             \u001B[43mvalidate_column\u001B[49m\u001B[43m(\u001B[49m\u001B[43mcheck_obj\u001B[49m\u001B[43m,\u001B[49m\u001B[43m \u001B[49m\u001B[43mcolumn_name\u001B[49m\u001B[43m)\u001B[49m\n\u001B[1;32m    121\u001B[0m \u001B[38;5;28;01mif\u001B[39;00m lazy \u001B[38;5;129;01mand\u001B[39;00m error_handler\u001B[38;5;241m.\u001B[39mcollected_errors:\n\u001B[1;32m    122\u001B[0m     \u001B[38;5;28;01mraise\u001B[39;00m SchemaErrors(\n\u001B[1;32m    123\u001B[0m         schema\u001B[38;5;241m=\u001B[39mschema,\n\u001B[1;32m    124\u001B[0m         schema_errors\u001B[38;5;241m=\u001B[39merror_handler\u001B[38;5;241m.\u001B[39mcollected_errors,\n\u001B[1;32m    125\u001B[0m         data\u001B[38;5;241m=\u001B[39mcheck_obj,\n\u001B[1;32m    126\u001B[0m     )\n",
      "File \u001B[0;32m~/Library/Caches/pypoetry/virtualenvs/pandera-hello-IuF_8Kcx-py3.11/lib/python3.11/site-packages/pandera/backends/pandas/components.py:89\u001B[0m, in \u001B[0;36mColumnBackend.validate.<locals>.validate_column\u001B[0;34m(check_obj, column_name, return_check_obj)\u001B[0m\n\u001B[1;32m     84\u001B[0m         error_handler\u001B[38;5;241m.\u001B[39mcollect_error(\n\u001B[1;32m     85\u001B[0m             reason_code\u001B[38;5;241m=\u001B[39m\u001B[38;5;28;01mNone\u001B[39;00m,\n\u001B[1;32m     86\u001B[0m             schema_error\u001B[38;5;241m=\u001B[39merr,\n\u001B[1;32m     87\u001B[0m         )\n\u001B[1;32m     88\u001B[0m \u001B[38;5;28;01mexcept\u001B[39;00m SchemaError \u001B[38;5;28;01mas\u001B[39;00m err:\n\u001B[0;32m---> 89\u001B[0m     \u001B[43merror_handler\u001B[49m\u001B[38;5;241;43m.\u001B[39;49m\u001B[43mcollect_error\u001B[49m\u001B[43m(\u001B[49m\u001B[43merr\u001B[49m\u001B[38;5;241;43m.\u001B[39;49m\u001B[43mreason_code\u001B[49m\u001B[43m,\u001B[49m\u001B[43m \u001B[49m\u001B[43merr\u001B[49m\u001B[43m)\u001B[49m\n",
      "File \u001B[0;32m~/Library/Caches/pypoetry/virtualenvs/pandera-hello-IuF_8Kcx-py3.11/lib/python3.11/site-packages/pandera/error_handlers.py:38\u001B[0m, in \u001B[0;36mSchemaErrorHandler.collect_error\u001B[0;34m(self, reason_code, schema_error, original_exc)\u001B[0m\n\u001B[1;32m     31\u001B[0m \u001B[38;5;250m\u001B[39m\u001B[38;5;124;03m\"\"\"Collect schema error, raising exception if lazy is False.\u001B[39;00m\n\u001B[1;32m     32\u001B[0m \n\u001B[1;32m     33\u001B[0m \u001B[38;5;124;03m:param reason_code: string representing reason for error.\u001B[39;00m\n\u001B[1;32m     34\u001B[0m \u001B[38;5;124;03m:param schema_error: ``SchemaError`` object.\u001B[39;00m\n\u001B[1;32m     35\u001B[0m \u001B[38;5;124;03m:param original_exc: original exception associated with the SchemaError.\u001B[39;00m\n\u001B[1;32m     36\u001B[0m \u001B[38;5;124;03m\"\"\"\u001B[39;00m\n\u001B[1;32m     37\u001B[0m \u001B[38;5;28;01mif\u001B[39;00m \u001B[38;5;129;01mnot\u001B[39;00m \u001B[38;5;28mself\u001B[39m\u001B[38;5;241m.\u001B[39m_lazy:\n\u001B[0;32m---> 38\u001B[0m     \u001B[38;5;28;01mraise\u001B[39;00m schema_error \u001B[38;5;28;01mfrom\u001B[39;00m \u001B[38;5;21;01moriginal_exc\u001B[39;00m\n\u001B[1;32m     40\u001B[0m \u001B[38;5;66;03m# delete data of validated object from SchemaError object to prevent\u001B[39;00m\n\u001B[1;32m     41\u001B[0m \u001B[38;5;66;03m# storing copies of the validated DataFrame/Series for every\u001B[39;00m\n\u001B[1;32m     42\u001B[0m \u001B[38;5;66;03m# SchemaError collected.\u001B[39;00m\n\u001B[1;32m     43\u001B[0m \u001B[38;5;28;01mdel\u001B[39;00m schema_error\u001B[38;5;241m.\u001B[39mdata\n",
      "File \u001B[0;32m~/Library/Caches/pypoetry/virtualenvs/pandera-hello-IuF_8Kcx-py3.11/lib/python3.11/site-packages/pandera/backends/pandas/components.py:68\u001B[0m, in \u001B[0;36mColumnBackend.validate.<locals>.validate_column\u001B[0;34m(check_obj, column_name, return_check_obj)\u001B[0m\n\u001B[1;32m     65\u001B[0m \u001B[38;5;28;01mdef\u001B[39;00m \u001B[38;5;21mvalidate_column\u001B[39m(check_obj, column_name, return_check_obj\u001B[38;5;241m=\u001B[39m\u001B[38;5;28;01mFalse\u001B[39;00m):\n\u001B[1;32m     66\u001B[0m     \u001B[38;5;28;01mtry\u001B[39;00m:\n\u001B[1;32m     67\u001B[0m         \u001B[38;5;66;03m# pylint: disable=super-with-arguments\u001B[39;00m\n\u001B[0;32m---> 68\u001B[0m         validated_check_obj \u001B[38;5;241m=\u001B[39m \u001B[38;5;28;43msuper\u001B[39;49m\u001B[43m(\u001B[49m\u001B[43mColumnBackend\u001B[49m\u001B[43m,\u001B[49m\u001B[43m \u001B[49m\u001B[38;5;28;43mself\u001B[39;49m\u001B[43m)\u001B[49m\u001B[38;5;241;43m.\u001B[39;49m\u001B[43mvalidate\u001B[49m\u001B[43m(\u001B[49m\n\u001B[1;32m     69\u001B[0m \u001B[43m            \u001B[49m\u001B[43mcheck_obj\u001B[49m\u001B[43m,\u001B[49m\n\u001B[1;32m     70\u001B[0m \u001B[43m            \u001B[49m\u001B[43mcopy\u001B[49m\u001B[43m(\u001B[49m\u001B[43mschema\u001B[49m\u001B[43m)\u001B[49m\u001B[38;5;241;43m.\u001B[39;49m\u001B[43mset_name\u001B[49m\u001B[43m(\u001B[49m\u001B[43mcolumn_name\u001B[49m\u001B[43m)\u001B[49m\u001B[43m,\u001B[49m\n\u001B[1;32m     71\u001B[0m \u001B[43m            \u001B[49m\u001B[43mhead\u001B[49m\u001B[38;5;241;43m=\u001B[39;49m\u001B[43mhead\u001B[49m\u001B[43m,\u001B[49m\n\u001B[1;32m     72\u001B[0m \u001B[43m            \u001B[49m\u001B[43mtail\u001B[49m\u001B[38;5;241;43m=\u001B[39;49m\u001B[43mtail\u001B[49m\u001B[43m,\u001B[49m\n\u001B[1;32m     73\u001B[0m \u001B[43m            \u001B[49m\u001B[43msample\u001B[49m\u001B[38;5;241;43m=\u001B[39;49m\u001B[43msample\u001B[49m\u001B[43m,\u001B[49m\n\u001B[1;32m     74\u001B[0m \u001B[43m            \u001B[49m\u001B[43mrandom_state\u001B[49m\u001B[38;5;241;43m=\u001B[39;49m\u001B[43mrandom_state\u001B[49m\u001B[43m,\u001B[49m\n\u001B[1;32m     75\u001B[0m \u001B[43m            \u001B[49m\u001B[43mlazy\u001B[49m\u001B[38;5;241;43m=\u001B[39;49m\u001B[43mlazy\u001B[49m\u001B[43m,\u001B[49m\n\u001B[1;32m     76\u001B[0m \u001B[43m            \u001B[49m\u001B[43minplace\u001B[49m\u001B[38;5;241;43m=\u001B[39;49m\u001B[43minplace\u001B[49m\u001B[43m,\u001B[49m\n\u001B[1;32m     77\u001B[0m \u001B[43m        \u001B[49m\u001B[43m)\u001B[49m\n\u001B[1;32m     79\u001B[0m         \u001B[38;5;28;01mif\u001B[39;00m return_check_obj:\n\u001B[1;32m     80\u001B[0m             \u001B[38;5;28;01mreturn\u001B[39;00m validated_check_obj\n",
      "File \u001B[0;32m~/Library/Caches/pypoetry/virtualenvs/pandera-hello-IuF_8Kcx-py3.11/lib/python3.11/site-packages/pandera/backends/pandas/array.py:69\u001B[0m, in \u001B[0;36mArraySchemaBackend.validate\u001B[0;34m(self, check_obj, schema, head, tail, sample, random_state, lazy, inplace)\u001B[0m\n\u001B[1;32m     66\u001B[0m     error_handler\u001B[38;5;241m.\u001B[39mcollect_error(exc\u001B[38;5;241m.\u001B[39mreason_code, exc)\n\u001B[1;32m     68\u001B[0m \u001B[38;5;66;03m# run the core checks\u001B[39;00m\n\u001B[0;32m---> 69\u001B[0m error_handler \u001B[38;5;241m=\u001B[39m \u001B[38;5;28;43mself\u001B[39;49m\u001B[38;5;241;43m.\u001B[39;49m\u001B[43mrun_checks_and_handle_errors\u001B[49m\u001B[43m(\u001B[49m\n\u001B[1;32m     70\u001B[0m \u001B[43m    \u001B[49m\u001B[43merror_handler\u001B[49m\u001B[43m,\u001B[49m\n\u001B[1;32m     71\u001B[0m \u001B[43m    \u001B[49m\u001B[43mschema\u001B[49m\u001B[43m,\u001B[49m\n\u001B[1;32m     72\u001B[0m \u001B[43m    \u001B[49m\u001B[43mcheck_obj\u001B[49m\u001B[43m,\u001B[49m\n\u001B[1;32m     73\u001B[0m \u001B[43m    \u001B[49m\u001B[43mhead\u001B[49m\u001B[43m,\u001B[49m\n\u001B[1;32m     74\u001B[0m \u001B[43m    \u001B[49m\u001B[43mtail\u001B[49m\u001B[43m,\u001B[49m\n\u001B[1;32m     75\u001B[0m \u001B[43m    \u001B[49m\u001B[43msample\u001B[49m\u001B[43m,\u001B[49m\n\u001B[1;32m     76\u001B[0m \u001B[43m    \u001B[49m\u001B[43mrandom_state\u001B[49m\u001B[43m,\u001B[49m\n\u001B[1;32m     77\u001B[0m \u001B[43m\u001B[49m\u001B[43m)\u001B[49m\n\u001B[1;32m     79\u001B[0m \u001B[38;5;28;01mif\u001B[39;00m lazy \u001B[38;5;129;01mand\u001B[39;00m error_handler\u001B[38;5;241m.\u001B[39mcollected_errors:\n\u001B[1;32m     80\u001B[0m     \u001B[38;5;28;01mif\u001B[39;00m \u001B[38;5;28mgetattr\u001B[39m(schema, \u001B[38;5;124m\"\u001B[39m\u001B[38;5;124mdrop_invalid_rows\u001B[39m\u001B[38;5;124m\"\u001B[39m, \u001B[38;5;28;01mFalse\u001B[39;00m):\n",
      "File \u001B[0;32m~/Library/Caches/pypoetry/virtualenvs/pandera-hello-IuF_8Kcx-py3.11/lib/python3.11/site-packages/pandera/backends/pandas/array.py:150\u001B[0m, in \u001B[0;36mArraySchemaBackend.run_checks_and_handle_errors\u001B[0;34m(self, error_handler, schema, check_obj, head, tail, sample, random_state)\u001B[0m\n\u001B[1;32m    139\u001B[0m         \u001B[38;5;28;01melse\u001B[39;00m:\n\u001B[1;32m    140\u001B[0m             error \u001B[38;5;241m=\u001B[39m SchemaError(\n\u001B[1;32m    141\u001B[0m                 schema\u001B[38;5;241m=\u001B[39mschema,\n\u001B[1;32m    142\u001B[0m                 data\u001B[38;5;241m=\u001B[39mcheck_obj,\n\u001B[0;32m   (...)\u001B[0m\n\u001B[1;32m    148\u001B[0m                 reason_code\u001B[38;5;241m=\u001B[39mresult\u001B[38;5;241m.\u001B[39mreason_code,\n\u001B[1;32m    149\u001B[0m             )\n\u001B[0;32m--> 150\u001B[0m             \u001B[43merror_handler\u001B[49m\u001B[38;5;241;43m.\u001B[39;49m\u001B[43mcollect_error\u001B[49m\u001B[43m(\u001B[49m\n\u001B[1;32m    151\u001B[0m \u001B[43m                \u001B[49m\u001B[43mresult\u001B[49m\u001B[38;5;241;43m.\u001B[39;49m\u001B[43mreason_code\u001B[49m\u001B[43m,\u001B[49m\n\u001B[1;32m    152\u001B[0m \u001B[43m                \u001B[49m\u001B[43merror\u001B[49m\u001B[43m,\u001B[49m\n\u001B[1;32m    153\u001B[0m \u001B[43m                \u001B[49m\u001B[43moriginal_exc\u001B[49m\u001B[38;5;241;43m=\u001B[39;49m\u001B[43mresult\u001B[49m\u001B[38;5;241;43m.\u001B[39;49m\u001B[43moriginal_exc\u001B[49m\u001B[43m,\u001B[49m\n\u001B[1;32m    154\u001B[0m \u001B[43m            \u001B[49m\u001B[43m)\u001B[49m\n\u001B[1;32m    156\u001B[0m \u001B[38;5;28;01mreturn\u001B[39;00m error_handler\n",
      "File \u001B[0;32m~/Library/Caches/pypoetry/virtualenvs/pandera-hello-IuF_8Kcx-py3.11/lib/python3.11/site-packages/pandera/error_handlers.py:38\u001B[0m, in \u001B[0;36mSchemaErrorHandler.collect_error\u001B[0;34m(self, reason_code, schema_error, original_exc)\u001B[0m\n\u001B[1;32m     31\u001B[0m \u001B[38;5;250m\u001B[39m\u001B[38;5;124;03m\"\"\"Collect schema error, raising exception if lazy is False.\u001B[39;00m\n\u001B[1;32m     32\u001B[0m \n\u001B[1;32m     33\u001B[0m \u001B[38;5;124;03m:param reason_code: string representing reason for error.\u001B[39;00m\n\u001B[1;32m     34\u001B[0m \u001B[38;5;124;03m:param schema_error: ``SchemaError`` object.\u001B[39;00m\n\u001B[1;32m     35\u001B[0m \u001B[38;5;124;03m:param original_exc: original exception associated with the SchemaError.\u001B[39;00m\n\u001B[1;32m     36\u001B[0m \u001B[38;5;124;03m\"\"\"\u001B[39;00m\n\u001B[1;32m     37\u001B[0m \u001B[38;5;28;01mif\u001B[39;00m \u001B[38;5;129;01mnot\u001B[39;00m \u001B[38;5;28mself\u001B[39m\u001B[38;5;241m.\u001B[39m_lazy:\n\u001B[0;32m---> 38\u001B[0m     \u001B[38;5;28;01mraise\u001B[39;00m schema_error \u001B[38;5;28;01mfrom\u001B[39;00m \u001B[38;5;21;01moriginal_exc\u001B[39;00m\n\u001B[1;32m     40\u001B[0m \u001B[38;5;66;03m# delete data of validated object from SchemaError object to prevent\u001B[39;00m\n\u001B[1;32m     41\u001B[0m \u001B[38;5;66;03m# storing copies of the validated DataFrame/Series for every\u001B[39;00m\n\u001B[1;32m     42\u001B[0m \u001B[38;5;66;03m# SchemaError collected.\u001B[39;00m\n\u001B[1;32m     43\u001B[0m \u001B[38;5;28;01mdel\u001B[39;00m schema_error\u001B[38;5;241m.\u001B[39mdata\n",
      "\u001B[0;31mSchemaError\u001B[0m: <Schema Column(name=price, type=DataType(int64))> failed element-wise validator 0:\n<Check less_than: less_than(3)>\nfailure cases:\n   index  failure_case\n0      2             3\n1      3             4"
     ]
    }
   ],
   "source": [
    "schema.validate(fruits)"
   ],
   "metadata": {
    "collapsed": false,
    "ExecuteTime": {
     "end_time": "2023-08-23T21:40:26.164727Z",
     "start_time": "2023-08-23T21:40:25.997799Z"
    }
   }
  },
  {
   "cell_type": "code",
   "execution_count": 83,
   "id": "737b2ac9",
   "metadata": {
    "ExecuteTime": {
     "end_time": "2023-08-23T21:40:26.643866Z",
     "start_time": "2023-08-23T21:40:26.569070Z"
    }
   },
   "outputs": [
    {
     "data": {
      "text/plain": "     name    store  price\n0   apple     Aldi      2\n1  banana  Walmart      1\n2   apple  Walmart      3\n3  orange     Aldi      4",
      "text/html": "<div>\n<style scoped>\n    .dataframe tbody tr th:only-of-type {\n        vertical-align: middle;\n    }\n\n    .dataframe tbody tr th {\n        vertical-align: top;\n    }\n\n    .dataframe thead th {\n        text-align: right;\n    }\n</style>\n<table border=\"1\" class=\"dataframe\">\n  <thead>\n    <tr style=\"text-align: right;\">\n      <th></th>\n      <th>name</th>\n      <th>store</th>\n      <th>price</th>\n    </tr>\n  </thead>\n  <tbody>\n    <tr>\n      <th>0</th>\n      <td>apple</td>\n      <td>Aldi</td>\n      <td>2</td>\n    </tr>\n    <tr>\n      <th>1</th>\n      <td>banana</td>\n      <td>Walmart</td>\n      <td>1</td>\n    </tr>\n    <tr>\n      <th>2</th>\n      <td>apple</td>\n      <td>Walmart</td>\n      <td>3</td>\n    </tr>\n    <tr>\n      <th>3</th>\n      <td>orange</td>\n      <td>Aldi</td>\n      <td>4</td>\n    </tr>\n  </tbody>\n</table>\n</div>"
     },
     "execution_count": 83,
     "metadata": {},
     "output_type": "execute_result"
    }
   ],
   "source": [
    "schema = pa.DataFrameSchema(\n",
    "    {\n",
    "        \"name\": Column(str, Check.isin(available_fruits)),\n",
    "        \"store\": Column(str, Check.isin(nearby_stores)),\n",
    "        \"price\": Column(\n",
    "            int,\n",
    "            [\n",
    "                Check.less_than(5),\n",
    "                Check(lambda price: np.mean(price) < 4, element_wise=False),\n",
    "            ],\n",
    "        ),\n",
    "    }\n",
    ")\n",
    "schema.validate(fruits)\n"
   ]
  },
  {
   "cell_type": "markdown",
   "source": [
    "### More checks in the [documentation](https://pandera.readthedocs.io/en/stable/checks.html)"
   ],
   "metadata": {
    "collapsed": false
   }
  },
  {
   "cell_type": "markdown",
   "id": "96cfe159",
   "metadata": {},
   "source": [
    "# Schema Model"
   ]
  },
  {
   "cell_type": "code",
   "execution_count": 71,
   "id": "fade9cb7",
   "metadata": {
    "ExecuteTime": {
     "end_time": "2023-08-23T18:35:54.407410Z",
     "start_time": "2023-08-23T18:35:54.403226Z"
    }
   },
   "outputs": [
    {
     "data": {
      "text/plain": "     name    store  price\n0   apple     Aldi      2\n1  banana  Walmart      1\n2   apple  Walmart      3\n3  orange     Aldi      4",
      "text/html": "<div>\n<style scoped>\n    .dataframe tbody tr th:only-of-type {\n        vertical-align: middle;\n    }\n\n    .dataframe tbody tr th {\n        vertical-align: top;\n    }\n\n    .dataframe thead th {\n        text-align: right;\n    }\n</style>\n<table border=\"1\" class=\"dataframe\">\n  <thead>\n    <tr style=\"text-align: right;\">\n      <th></th>\n      <th>name</th>\n      <th>store</th>\n      <th>price</th>\n    </tr>\n  </thead>\n  <tbody>\n    <tr>\n      <th>0</th>\n      <td>apple</td>\n      <td>Aldi</td>\n      <td>2</td>\n    </tr>\n    <tr>\n      <th>1</th>\n      <td>banana</td>\n      <td>Walmart</td>\n      <td>1</td>\n    </tr>\n    <tr>\n      <th>2</th>\n      <td>apple</td>\n      <td>Walmart</td>\n      <td>3</td>\n    </tr>\n    <tr>\n      <th>3</th>\n      <td>orange</td>\n      <td>Aldi</td>\n      <td>4</td>\n    </tr>\n  </tbody>\n</table>\n</div>"
     },
     "execution_count": 71,
     "metadata": {},
     "output_type": "execute_result"
    }
   ],
   "source": [
    "from pandera.typing import Series\n",
    "\n",
    "\n",
    "class Schema(pa.SchemaModel):\n",
    "    name: Series[str] = pa.Field(isin=available_fruits)\n",
    "    store: Series[str] = pa.Field(isin=nearby_stores)\n",
    "    price: Series[int] = pa.Field(le=5)\n",
    "\n",
    "    @pa.check(\"price\")\n",
    "    def price_sum_lt_20(cls, price: Series[int]) -> Series[bool]:\n",
    "        return np.sum(price) < 20\n",
    "\n",
    "    @pa.check(\"price\")\n",
    "    def price_mean_lt_5(cls, price: Series[int]) -> Series[bool]:\n",
    "        return np.mean(price) < 5\n",
    "\n",
    "Schema.validate(fruits)"
   ]
  },
  {
   "cell_type": "markdown",
   "id": "a79cccf4",
   "metadata": {},
   "source": [
    "# Validation Decorator "
   ]
  },
  {
   "cell_type": "markdown",
   "id": "01b25cd1",
   "metadata": {},
   "source": [
    "## Check Input"
   ]
  },
  {
   "cell_type": "code",
   "execution_count": 43,
   "id": "05df26e0",
   "metadata": {
    "ExecuteTime": {
     "end_time": "2023-08-23T17:39:33.037514Z",
     "start_time": "2023-08-23T17:39:33.025124Z"
    }
   },
   "outputs": [
    {
     "data": {
      "text/plain": "10"
     },
     "execution_count": 43,
     "metadata": {},
     "output_type": "execute_result"
    }
   ],
   "source": [
    "fruits = pd.DataFrame(\n",
    "    {\n",
    "        \"name\": [\"apple\", \"banana\", \"apple\", \"orange\"],\n",
    "        \"store\": [\"Aldi\", \"Walmart\", \"Walmart\", \"Aldi\"],\n",
    "        \"price\": [2, 1, 3, 4],\n",
    "    }\n",
    ")\n",
    "\n",
    "schema = pa.DataFrameSchema(\n",
    "    {\n",
    "        \"name\": Column(str, Check.isin(available_fruits)),\n",
    "        \"store\": Column(str, Check.isin(nearby_stores)),\n",
    "        \"price\": Column(int, Check.less_than(5)),\n",
    "    }\n",
    ")\n",
    "\n",
    "\n",
    "def get_total_price(fruits: pd.DataFrame, schema: pa.DataFrameSchema):\n",
    "    validated = schema.validate(fruits)\n",
    "    return validated[\"price\"].sum()\n",
    "\n",
    "\n",
    "get_total_price(fruits, schema)"
   ]
  },
  {
   "cell_type": "code",
   "execution_count": 44,
   "id": "f4fe5959",
   "metadata": {
    "ExecuteTime": {
     "end_time": "2023-08-23T17:39:34.006560Z",
     "start_time": "2023-08-23T17:39:33.964749Z"
    }
   },
   "outputs": [
    {
     "data": {
      "text/plain": "10"
     },
     "execution_count": 44,
     "metadata": {},
     "output_type": "execute_result"
    }
   ],
   "source": [
    "from pandera import check_input, check_output, check_io\n",
    "\n",
    "@check_input(schema)\n",
    "def get_total_price(fruits: pd.DataFrame):\n",
    "    return fruits.price.sum()\n",
    "\n",
    "\n",
    "get_total_price(fruits)"
   ]
  },
  {
   "cell_type": "markdown",
   "id": "47fe5471",
   "metadata": {},
   "source": [
    "## Check Output"
   ]
  },
  {
   "cell_type": "code",
   "execution_count": 30,
   "id": "f4000414",
   "metadata": {
    "ExecuteTime": {
     "end_time": "2022-03-25T19:23:45.156508Z",
     "start_time": "2022-03-25T19:23:45.121056Z"
    },
    "code_folding": []
   },
   "outputs": [
    {
     "data": {
      "text/html": [
       "<div>\n",
       "<style scoped>\n",
       "    .dataframe tbody tr th:only-of-type {\n",
       "        vertical-align: middle;\n",
       "    }\n",
       "\n",
       "    .dataframe tbody tr th {\n",
       "        vertical-align: top;\n",
       "    }\n",
       "\n",
       "    .dataframe thead th {\n",
       "        text-align: right;\n",
       "    }\n",
       "</style>\n",
       "<table border=\"1\" class=\"dataframe\">\n",
       "  <thead>\n",
       "    <tr style=\"text-align: right;\">\n",
       "      <th></th>\n",
       "      <th>name</th>\n",
       "      <th>store</th>\n",
       "      <th>price</th>\n",
       "    </tr>\n",
       "  </thead>\n",
       "  <tbody>\n",
       "    <tr>\n",
       "      <th>0</th>\n",
       "      <td>apple</td>\n",
       "      <td>Aldi</td>\n",
       "      <td>2</td>\n",
       "    </tr>\n",
       "    <tr>\n",
       "      <th>1</th>\n",
       "      <td>banana</td>\n",
       "      <td>Walmart</td>\n",
       "      <td>1</td>\n",
       "    </tr>\n",
       "    <tr>\n",
       "      <th>2</th>\n",
       "      <td>apple</td>\n",
       "      <td>Walmart</td>\n",
       "      <td>3</td>\n",
       "    </tr>\n",
       "    <tr>\n",
       "      <th>3</th>\n",
       "      <td>orange</td>\n",
       "      <td>Aldi</td>\n",
       "      <td>4</td>\n",
       "    </tr>\n",
       "    <tr>\n",
       "      <th>0</th>\n",
       "      <td>apple</td>\n",
       "      <td>Whole Foods</td>\n",
       "      <td>3</td>\n",
       "    </tr>\n",
       "    <tr>\n",
       "      <th>1</th>\n",
       "      <td>banana</td>\n",
       "      <td>Whole Foods</td>\n",
       "      <td>2</td>\n",
       "    </tr>\n",
       "    <tr>\n",
       "      <th>2</th>\n",
       "      <td>apple</td>\n",
       "      <td>Schnucks</td>\n",
       "      <td>4</td>\n",
       "    </tr>\n",
       "    <tr>\n",
       "      <th>3</th>\n",
       "      <td>orange</td>\n",
       "      <td>Schnucks</td>\n",
       "      <td>5</td>\n",
       "    </tr>\n",
       "  </tbody>\n",
       "</table>\n",
       "</div>"
      ],
      "text/plain": [
       "     name        store  price\n",
       "0   apple         Aldi      2\n",
       "1  banana      Walmart      1\n",
       "2   apple      Walmart      3\n",
       "3  orange         Aldi      4\n",
       "0   apple  Whole Foods      3\n",
       "1  banana  Whole Foods      2\n",
       "2   apple     Schnucks      4\n",
       "3  orange     Schnucks      5"
      ]
     },
     "execution_count": 30,
     "metadata": {},
     "output_type": "execute_result"
    },
    {
     "data": {
      "application/javascript": "\n            setTimeout(function() {\n                var nbb_cell_id = 30;\n                var nbb_unformatted_code = \"fruits_nearby = pd.DataFrame(\\n    {\\n        \\\"name\\\": [\\\"apple\\\", \\\"banana\\\", \\\"apple\\\", \\\"orange\\\"],\\n        \\\"store\\\": [\\\"Aldi\\\", \\\"Walmart\\\", \\\"Walmart\\\", \\\"Aldi\\\"],\\n        \\\"price\\\": [2, 1, 3, 4],\\n    }\\n)\\n\\nfruits_faraway = pd.DataFrame(\\n    {\\n        \\\"name\\\": [\\\"apple\\\", \\\"banana\\\", \\\"apple\\\", \\\"orange\\\"],\\n        \\\"store\\\": [\\\"Whole Foods\\\", \\\"Whole Foods\\\", \\\"Schnucks\\\", \\\"Schnucks\\\"],\\n        \\\"price\\\": [3, 2, 4, 5],\\n    }\\n)\\n\\nout_schema = pa.DataFrameSchema(\\n    {\\\"store\\\": Column(str, Check.isin([\\\"Aldi\\\", \\\"Walmart\\\", \\\"Whole Foods\\\", \\\"Schnucks\\\"]))}\\n)\\n\\n\\n@check_output(out_schema)\\ndef combine_fruits(fruits_nearby: pd.DataFrame, fruits_faraway: pd.DataFrame):\\n    fruits = pd.concat([fruits_nearby, fruits_faraway])\\n    return fruits\\n\\ncombine_fruits(fruits_nearby, fruits_faraway)\";\n                var nbb_formatted_code = \"fruits_nearby = pd.DataFrame(\\n    {\\n        \\\"name\\\": [\\\"apple\\\", \\\"banana\\\", \\\"apple\\\", \\\"orange\\\"],\\n        \\\"store\\\": [\\\"Aldi\\\", \\\"Walmart\\\", \\\"Walmart\\\", \\\"Aldi\\\"],\\n        \\\"price\\\": [2, 1, 3, 4],\\n    }\\n)\\n\\nfruits_faraway = pd.DataFrame(\\n    {\\n        \\\"name\\\": [\\\"apple\\\", \\\"banana\\\", \\\"apple\\\", \\\"orange\\\"],\\n        \\\"store\\\": [\\\"Whole Foods\\\", \\\"Whole Foods\\\", \\\"Schnucks\\\", \\\"Schnucks\\\"],\\n        \\\"price\\\": [3, 2, 4, 5],\\n    }\\n)\\n\\nout_schema = pa.DataFrameSchema(\\n    {\\\"store\\\": Column(str, Check.isin([\\\"Aldi\\\", \\\"Walmart\\\", \\\"Whole Foods\\\", \\\"Schnucks\\\"]))}\\n)\\n\\n\\n@check_output(out_schema)\\ndef combine_fruits(fruits_nearby: pd.DataFrame, fruits_faraway: pd.DataFrame):\\n    fruits = pd.concat([fruits_nearby, fruits_faraway])\\n    return fruits\\n\\n\\ncombine_fruits(fruits_nearby, fruits_faraway)\";\n                var nbb_cells = Jupyter.notebook.get_cells();\n                for (var i = 0; i < nbb_cells.length; ++i) {\n                    if (nbb_cells[i].input_prompt_number == nbb_cell_id) {\n                        if (nbb_cells[i].get_text() == nbb_unformatted_code) {\n                             nbb_cells[i].set_text(nbb_formatted_code);\n                        }\n                        break;\n                    }\n                }\n            }, 500);\n            ",
      "text/plain": [
       "<IPython.core.display.Javascript object>"
      ]
     },
     "metadata": {},
     "output_type": "display_data"
    }
   ],
   "source": [
    "fruits_nearby = pd.DataFrame(\n",
    "    {\n",
    "        \"name\": [\"apple\", \"banana\", \"apple\", \"orange\"],\n",
    "        \"store\": [\"Aldi\", \"Walmart\", \"Walmart\", \"Aldi\"],\n",
    "        \"price\": [2, 1, 3, 4],\n",
    "    }\n",
    ")\n",
    "\n",
    "fruits_faraway = pd.DataFrame(\n",
    "    {\n",
    "        \"name\": [\"apple\", \"banana\", \"apple\", \"orange\"],\n",
    "        \"store\": [\"Whole Foods\", \"Whole Foods\", \"Schnucks\", \"Schnucks\"],\n",
    "        \"price\": [3, 2, 4, 5],\n",
    "    }\n",
    ")\n",
    "\n",
    "out_schema = pa.DataFrameSchema(\n",
    "    {\"store\": Column(str, Check.isin([\"Aldi\", \"Walmart\", \"Whole Foods\", \"Schnucks\"]))}\n",
    ")\n",
    "\n",
    "\n",
    "@check_output(out_schema)\n",
    "def combine_fruits(fruits_nearby: pd.DataFrame, fruits_faraway: pd.DataFrame):\n",
    "    fruits = pd.concat([fruits_nearby, fruits_faraway])\n",
    "    return fruits\n",
    "\n",
    "\n",
    "combine_fruits(fruits_nearby, fruits_faraway)"
   ]
  },
  {
   "cell_type": "markdown",
   "id": "c56d96d2",
   "metadata": {},
   "source": [
    "## Check Both"
   ]
  },
  {
   "cell_type": "code",
   "execution_count": 31,
   "id": "1fcc660e",
   "metadata": {
    "ExecuteTime": {
     "end_time": "2022-03-25T19:23:56.679696Z",
     "start_time": "2022-03-25T19:23:56.654195Z"
    }
   },
   "outputs": [
    {
     "data": {
      "text/html": [
       "<div>\n",
       "<style scoped>\n",
       "    .dataframe tbody tr th:only-of-type {\n",
       "        vertical-align: middle;\n",
       "    }\n",
       "\n",
       "    .dataframe tbody tr th {\n",
       "        vertical-align: top;\n",
       "    }\n",
       "\n",
       "    .dataframe thead th {\n",
       "        text-align: right;\n",
       "    }\n",
       "</style>\n",
       "<table border=\"1\" class=\"dataframe\">\n",
       "  <thead>\n",
       "    <tr style=\"text-align: right;\">\n",
       "      <th></th>\n",
       "      <th>name</th>\n",
       "      <th>store</th>\n",
       "      <th>price</th>\n",
       "    </tr>\n",
       "  </thead>\n",
       "  <tbody>\n",
       "    <tr>\n",
       "      <th>0</th>\n",
       "      <td>apple</td>\n",
       "      <td>Aldi</td>\n",
       "      <td>2</td>\n",
       "    </tr>\n",
       "    <tr>\n",
       "      <th>1</th>\n",
       "      <td>banana</td>\n",
       "      <td>Walmart</td>\n",
       "      <td>1</td>\n",
       "    </tr>\n",
       "    <tr>\n",
       "      <th>2</th>\n",
       "      <td>apple</td>\n",
       "      <td>Walmart</td>\n",
       "      <td>3</td>\n",
       "    </tr>\n",
       "    <tr>\n",
       "      <th>3</th>\n",
       "      <td>orange</td>\n",
       "      <td>Aldi</td>\n",
       "      <td>4</td>\n",
       "    </tr>\n",
       "    <tr>\n",
       "      <th>0</th>\n",
       "      <td>apple</td>\n",
       "      <td>Whole Foods</td>\n",
       "      <td>3</td>\n",
       "    </tr>\n",
       "    <tr>\n",
       "      <th>1</th>\n",
       "      <td>banana</td>\n",
       "      <td>Whole Foods</td>\n",
       "      <td>2</td>\n",
       "    </tr>\n",
       "    <tr>\n",
       "      <th>2</th>\n",
       "      <td>apple</td>\n",
       "      <td>Schnucks</td>\n",
       "      <td>4</td>\n",
       "    </tr>\n",
       "    <tr>\n",
       "      <th>3</th>\n",
       "      <td>orange</td>\n",
       "      <td>Schnucks</td>\n",
       "      <td>5</td>\n",
       "    </tr>\n",
       "  </tbody>\n",
       "</table>\n",
       "</div>"
      ],
      "text/plain": [
       "     name        store  price\n",
       "0   apple         Aldi      2\n",
       "1  banana      Walmart      1\n",
       "2   apple      Walmart      3\n",
       "3  orange         Aldi      4\n",
       "0   apple  Whole Foods      3\n",
       "1  banana  Whole Foods      2\n",
       "2   apple     Schnucks      4\n",
       "3  orange     Schnucks      5"
      ]
     },
     "execution_count": 31,
     "metadata": {},
     "output_type": "execute_result"
    },
    {
     "data": {
      "application/javascript": "\n            setTimeout(function() {\n                var nbb_cell_id = 31;\n                var nbb_unformatted_code = \"in_schema = pa.DataFrameSchema({\\\"store\\\": Column(str)})\\n\\nout_schema = pa.DataFrameSchema(\\n    {\\\"store\\\": Column(str, Check.isin([\\\"Aldi\\\", \\\"Walmart\\\", \\\"Whole Foods\\\", \\\"Schnucks\\\"]))}\\n)\\n\\n\\n@check_io(fruits_nearby=in_schema, fruits_faraway=in_schema, out=out_schema)\\ndef combine_fruits(fruits_nearby: pd.DataFrame, fruits_faraway: pd.DataFrame):\\n    fruits = pd.concat([fruits_nearby, fruits_faraway])\\n    return fruits\\n\\n\\ncombine_fruits(fruits_nearby, fruits_faraway)\";\n                var nbb_formatted_code = \"in_schema = pa.DataFrameSchema({\\\"store\\\": Column(str)})\\n\\nout_schema = pa.DataFrameSchema(\\n    {\\\"store\\\": Column(str, Check.isin([\\\"Aldi\\\", \\\"Walmart\\\", \\\"Whole Foods\\\", \\\"Schnucks\\\"]))}\\n)\\n\\n\\n@check_io(fruits_nearby=in_schema, fruits_faraway=in_schema, out=out_schema)\\ndef combine_fruits(fruits_nearby: pd.DataFrame, fruits_faraway: pd.DataFrame):\\n    fruits = pd.concat([fruits_nearby, fruits_faraway])\\n    return fruits\\n\\n\\ncombine_fruits(fruits_nearby, fruits_faraway)\";\n                var nbb_cells = Jupyter.notebook.get_cells();\n                for (var i = 0; i < nbb_cells.length; ++i) {\n                    if (nbb_cells[i].input_prompt_number == nbb_cell_id) {\n                        if (nbb_cells[i].get_text() == nbb_unformatted_code) {\n                             nbb_cells[i].set_text(nbb_formatted_code);\n                        }\n                        break;\n                    }\n                }\n            }, 500);\n            ",
      "text/plain": [
       "<IPython.core.display.Javascript object>"
      ]
     },
     "metadata": {},
     "output_type": "display_data"
    }
   ],
   "source": [
    "in_schema = pa.DataFrameSchema({\"store\": Column(str)})\n",
    "\n",
    "out_schema = pa.DataFrameSchema(\n",
    "    {\"store\": Column(str, Check.isin([\"Aldi\", \"Walmart\", \"Whole Foods\", \"Schnucks\"]))}\n",
    ")\n",
    "\n",
    "\n",
    "@check_io(fruits_nearby=in_schema, fruits_faraway=in_schema, out=out_schema)\n",
    "def combine_fruits(fruits_nearby: pd.DataFrame, fruits_faraway: pd.DataFrame):\n",
    "    fruits = pd.concat([fruits_nearby, fruits_faraway])\n",
    "    return fruits\n",
    "\n",
    "\n",
    "combine_fruits(fruits_nearby, fruits_faraway)"
   ]
  },
  {
   "cell_type": "markdown",
   "id": "67f25784",
   "metadata": {},
   "source": [
    "# Other Arguments for Column Validation"
   ]
  },
  {
   "cell_type": "markdown",
   "id": "ab134b13",
   "metadata": {},
   "source": [
    "## Deal with Null Values"
   ]
  },
  {
   "cell_type": "code",
   "execution_count": 46,
   "id": "c07491f2",
   "metadata": {
    "ExecuteTime": {
     "end_time": "2023-08-23T17:42:16.136961Z",
     "start_time": "2023-08-23T17:42:16.126732Z"
    }
   },
   "outputs": [
    {
     "data": {
      "text/plain": "     name    store  price\n0   apple     Aldi      2\n1  banana  Walmart      1\n2   apple  Walmart      3\n3  orange      NaN      4",
      "text/html": "<div>\n<style scoped>\n    .dataframe tbody tr th:only-of-type {\n        vertical-align: middle;\n    }\n\n    .dataframe tbody tr th {\n        vertical-align: top;\n    }\n\n    .dataframe thead th {\n        text-align: right;\n    }\n</style>\n<table border=\"1\" class=\"dataframe\">\n  <thead>\n    <tr style=\"text-align: right;\">\n      <th></th>\n      <th>name</th>\n      <th>store</th>\n      <th>price</th>\n    </tr>\n  </thead>\n  <tbody>\n    <tr>\n      <th>0</th>\n      <td>apple</td>\n      <td>Aldi</td>\n      <td>2</td>\n    </tr>\n    <tr>\n      <th>1</th>\n      <td>banana</td>\n      <td>Walmart</td>\n      <td>1</td>\n    </tr>\n    <tr>\n      <th>2</th>\n      <td>apple</td>\n      <td>Walmart</td>\n      <td>3</td>\n    </tr>\n    <tr>\n      <th>3</th>\n      <td>orange</td>\n      <td>NaN</td>\n      <td>4</td>\n    </tr>\n  </tbody>\n</table>\n</div>"
     },
     "execution_count": 46,
     "metadata": {},
     "output_type": "execute_result"
    }
   ],
   "source": [
    "fruits = pd.DataFrame(\n",
    "    {\n",
    "        \"name\": [\"apple\", \"banana\", \"apple\", \"orange\"],\n",
    "        \"store\": [\"Aldi\", \"Walmart\", \"Walmart\", np.nan],\n",
    "        \"price\": [2, 1, 3, 4],\n",
    "    }\n",
    ")\n",
    "\n",
    "fruits"
   ]
  },
  {
   "cell_type": "code",
   "execution_count": 47,
   "id": "57828b2f",
   "metadata": {
    "ExecuteTime": {
     "end_time": "2023-08-23T17:42:16.902357Z",
     "start_time": "2023-08-23T17:42:16.855146Z"
    }
   },
   "outputs": [
    {
     "data": {
      "text/plain": "     name    store  price\n0   apple     Aldi      2\n1  banana  Walmart      1\n2   apple  Walmart      3\n3  orange      NaN      4",
      "text/html": "<div>\n<style scoped>\n    .dataframe tbody tr th:only-of-type {\n        vertical-align: middle;\n    }\n\n    .dataframe tbody tr th {\n        vertical-align: top;\n    }\n\n    .dataframe thead th {\n        text-align: right;\n    }\n</style>\n<table border=\"1\" class=\"dataframe\">\n  <thead>\n    <tr style=\"text-align: right;\">\n      <th></th>\n      <th>name</th>\n      <th>store</th>\n      <th>price</th>\n    </tr>\n  </thead>\n  <tbody>\n    <tr>\n      <th>0</th>\n      <td>apple</td>\n      <td>Aldi</td>\n      <td>2</td>\n    </tr>\n    <tr>\n      <th>1</th>\n      <td>banana</td>\n      <td>Walmart</td>\n      <td>1</td>\n    </tr>\n    <tr>\n      <th>2</th>\n      <td>apple</td>\n      <td>Walmart</td>\n      <td>3</td>\n    </tr>\n    <tr>\n      <th>3</th>\n      <td>orange</td>\n      <td>NaN</td>\n      <td>4</td>\n    </tr>\n  </tbody>\n</table>\n</div>"
     },
     "execution_count": 47,
     "metadata": {},
     "output_type": "execute_result"
    }
   ],
   "source": [
    "schema = pa.DataFrameSchema(\n",
    "    {\n",
    "        \"name\": Column(str, Check.isin(available_fruits)),\n",
    "        \"store\": Column(\n",
    "            str,\n",
    "            Check.isin(nearby_stores),\n",
    "            nullable=True,\n",
    "        ),\n",
    "        \"price\": Column(int, Check.less_than(5)),\n",
    "    }\n",
    ")\n",
    "schema.validate(fruits)\n"
   ]
  },
  {
   "cell_type": "markdown",
   "source": [
    "# Deal with data types"
   ],
   "metadata": {
    "collapsed": false
   }
  },
  {
   "cell_type": "code",
   "execution_count": 49,
   "outputs": [],
   "source": [
    "fruits = pd.DataFrame(\n",
    "    {\n",
    "        \"name\": [\"apple\", \"banana\", \"apple\", \"orange\"],\n",
    "        \"store\": [\"Aldi\", \"Walmart\", \"Walmart\", \"Aldi\"],\n",
    "        \"price\": [\"2\", \"1\", \"3\", \"4\"],\n",
    "    }\n",
    ")"
   ],
   "metadata": {
    "collapsed": false,
    "ExecuteTime": {
     "end_time": "2023-08-23T17:42:58.246097Z",
     "start_time": "2023-08-23T17:42:58.241320Z"
    }
   }
  },
  {
   "cell_type": "code",
   "execution_count": 50,
   "outputs": [
    {
     "data": {
      "text/plain": "     name    store  price\n0   apple     Aldi      2\n1  banana  Walmart      1\n2   apple  Walmart      3\n3  orange     Aldi      4",
      "text/html": "<div>\n<style scoped>\n    .dataframe tbody tr th:only-of-type {\n        vertical-align: middle;\n    }\n\n    .dataframe tbody tr th {\n        vertical-align: top;\n    }\n\n    .dataframe thead th {\n        text-align: right;\n    }\n</style>\n<table border=\"1\" class=\"dataframe\">\n  <thead>\n    <tr style=\"text-align: right;\">\n      <th></th>\n      <th>name</th>\n      <th>store</th>\n      <th>price</th>\n    </tr>\n  </thead>\n  <tbody>\n    <tr>\n      <th>0</th>\n      <td>apple</td>\n      <td>Aldi</td>\n      <td>2</td>\n    </tr>\n    <tr>\n      <th>1</th>\n      <td>banana</td>\n      <td>Walmart</td>\n      <td>1</td>\n    </tr>\n    <tr>\n      <th>2</th>\n      <td>apple</td>\n      <td>Walmart</td>\n      <td>3</td>\n    </tr>\n    <tr>\n      <th>3</th>\n      <td>orange</td>\n      <td>Aldi</td>\n      <td>4</td>\n    </tr>\n  </tbody>\n</table>\n</div>"
     },
     "execution_count": 50,
     "metadata": {},
     "output_type": "execute_result"
    }
   ],
   "source": [
    "schema = pa.DataFrameSchema(\n",
    "    {\n",
    "        \"name\": Column(str, Check.isin(available_fruits)),\n",
    "        \"store\": Column( str, Check.isin(nearby_stores)),\n",
    "        \"price\": Column(\n",
    "            int,\n",
    "            Check.less_than(5),\n",
    "            coerce=True\n",
    "        ),\n",
    "    }\n",
    ")\n",
    "schema.validate(fruits)\n"
   ],
   "metadata": {
    "collapsed": false,
    "ExecuteTime": {
     "end_time": "2023-08-23T17:42:58.421416Z",
     "start_time": "2023-08-23T17:42:58.382807Z"
    }
   }
  },
  {
   "cell_type": "markdown",
   "id": "e4998af4",
   "metadata": {},
   "source": [
    "## Deal with Duplicates"
   ]
  },
  {
   "cell_type": "code",
   "execution_count": 53,
   "id": "a0d79c0a",
   "metadata": {
    "ExecuteTime": {
     "end_time": "2023-08-23T17:43:50.874829Z",
     "start_time": "2023-08-23T17:43:50.731900Z"
    }
   },
   "outputs": [
    {
     "ename": "SchemaError",
     "evalue": "series 'store' contains duplicate values:\n0       Aldi\n1    Walmart\n2    Walmart\n3       Aldi\nName: store, dtype: object",
     "output_type": "error",
     "traceback": [
      "\u001B[0;31m---------------------------------------------------------------------------\u001B[0m",
      "\u001B[0;31mSchemaError\u001B[0m                               Traceback (most recent call last)",
      "Cell \u001B[0;32mIn[53], line 13\u001B[0m\n\u001B[1;32m      1\u001B[0m schema \u001B[38;5;241m=\u001B[39m pa\u001B[38;5;241m.\u001B[39mDataFrameSchema(\n\u001B[1;32m      2\u001B[0m     {\n\u001B[1;32m      3\u001B[0m         \u001B[38;5;124m\"\u001B[39m\u001B[38;5;124mname\u001B[39m\u001B[38;5;124m\"\u001B[39m: Column(\u001B[38;5;28mstr\u001B[39m, Check\u001B[38;5;241m.\u001B[39misin(available_fruits)),\n\u001B[0;32m   (...)\u001B[0m\n\u001B[1;32m     11\u001B[0m     }\n\u001B[1;32m     12\u001B[0m )\n\u001B[0;32m---> 13\u001B[0m \u001B[43mschema\u001B[49m\u001B[38;5;241;43m.\u001B[39;49m\u001B[43mvalidate\u001B[49m\u001B[43m(\u001B[49m\u001B[43mfruits\u001B[49m\u001B[43m)\u001B[49m\n",
      "File \u001B[0;32m~/Library/Caches/pypoetry/virtualenvs/pandera-hello-IuF_8Kcx-py3.11/lib/python3.11/site-packages/pandera/api/pandas/container.py:366\u001B[0m, in \u001B[0;36mDataFrameSchema.validate\u001B[0;34m(self, check_obj, head, tail, sample, random_state, lazy, inplace)\u001B[0m\n\u001B[1;32m    354\u001B[0m     check_obj \u001B[38;5;241m=\u001B[39m check_obj\u001B[38;5;241m.\u001B[39mmap_partitions(  \u001B[38;5;66;03m# type: ignore [operator]\u001B[39;00m\n\u001B[1;32m    355\u001B[0m         \u001B[38;5;28mself\u001B[39m\u001B[38;5;241m.\u001B[39m_validate,\n\u001B[1;32m    356\u001B[0m         head\u001B[38;5;241m=\u001B[39mhead,\n\u001B[0;32m   (...)\u001B[0m\n\u001B[1;32m    362\u001B[0m         meta\u001B[38;5;241m=\u001B[39mcheck_obj,\n\u001B[1;32m    363\u001B[0m     )\n\u001B[1;32m    364\u001B[0m     \u001B[38;5;28;01mreturn\u001B[39;00m check_obj\u001B[38;5;241m.\u001B[39mpandera\u001B[38;5;241m.\u001B[39madd_schema(\u001B[38;5;28mself\u001B[39m)\n\u001B[0;32m--> 366\u001B[0m \u001B[38;5;28;01mreturn\u001B[39;00m \u001B[38;5;28;43mself\u001B[39;49m\u001B[38;5;241;43m.\u001B[39;49m\u001B[43m_validate\u001B[49m\u001B[43m(\u001B[49m\n\u001B[1;32m    367\u001B[0m \u001B[43m    \u001B[49m\u001B[43mcheck_obj\u001B[49m\u001B[38;5;241;43m=\u001B[39;49m\u001B[43mcheck_obj\u001B[49m\u001B[43m,\u001B[49m\n\u001B[1;32m    368\u001B[0m \u001B[43m    \u001B[49m\u001B[43mhead\u001B[49m\u001B[38;5;241;43m=\u001B[39;49m\u001B[43mhead\u001B[49m\u001B[43m,\u001B[49m\n\u001B[1;32m    369\u001B[0m \u001B[43m    \u001B[49m\u001B[43mtail\u001B[49m\u001B[38;5;241;43m=\u001B[39;49m\u001B[43mtail\u001B[49m\u001B[43m,\u001B[49m\n\u001B[1;32m    370\u001B[0m \u001B[43m    \u001B[49m\u001B[43msample\u001B[49m\u001B[38;5;241;43m=\u001B[39;49m\u001B[43msample\u001B[49m\u001B[43m,\u001B[49m\n\u001B[1;32m    371\u001B[0m \u001B[43m    \u001B[49m\u001B[43mrandom_state\u001B[49m\u001B[38;5;241;43m=\u001B[39;49m\u001B[43mrandom_state\u001B[49m\u001B[43m,\u001B[49m\n\u001B[1;32m    372\u001B[0m \u001B[43m    \u001B[49m\u001B[43mlazy\u001B[49m\u001B[38;5;241;43m=\u001B[39;49m\u001B[43mlazy\u001B[49m\u001B[43m,\u001B[49m\n\u001B[1;32m    373\u001B[0m \u001B[43m    \u001B[49m\u001B[43minplace\u001B[49m\u001B[38;5;241;43m=\u001B[39;49m\u001B[43minplace\u001B[49m\u001B[43m,\u001B[49m\n\u001B[1;32m    374\u001B[0m \u001B[43m\u001B[49m\u001B[43m)\u001B[49m\n",
      "File \u001B[0;32m~/Library/Caches/pypoetry/virtualenvs/pandera-hello-IuF_8Kcx-py3.11/lib/python3.11/site-packages/pandera/api/pandas/container.py:395\u001B[0m, in \u001B[0;36mDataFrameSchema._validate\u001B[0;34m(self, check_obj, head, tail, sample, random_state, lazy, inplace)\u001B[0m\n\u001B[1;32m    386\u001B[0m \u001B[38;5;28;01mif\u001B[39;00m \u001B[38;5;28mself\u001B[39m\u001B[38;5;241m.\u001B[39m_is_inferred:\n\u001B[1;32m    387\u001B[0m     warnings\u001B[38;5;241m.\u001B[39mwarn(\n\u001B[1;32m    388\u001B[0m         \u001B[38;5;124mf\u001B[39m\u001B[38;5;124m\"\u001B[39m\u001B[38;5;124mThis \u001B[39m\u001B[38;5;132;01m{\u001B[39;00m\u001B[38;5;28mtype\u001B[39m(\u001B[38;5;28mself\u001B[39m)\u001B[38;5;132;01m}\u001B[39;00m\u001B[38;5;124m is an inferred schema that hasn\u001B[39m\u001B[38;5;124m'\u001B[39m\u001B[38;5;124mt been \u001B[39m\u001B[38;5;124m\"\u001B[39m\n\u001B[1;32m    389\u001B[0m         \u001B[38;5;124m\"\u001B[39m\u001B[38;5;124mmodified. It\u001B[39m\u001B[38;5;124m'\u001B[39m\u001B[38;5;124ms recommended that you refine the schema \u001B[39m\u001B[38;5;124m\"\u001B[39m\n\u001B[0;32m   (...)\u001B[0m\n\u001B[1;32m    392\u001B[0m         \u001B[38;5;167;01mUserWarning\u001B[39;00m,\n\u001B[1;32m    393\u001B[0m     )\n\u001B[0;32m--> 395\u001B[0m \u001B[38;5;28;01mreturn\u001B[39;00m \u001B[38;5;28;43mself\u001B[39;49m\u001B[38;5;241;43m.\u001B[39;49m\u001B[43mget_backend\u001B[49m\u001B[43m(\u001B[49m\u001B[43mcheck_obj\u001B[49m\u001B[43m)\u001B[49m\u001B[38;5;241;43m.\u001B[39;49m\u001B[43mvalidate\u001B[49m\u001B[43m(\u001B[49m\n\u001B[1;32m    396\u001B[0m \u001B[43m    \u001B[49m\u001B[43mcheck_obj\u001B[49m\u001B[43m,\u001B[49m\n\u001B[1;32m    397\u001B[0m \u001B[43m    \u001B[49m\u001B[43mschema\u001B[49m\u001B[38;5;241;43m=\u001B[39;49m\u001B[38;5;28;43mself\u001B[39;49m\u001B[43m,\u001B[49m\n\u001B[1;32m    398\u001B[0m \u001B[43m    \u001B[49m\u001B[43mhead\u001B[49m\u001B[38;5;241;43m=\u001B[39;49m\u001B[43mhead\u001B[49m\u001B[43m,\u001B[49m\n\u001B[1;32m    399\u001B[0m \u001B[43m    \u001B[49m\u001B[43mtail\u001B[49m\u001B[38;5;241;43m=\u001B[39;49m\u001B[43mtail\u001B[49m\u001B[43m,\u001B[49m\n\u001B[1;32m    400\u001B[0m \u001B[43m    \u001B[49m\u001B[43msample\u001B[49m\u001B[38;5;241;43m=\u001B[39;49m\u001B[43msample\u001B[49m\u001B[43m,\u001B[49m\n\u001B[1;32m    401\u001B[0m \u001B[43m    \u001B[49m\u001B[43mrandom_state\u001B[49m\u001B[38;5;241;43m=\u001B[39;49m\u001B[43mrandom_state\u001B[49m\u001B[43m,\u001B[49m\n\u001B[1;32m    402\u001B[0m \u001B[43m    \u001B[49m\u001B[43mlazy\u001B[49m\u001B[38;5;241;43m=\u001B[39;49m\u001B[43mlazy\u001B[49m\u001B[43m,\u001B[49m\n\u001B[1;32m    403\u001B[0m \u001B[43m    \u001B[49m\u001B[43minplace\u001B[49m\u001B[38;5;241;43m=\u001B[39;49m\u001B[43minplace\u001B[49m\u001B[43m,\u001B[49m\n\u001B[1;32m    404\u001B[0m \u001B[43m\u001B[49m\u001B[43m)\u001B[49m\n",
      "File \u001B[0;32m~/Library/Caches/pypoetry/virtualenvs/pandera-hello-IuF_8Kcx-py3.11/lib/python3.11/site-packages/pandera/backends/pandas/container.py:97\u001B[0m, in \u001B[0;36mDataFrameSchemaBackend.validate\u001B[0;34m(self, check_obj, schema, head, tail, sample, random_state, lazy, inplace)\u001B[0m\n\u001B[1;32m     92\u001B[0m components \u001B[38;5;241m=\u001B[39m \u001B[38;5;28mself\u001B[39m\u001B[38;5;241m.\u001B[39mcollect_schema_components(\n\u001B[1;32m     93\u001B[0m     check_obj, schema, column_info\n\u001B[1;32m     94\u001B[0m )\n\u001B[1;32m     96\u001B[0m \u001B[38;5;66;03m# run the checks\u001B[39;00m\n\u001B[0;32m---> 97\u001B[0m error_handler \u001B[38;5;241m=\u001B[39m \u001B[38;5;28;43mself\u001B[39;49m\u001B[38;5;241;43m.\u001B[39;49m\u001B[43mrun_checks_and_handle_errors\u001B[49m\u001B[43m(\u001B[49m\n\u001B[1;32m     98\u001B[0m \u001B[43m    \u001B[49m\u001B[43merror_handler\u001B[49m\u001B[43m,\u001B[49m\n\u001B[1;32m     99\u001B[0m \u001B[43m    \u001B[49m\u001B[43mschema\u001B[49m\u001B[43m,\u001B[49m\n\u001B[1;32m    100\u001B[0m \u001B[43m    \u001B[49m\u001B[43mcheck_obj\u001B[49m\u001B[43m,\u001B[49m\n\u001B[1;32m    101\u001B[0m \u001B[43m    \u001B[49m\u001B[43mcolumn_info\u001B[49m\u001B[43m,\u001B[49m\n\u001B[1;32m    102\u001B[0m \u001B[43m    \u001B[49m\u001B[43msample\u001B[49m\u001B[43m,\u001B[49m\n\u001B[1;32m    103\u001B[0m \u001B[43m    \u001B[49m\u001B[43mcomponents\u001B[49m\u001B[43m,\u001B[49m\n\u001B[1;32m    104\u001B[0m \u001B[43m    \u001B[49m\u001B[43mlazy\u001B[49m\u001B[43m,\u001B[49m\n\u001B[1;32m    105\u001B[0m \u001B[43m    \u001B[49m\u001B[43mhead\u001B[49m\u001B[43m,\u001B[49m\n\u001B[1;32m    106\u001B[0m \u001B[43m    \u001B[49m\u001B[43mtail\u001B[49m\u001B[43m,\u001B[49m\n\u001B[1;32m    107\u001B[0m \u001B[43m    \u001B[49m\u001B[43mrandom_state\u001B[49m\u001B[43m,\u001B[49m\n\u001B[1;32m    108\u001B[0m \u001B[43m\u001B[49m\u001B[43m)\u001B[49m\n\u001B[1;32m    110\u001B[0m \u001B[38;5;28;01mif\u001B[39;00m error_handler\u001B[38;5;241m.\u001B[39mcollected_errors:\n\u001B[1;32m    111\u001B[0m     \u001B[38;5;28;01mif\u001B[39;00m \u001B[38;5;28mgetattr\u001B[39m(schema, \u001B[38;5;124m\"\u001B[39m\u001B[38;5;124mdrop_invalid_rows\u001B[39m\u001B[38;5;124m\"\u001B[39m, \u001B[38;5;28;01mFalse\u001B[39;00m):\n",
      "File \u001B[0;32m~/Library/Caches/pypoetry/virtualenvs/pandera-hello-IuF_8Kcx-py3.11/lib/python3.11/site-packages/pandera/backends/pandas/container.py:172\u001B[0m, in \u001B[0;36mDataFrameSchemaBackend.run_checks_and_handle_errors\u001B[0;34m(self, error_handler, schema, check_obj, column_info, sample, components, lazy, head, tail, random_state)\u001B[0m\n\u001B[1;32m    161\u001B[0m         \u001B[38;5;28;01melse\u001B[39;00m:\n\u001B[1;32m    162\u001B[0m             error \u001B[38;5;241m=\u001B[39m SchemaError(\n\u001B[1;32m    163\u001B[0m                 schema,\n\u001B[1;32m    164\u001B[0m                 data\u001B[38;5;241m=\u001B[39mcheck_obj,\n\u001B[0;32m   (...)\u001B[0m\n\u001B[1;32m    170\u001B[0m                 reason_code\u001B[38;5;241m=\u001B[39mresult\u001B[38;5;241m.\u001B[39mreason_code,\n\u001B[1;32m    171\u001B[0m             )\n\u001B[0;32m--> 172\u001B[0m         \u001B[43merror_handler\u001B[49m\u001B[38;5;241;43m.\u001B[39;49m\u001B[43mcollect_error\u001B[49m\u001B[43m(\u001B[49m\n\u001B[1;32m    173\u001B[0m \u001B[43m            \u001B[49m\u001B[43mresult\u001B[49m\u001B[38;5;241;43m.\u001B[39;49m\u001B[43mreason_code\u001B[49m\u001B[43m,\u001B[49m\n\u001B[1;32m    174\u001B[0m \u001B[43m            \u001B[49m\u001B[43merror\u001B[49m\u001B[43m,\u001B[49m\n\u001B[1;32m    175\u001B[0m \u001B[43m            \u001B[49m\u001B[43moriginal_exc\u001B[49m\u001B[38;5;241;43m=\u001B[39;49m\u001B[43mresult\u001B[49m\u001B[38;5;241;43m.\u001B[39;49m\u001B[43moriginal_exc\u001B[49m\u001B[43m,\u001B[49m\n\u001B[1;32m    176\u001B[0m \u001B[43m        \u001B[49m\u001B[43m)\u001B[49m\n\u001B[1;32m    178\u001B[0m \u001B[38;5;28;01mreturn\u001B[39;00m error_handler\n",
      "File \u001B[0;32m~/Library/Caches/pypoetry/virtualenvs/pandera-hello-IuF_8Kcx-py3.11/lib/python3.11/site-packages/pandera/error_handlers.py:38\u001B[0m, in \u001B[0;36mSchemaErrorHandler.collect_error\u001B[0;34m(self, reason_code, schema_error, original_exc)\u001B[0m\n\u001B[1;32m     31\u001B[0m \u001B[38;5;250m\u001B[39m\u001B[38;5;124;03m\"\"\"Collect schema error, raising exception if lazy is False.\u001B[39;00m\n\u001B[1;32m     32\u001B[0m \n\u001B[1;32m     33\u001B[0m \u001B[38;5;124;03m:param reason_code: string representing reason for error.\u001B[39;00m\n\u001B[1;32m     34\u001B[0m \u001B[38;5;124;03m:param schema_error: ``SchemaError`` object.\u001B[39;00m\n\u001B[1;32m     35\u001B[0m \u001B[38;5;124;03m:param original_exc: original exception associated with the SchemaError.\u001B[39;00m\n\u001B[1;32m     36\u001B[0m \u001B[38;5;124;03m\"\"\"\u001B[39;00m\n\u001B[1;32m     37\u001B[0m \u001B[38;5;28;01mif\u001B[39;00m \u001B[38;5;129;01mnot\u001B[39;00m \u001B[38;5;28mself\u001B[39m\u001B[38;5;241m.\u001B[39m_lazy:\n\u001B[0;32m---> 38\u001B[0m     \u001B[38;5;28;01mraise\u001B[39;00m schema_error \u001B[38;5;28;01mfrom\u001B[39;00m \u001B[38;5;21;01moriginal_exc\u001B[39;00m\n\u001B[1;32m     40\u001B[0m \u001B[38;5;66;03m# delete data of validated object from SchemaError object to prevent\u001B[39;00m\n\u001B[1;32m     41\u001B[0m \u001B[38;5;66;03m# storing copies of the validated DataFrame/Series for every\u001B[39;00m\n\u001B[1;32m     42\u001B[0m \u001B[38;5;66;03m# SchemaError collected.\u001B[39;00m\n\u001B[1;32m     43\u001B[0m \u001B[38;5;28;01mdel\u001B[39;00m schema_error\u001B[38;5;241m.\u001B[39mdata\n",
      "File \u001B[0;32m~/Library/Caches/pypoetry/virtualenvs/pandera-hello-IuF_8Kcx-py3.11/lib/python3.11/site-packages/pandera/backends/pandas/container.py:192\u001B[0m, in \u001B[0;36mDataFrameSchemaBackend.run_schema_component_checks\u001B[0;34m(self, check_obj, schema_components, lazy)\u001B[0m\n\u001B[1;32m    190\u001B[0m \u001B[38;5;28;01mfor\u001B[39;00m schema_component \u001B[38;5;129;01min\u001B[39;00m schema_components:\n\u001B[1;32m    191\u001B[0m     \u001B[38;5;28;01mtry\u001B[39;00m:\n\u001B[0;32m--> 192\u001B[0m         result \u001B[38;5;241m=\u001B[39m \u001B[43mschema_component\u001B[49m\u001B[38;5;241;43m.\u001B[39;49m\u001B[43mvalidate\u001B[49m\u001B[43m(\u001B[49m\n\u001B[1;32m    193\u001B[0m \u001B[43m            \u001B[49m\u001B[43mcheck_obj\u001B[49m\u001B[43m,\u001B[49m\u001B[43m \u001B[49m\u001B[43mlazy\u001B[49m\u001B[38;5;241;43m=\u001B[39;49m\u001B[43mlazy\u001B[49m\u001B[43m,\u001B[49m\u001B[43m \u001B[49m\u001B[43minplace\u001B[49m\u001B[38;5;241;43m=\u001B[39;49m\u001B[38;5;28;43;01mTrue\u001B[39;49;00m\n\u001B[1;32m    194\u001B[0m \u001B[43m        \u001B[49m\u001B[43m)\u001B[49m\n\u001B[1;32m    195\u001B[0m         check_passed\u001B[38;5;241m.\u001B[39mappend(is_table(result))\n\u001B[1;32m    196\u001B[0m     \u001B[38;5;28;01mexcept\u001B[39;00m SchemaError \u001B[38;5;28;01mas\u001B[39;00m err:\n",
      "File \u001B[0;32m~/Library/Caches/pypoetry/virtualenvs/pandera-hello-IuF_8Kcx-py3.11/lib/python3.11/site-packages/pandera/api/pandas/components.py:169\u001B[0m, in \u001B[0;36mColumn.validate\u001B[0;34m(self, check_obj, head, tail, sample, random_state, lazy, inplace)\u001B[0m\n\u001B[1;32m    142\u001B[0m \u001B[38;5;28;01mdef\u001B[39;00m \u001B[38;5;21mvalidate\u001B[39m(\n\u001B[1;32m    143\u001B[0m     \u001B[38;5;28mself\u001B[39m,\n\u001B[1;32m    144\u001B[0m     check_obj: pd\u001B[38;5;241m.\u001B[39mDataFrame,\n\u001B[0;32m   (...)\u001B[0m\n\u001B[1;32m    150\u001B[0m     inplace: \u001B[38;5;28mbool\u001B[39m \u001B[38;5;241m=\u001B[39m \u001B[38;5;28;01mFalse\u001B[39;00m,\n\u001B[1;32m    151\u001B[0m ) \u001B[38;5;241m-\u001B[39m\u001B[38;5;241m>\u001B[39m pd\u001B[38;5;241m.\u001B[39mDataFrame:\n\u001B[1;32m    152\u001B[0m \u001B[38;5;250m    \u001B[39m\u001B[38;5;124;03m\"\"\"Validate a Column in a DataFrame object.\u001B[39;00m\n\u001B[1;32m    153\u001B[0m \n\u001B[1;32m    154\u001B[0m \u001B[38;5;124;03m    :param check_obj: pandas DataFrame to validate.\u001B[39;00m\n\u001B[0;32m   (...)\u001B[0m\n\u001B[1;32m    167\u001B[0m \u001B[38;5;124;03m    :returns: validated DataFrame.\u001B[39;00m\n\u001B[1;32m    168\u001B[0m \u001B[38;5;124;03m    \"\"\"\u001B[39;00m\n\u001B[0;32m--> 169\u001B[0m     \u001B[38;5;28;01mreturn\u001B[39;00m \u001B[38;5;28;43mself\u001B[39;49m\u001B[38;5;241;43m.\u001B[39;49m\u001B[43mget_backend\u001B[49m\u001B[43m(\u001B[49m\u001B[43mcheck_obj\u001B[49m\u001B[43m)\u001B[49m\u001B[38;5;241;43m.\u001B[39;49m\u001B[43mvalidate\u001B[49m\u001B[43m(\u001B[49m\n\u001B[1;32m    170\u001B[0m \u001B[43m        \u001B[49m\u001B[43mcheck_obj\u001B[49m\u001B[43m,\u001B[49m\n\u001B[1;32m    171\u001B[0m \u001B[43m        \u001B[49m\u001B[38;5;28;43mself\u001B[39;49m\u001B[43m,\u001B[49m\n\u001B[1;32m    172\u001B[0m \u001B[43m        \u001B[49m\u001B[43mhead\u001B[49m\u001B[38;5;241;43m=\u001B[39;49m\u001B[43mhead\u001B[49m\u001B[43m,\u001B[49m\n\u001B[1;32m    173\u001B[0m \u001B[43m        \u001B[49m\u001B[43mtail\u001B[49m\u001B[38;5;241;43m=\u001B[39;49m\u001B[43mtail\u001B[49m\u001B[43m,\u001B[49m\n\u001B[1;32m    174\u001B[0m \u001B[43m        \u001B[49m\u001B[43msample\u001B[49m\u001B[38;5;241;43m=\u001B[39;49m\u001B[43msample\u001B[49m\u001B[43m,\u001B[49m\n\u001B[1;32m    175\u001B[0m \u001B[43m        \u001B[49m\u001B[43mrandom_state\u001B[49m\u001B[38;5;241;43m=\u001B[39;49m\u001B[43mrandom_state\u001B[49m\u001B[43m,\u001B[49m\n\u001B[1;32m    176\u001B[0m \u001B[43m        \u001B[49m\u001B[43mlazy\u001B[49m\u001B[38;5;241;43m=\u001B[39;49m\u001B[43mlazy\u001B[49m\u001B[43m,\u001B[49m\n\u001B[1;32m    177\u001B[0m \u001B[43m        \u001B[49m\u001B[43minplace\u001B[49m\u001B[38;5;241;43m=\u001B[39;49m\u001B[43minplace\u001B[49m\u001B[43m,\u001B[49m\n\u001B[1;32m    178\u001B[0m \u001B[43m    \u001B[49m\u001B[43m)\u001B[49m\n",
      "File \u001B[0;32m~/Library/Caches/pypoetry/virtualenvs/pandera-hello-IuF_8Kcx-py3.11/lib/python3.11/site-packages/pandera/backends/pandas/components.py:119\u001B[0m, in \u001B[0;36mColumnBackend.validate\u001B[0;34m(self, check_obj, schema, head, tail, sample, random_state, lazy, inplace)\u001B[0m\n\u001B[1;32m    115\u001B[0m             check_obj \u001B[38;5;241m=\u001B[39m validate_column(\n\u001B[1;32m    116\u001B[0m                 check_obj, column_name, return_check_obj\u001B[38;5;241m=\u001B[39m\u001B[38;5;28;01mTrue\u001B[39;00m\n\u001B[1;32m    117\u001B[0m             )\n\u001B[1;32m    118\u001B[0m         \u001B[38;5;28;01melse\u001B[39;00m:\n\u001B[0;32m--> 119\u001B[0m             \u001B[43mvalidate_column\u001B[49m\u001B[43m(\u001B[49m\u001B[43mcheck_obj\u001B[49m\u001B[43m,\u001B[49m\u001B[43m \u001B[49m\u001B[43mcolumn_name\u001B[49m\u001B[43m)\u001B[49m\n\u001B[1;32m    121\u001B[0m \u001B[38;5;28;01mif\u001B[39;00m lazy \u001B[38;5;129;01mand\u001B[39;00m error_handler\u001B[38;5;241m.\u001B[39mcollected_errors:\n\u001B[1;32m    122\u001B[0m     \u001B[38;5;28;01mraise\u001B[39;00m SchemaErrors(\n\u001B[1;32m    123\u001B[0m         schema\u001B[38;5;241m=\u001B[39mschema,\n\u001B[1;32m    124\u001B[0m         schema_errors\u001B[38;5;241m=\u001B[39merror_handler\u001B[38;5;241m.\u001B[39mcollected_errors,\n\u001B[1;32m    125\u001B[0m         data\u001B[38;5;241m=\u001B[39mcheck_obj,\n\u001B[1;32m    126\u001B[0m     )\n",
      "File \u001B[0;32m~/Library/Caches/pypoetry/virtualenvs/pandera-hello-IuF_8Kcx-py3.11/lib/python3.11/site-packages/pandera/backends/pandas/components.py:89\u001B[0m, in \u001B[0;36mColumnBackend.validate.<locals>.validate_column\u001B[0;34m(check_obj, column_name, return_check_obj)\u001B[0m\n\u001B[1;32m     84\u001B[0m         error_handler\u001B[38;5;241m.\u001B[39mcollect_error(\n\u001B[1;32m     85\u001B[0m             reason_code\u001B[38;5;241m=\u001B[39m\u001B[38;5;28;01mNone\u001B[39;00m,\n\u001B[1;32m     86\u001B[0m             schema_error\u001B[38;5;241m=\u001B[39merr,\n\u001B[1;32m     87\u001B[0m         )\n\u001B[1;32m     88\u001B[0m \u001B[38;5;28;01mexcept\u001B[39;00m SchemaError \u001B[38;5;28;01mas\u001B[39;00m err:\n\u001B[0;32m---> 89\u001B[0m     \u001B[43merror_handler\u001B[49m\u001B[38;5;241;43m.\u001B[39;49m\u001B[43mcollect_error\u001B[49m\u001B[43m(\u001B[49m\u001B[43merr\u001B[49m\u001B[38;5;241;43m.\u001B[39;49m\u001B[43mreason_code\u001B[49m\u001B[43m,\u001B[49m\u001B[43m \u001B[49m\u001B[43merr\u001B[49m\u001B[43m)\u001B[49m\n",
      "File \u001B[0;32m~/Library/Caches/pypoetry/virtualenvs/pandera-hello-IuF_8Kcx-py3.11/lib/python3.11/site-packages/pandera/error_handlers.py:38\u001B[0m, in \u001B[0;36mSchemaErrorHandler.collect_error\u001B[0;34m(self, reason_code, schema_error, original_exc)\u001B[0m\n\u001B[1;32m     31\u001B[0m \u001B[38;5;250m\u001B[39m\u001B[38;5;124;03m\"\"\"Collect schema error, raising exception if lazy is False.\u001B[39;00m\n\u001B[1;32m     32\u001B[0m \n\u001B[1;32m     33\u001B[0m \u001B[38;5;124;03m:param reason_code: string representing reason for error.\u001B[39;00m\n\u001B[1;32m     34\u001B[0m \u001B[38;5;124;03m:param schema_error: ``SchemaError`` object.\u001B[39;00m\n\u001B[1;32m     35\u001B[0m \u001B[38;5;124;03m:param original_exc: original exception associated with the SchemaError.\u001B[39;00m\n\u001B[1;32m     36\u001B[0m \u001B[38;5;124;03m\"\"\"\u001B[39;00m\n\u001B[1;32m     37\u001B[0m \u001B[38;5;28;01mif\u001B[39;00m \u001B[38;5;129;01mnot\u001B[39;00m \u001B[38;5;28mself\u001B[39m\u001B[38;5;241m.\u001B[39m_lazy:\n\u001B[0;32m---> 38\u001B[0m     \u001B[38;5;28;01mraise\u001B[39;00m schema_error \u001B[38;5;28;01mfrom\u001B[39;00m \u001B[38;5;21;01moriginal_exc\u001B[39;00m\n\u001B[1;32m     40\u001B[0m \u001B[38;5;66;03m# delete data of validated object from SchemaError object to prevent\u001B[39;00m\n\u001B[1;32m     41\u001B[0m \u001B[38;5;66;03m# storing copies of the validated DataFrame/Series for every\u001B[39;00m\n\u001B[1;32m     42\u001B[0m \u001B[38;5;66;03m# SchemaError collected.\u001B[39;00m\n\u001B[1;32m     43\u001B[0m \u001B[38;5;28;01mdel\u001B[39;00m schema_error\u001B[38;5;241m.\u001B[39mdata\n",
      "File \u001B[0;32m~/Library/Caches/pypoetry/virtualenvs/pandera-hello-IuF_8Kcx-py3.11/lib/python3.11/site-packages/pandera/backends/pandas/components.py:68\u001B[0m, in \u001B[0;36mColumnBackend.validate.<locals>.validate_column\u001B[0;34m(check_obj, column_name, return_check_obj)\u001B[0m\n\u001B[1;32m     65\u001B[0m \u001B[38;5;28;01mdef\u001B[39;00m \u001B[38;5;21mvalidate_column\u001B[39m(check_obj, column_name, return_check_obj\u001B[38;5;241m=\u001B[39m\u001B[38;5;28;01mFalse\u001B[39;00m):\n\u001B[1;32m     66\u001B[0m     \u001B[38;5;28;01mtry\u001B[39;00m:\n\u001B[1;32m     67\u001B[0m         \u001B[38;5;66;03m# pylint: disable=super-with-arguments\u001B[39;00m\n\u001B[0;32m---> 68\u001B[0m         validated_check_obj \u001B[38;5;241m=\u001B[39m \u001B[38;5;28;43msuper\u001B[39;49m\u001B[43m(\u001B[49m\u001B[43mColumnBackend\u001B[49m\u001B[43m,\u001B[49m\u001B[43m \u001B[49m\u001B[38;5;28;43mself\u001B[39;49m\u001B[43m)\u001B[49m\u001B[38;5;241;43m.\u001B[39;49m\u001B[43mvalidate\u001B[49m\u001B[43m(\u001B[49m\n\u001B[1;32m     69\u001B[0m \u001B[43m            \u001B[49m\u001B[43mcheck_obj\u001B[49m\u001B[43m,\u001B[49m\n\u001B[1;32m     70\u001B[0m \u001B[43m            \u001B[49m\u001B[43mcopy\u001B[49m\u001B[43m(\u001B[49m\u001B[43mschema\u001B[49m\u001B[43m)\u001B[49m\u001B[38;5;241;43m.\u001B[39;49m\u001B[43mset_name\u001B[49m\u001B[43m(\u001B[49m\u001B[43mcolumn_name\u001B[49m\u001B[43m)\u001B[49m\u001B[43m,\u001B[49m\n\u001B[1;32m     71\u001B[0m \u001B[43m            \u001B[49m\u001B[43mhead\u001B[49m\u001B[38;5;241;43m=\u001B[39;49m\u001B[43mhead\u001B[49m\u001B[43m,\u001B[49m\n\u001B[1;32m     72\u001B[0m \u001B[43m            \u001B[49m\u001B[43mtail\u001B[49m\u001B[38;5;241;43m=\u001B[39;49m\u001B[43mtail\u001B[49m\u001B[43m,\u001B[49m\n\u001B[1;32m     73\u001B[0m \u001B[43m            \u001B[49m\u001B[43msample\u001B[49m\u001B[38;5;241;43m=\u001B[39;49m\u001B[43msample\u001B[49m\u001B[43m,\u001B[49m\n\u001B[1;32m     74\u001B[0m \u001B[43m            \u001B[49m\u001B[43mrandom_state\u001B[49m\u001B[38;5;241;43m=\u001B[39;49m\u001B[43mrandom_state\u001B[49m\u001B[43m,\u001B[49m\n\u001B[1;32m     75\u001B[0m \u001B[43m            \u001B[49m\u001B[43mlazy\u001B[49m\u001B[38;5;241;43m=\u001B[39;49m\u001B[43mlazy\u001B[49m\u001B[43m,\u001B[49m\n\u001B[1;32m     76\u001B[0m \u001B[43m            \u001B[49m\u001B[43minplace\u001B[49m\u001B[38;5;241;43m=\u001B[39;49m\u001B[43minplace\u001B[49m\u001B[43m,\u001B[49m\n\u001B[1;32m     77\u001B[0m \u001B[43m        \u001B[49m\u001B[43m)\u001B[49m\n\u001B[1;32m     79\u001B[0m         \u001B[38;5;28;01mif\u001B[39;00m return_check_obj:\n\u001B[1;32m     80\u001B[0m             \u001B[38;5;28;01mreturn\u001B[39;00m validated_check_obj\n",
      "File \u001B[0;32m~/Library/Caches/pypoetry/virtualenvs/pandera-hello-IuF_8Kcx-py3.11/lib/python3.11/site-packages/pandera/backends/pandas/array.py:69\u001B[0m, in \u001B[0;36mArraySchemaBackend.validate\u001B[0;34m(self, check_obj, schema, head, tail, sample, random_state, lazy, inplace)\u001B[0m\n\u001B[1;32m     66\u001B[0m     error_handler\u001B[38;5;241m.\u001B[39mcollect_error(exc\u001B[38;5;241m.\u001B[39mreason_code, exc)\n\u001B[1;32m     68\u001B[0m \u001B[38;5;66;03m# run the core checks\u001B[39;00m\n\u001B[0;32m---> 69\u001B[0m error_handler \u001B[38;5;241m=\u001B[39m \u001B[38;5;28;43mself\u001B[39;49m\u001B[38;5;241;43m.\u001B[39;49m\u001B[43mrun_checks_and_handle_errors\u001B[49m\u001B[43m(\u001B[49m\n\u001B[1;32m     70\u001B[0m \u001B[43m    \u001B[49m\u001B[43merror_handler\u001B[49m\u001B[43m,\u001B[49m\n\u001B[1;32m     71\u001B[0m \u001B[43m    \u001B[49m\u001B[43mschema\u001B[49m\u001B[43m,\u001B[49m\n\u001B[1;32m     72\u001B[0m \u001B[43m    \u001B[49m\u001B[43mcheck_obj\u001B[49m\u001B[43m,\u001B[49m\n\u001B[1;32m     73\u001B[0m \u001B[43m    \u001B[49m\u001B[43mhead\u001B[49m\u001B[43m,\u001B[49m\n\u001B[1;32m     74\u001B[0m \u001B[43m    \u001B[49m\u001B[43mtail\u001B[49m\u001B[43m,\u001B[49m\n\u001B[1;32m     75\u001B[0m \u001B[43m    \u001B[49m\u001B[43msample\u001B[49m\u001B[43m,\u001B[49m\n\u001B[1;32m     76\u001B[0m \u001B[43m    \u001B[49m\u001B[43mrandom_state\u001B[49m\u001B[43m,\u001B[49m\n\u001B[1;32m     77\u001B[0m \u001B[43m\u001B[49m\u001B[43m)\u001B[49m\n\u001B[1;32m     79\u001B[0m \u001B[38;5;28;01mif\u001B[39;00m lazy \u001B[38;5;129;01mand\u001B[39;00m error_handler\u001B[38;5;241m.\u001B[39mcollected_errors:\n\u001B[1;32m     80\u001B[0m     \u001B[38;5;28;01mif\u001B[39;00m \u001B[38;5;28mgetattr\u001B[39m(schema, \u001B[38;5;124m\"\u001B[39m\u001B[38;5;124mdrop_invalid_rows\u001B[39m\u001B[38;5;124m\"\u001B[39m, \u001B[38;5;28;01mFalse\u001B[39;00m):\n",
      "File \u001B[0;32m~/Library/Caches/pypoetry/virtualenvs/pandera-hello-IuF_8Kcx-py3.11/lib/python3.11/site-packages/pandera/backends/pandas/array.py:150\u001B[0m, in \u001B[0;36mArraySchemaBackend.run_checks_and_handle_errors\u001B[0;34m(self, error_handler, schema, check_obj, head, tail, sample, random_state)\u001B[0m\n\u001B[1;32m    139\u001B[0m         \u001B[38;5;28;01melse\u001B[39;00m:\n\u001B[1;32m    140\u001B[0m             error \u001B[38;5;241m=\u001B[39m SchemaError(\n\u001B[1;32m    141\u001B[0m                 schema\u001B[38;5;241m=\u001B[39mschema,\n\u001B[1;32m    142\u001B[0m                 data\u001B[38;5;241m=\u001B[39mcheck_obj,\n\u001B[0;32m   (...)\u001B[0m\n\u001B[1;32m    148\u001B[0m                 reason_code\u001B[38;5;241m=\u001B[39mresult\u001B[38;5;241m.\u001B[39mreason_code,\n\u001B[1;32m    149\u001B[0m             )\n\u001B[0;32m--> 150\u001B[0m             \u001B[43merror_handler\u001B[49m\u001B[38;5;241;43m.\u001B[39;49m\u001B[43mcollect_error\u001B[49m\u001B[43m(\u001B[49m\n\u001B[1;32m    151\u001B[0m \u001B[43m                \u001B[49m\u001B[43mresult\u001B[49m\u001B[38;5;241;43m.\u001B[39;49m\u001B[43mreason_code\u001B[49m\u001B[43m,\u001B[49m\n\u001B[1;32m    152\u001B[0m \u001B[43m                \u001B[49m\u001B[43merror\u001B[49m\u001B[43m,\u001B[49m\n\u001B[1;32m    153\u001B[0m \u001B[43m                \u001B[49m\u001B[43moriginal_exc\u001B[49m\u001B[38;5;241;43m=\u001B[39;49m\u001B[43mresult\u001B[49m\u001B[38;5;241;43m.\u001B[39;49m\u001B[43moriginal_exc\u001B[49m\u001B[43m,\u001B[49m\n\u001B[1;32m    154\u001B[0m \u001B[43m            \u001B[49m\u001B[43m)\u001B[49m\n\u001B[1;32m    156\u001B[0m \u001B[38;5;28;01mreturn\u001B[39;00m error_handler\n",
      "File \u001B[0;32m~/Library/Caches/pypoetry/virtualenvs/pandera-hello-IuF_8Kcx-py3.11/lib/python3.11/site-packages/pandera/error_handlers.py:38\u001B[0m, in \u001B[0;36mSchemaErrorHandler.collect_error\u001B[0;34m(self, reason_code, schema_error, original_exc)\u001B[0m\n\u001B[1;32m     31\u001B[0m \u001B[38;5;250m\u001B[39m\u001B[38;5;124;03m\"\"\"Collect schema error, raising exception if lazy is False.\u001B[39;00m\n\u001B[1;32m     32\u001B[0m \n\u001B[1;32m     33\u001B[0m \u001B[38;5;124;03m:param reason_code: string representing reason for error.\u001B[39;00m\n\u001B[1;32m     34\u001B[0m \u001B[38;5;124;03m:param schema_error: ``SchemaError`` object.\u001B[39;00m\n\u001B[1;32m     35\u001B[0m \u001B[38;5;124;03m:param original_exc: original exception associated with the SchemaError.\u001B[39;00m\n\u001B[1;32m     36\u001B[0m \u001B[38;5;124;03m\"\"\"\u001B[39;00m\n\u001B[1;32m     37\u001B[0m \u001B[38;5;28;01mif\u001B[39;00m \u001B[38;5;129;01mnot\u001B[39;00m \u001B[38;5;28mself\u001B[39m\u001B[38;5;241m.\u001B[39m_lazy:\n\u001B[0;32m---> 38\u001B[0m     \u001B[38;5;28;01mraise\u001B[39;00m schema_error \u001B[38;5;28;01mfrom\u001B[39;00m \u001B[38;5;21;01moriginal_exc\u001B[39;00m\n\u001B[1;32m     40\u001B[0m \u001B[38;5;66;03m# delete data of validated object from SchemaError object to prevent\u001B[39;00m\n\u001B[1;32m     41\u001B[0m \u001B[38;5;66;03m# storing copies of the validated DataFrame/Series for every\u001B[39;00m\n\u001B[1;32m     42\u001B[0m \u001B[38;5;66;03m# SchemaError collected.\u001B[39;00m\n\u001B[1;32m     43\u001B[0m \u001B[38;5;28;01mdel\u001B[39;00m schema_error\u001B[38;5;241m.\u001B[39mdata\n",
      "\u001B[0;31mSchemaError\u001B[0m: series 'store' contains duplicate values:\n0       Aldi\n1    Walmart\n2    Walmart\n3       Aldi\nName: store, dtype: object"
     ]
    }
   ],
   "source": [
    "schema = pa.DataFrameSchema(\n",
    "    {\n",
    "        \"name\": Column(str, Check.isin(available_fruits)),\n",
    "        \"store\": Column(\n",
    "            str,\n",
    "            Check.isin(nearby_stores),\n",
    "            nullable=True,\n",
    "            unique=True\n",
    "        ),\n",
    "        \"price\": Column(int, Check.less_than(5)),\n",
    "    }\n",
    ")\n",
    "schema.validate(fruits)\n"
   ]
  },
  {
   "cell_type": "markdown",
   "id": "045edb47",
   "metadata": {},
   "source": [
    "## Convert Data Types"
   ]
  },
  {
   "cell_type": "code",
   "execution_count": 52,
   "id": "0e7e9deb",
   "metadata": {
    "ExecuteTime": {
     "end_time": "2023-08-23T17:43:21.338600Z",
     "start_time": "2023-08-23T17:43:21.260921Z"
    }
   },
   "outputs": [
    {
     "data": {
      "text/plain": "name     object\nstore    object\nprice    object\ndtype: object"
     },
     "execution_count": 52,
     "metadata": {},
     "output_type": "execute_result"
    }
   ],
   "source": [
    "fruits = pd.DataFrame(\n",
    "    {\n",
    "        \"name\": [\"apple\", \"banana\", \"apple\", \"orange\"],\n",
    "        \"store\": [\"Aldi\", \"Walmart\", \"Walmart\", \"Aldi\"],\n",
    "        \"price\": [2, 1, 3, 4],\n",
    "    }\n",
    ")\n",
    "\n",
    "schema = pa.DataFrameSchema({\"price\": Column(str, coerce=True)})\n",
    "validated = schema.validate(fruits)\n",
    "validated.dtypes"
   ]
  },
  {
   "cell_type": "markdown",
   "id": "5c0a8392",
   "metadata": {},
   "source": [
    "## Patern Matching"
   ]
  },
  {
   "cell_type": "code",
   "execution_count": 56,
   "id": "1b2afa5d",
   "metadata": {
    "ExecuteTime": {
     "end_time": "2023-08-23T17:45:55.991126Z",
     "start_time": "2023-08-23T17:45:55.968088Z"
    }
   },
   "outputs": [
    {
     "data": {
      "text/plain": "     name store_nearby    store_far\n0   apple         Aldi  Whole Foods\n1  banana      Walmart     Schnucks\n2   apple      Walmart  Whole Foods\n3  orange         Aldi     Schnucks",
      "text/html": "<div>\n<style scoped>\n    .dataframe tbody tr th:only-of-type {\n        vertical-align: middle;\n    }\n\n    .dataframe tbody tr th {\n        vertical-align: top;\n    }\n\n    .dataframe thead th {\n        text-align: right;\n    }\n</style>\n<table border=\"1\" class=\"dataframe\">\n  <thead>\n    <tr style=\"text-align: right;\">\n      <th></th>\n      <th>name</th>\n      <th>store_nearby</th>\n      <th>store_far</th>\n    </tr>\n  </thead>\n  <tbody>\n    <tr>\n      <th>0</th>\n      <td>apple</td>\n      <td>Aldi</td>\n      <td>Whole Foods</td>\n    </tr>\n    <tr>\n      <th>1</th>\n      <td>banana</td>\n      <td>Walmart</td>\n      <td>Schnucks</td>\n    </tr>\n    <tr>\n      <th>2</th>\n      <td>apple</td>\n      <td>Walmart</td>\n      <td>Whole Foods</td>\n    </tr>\n    <tr>\n      <th>3</th>\n      <td>orange</td>\n      <td>Aldi</td>\n      <td>Schnucks</td>\n    </tr>\n  </tbody>\n</table>\n</div>"
     },
     "execution_count": 56,
     "metadata": {},
     "output_type": "execute_result"
    }
   ],
   "source": [
    "favorite_stores = [\"Aldi\", \"Walmart\", \"Whole Foods\", \"Schnucks\"]\n",
    "\n",
    "fruits = pd.DataFrame(\n",
    "    {\n",
    "        \"name\": [\"apple\", \"banana\", \"apple\", \"orange\"],\n",
    "        \"store_nearby\": [\"Aldi\", \"Walmart\", \"Walmart\", \"Aldi\"],\n",
    "        \"store_far\": [\"Whole Foods\", \"Schnucks\", \"Whole Foods\", \"Schnucks\"],\n",
    "    }\n",
    ")\n",
    "\n",
    "schema = pa.DataFrameSchema(\n",
    "    {\n",
    "        \"name\": Column(str, Check.isin(available_fruits)),\n",
    "        \"store_*\": Column(\n",
    "            str,\n",
    "            Check.isin(favorite_stores),\n",
    "            regex=True\n",
    "        ),\n",
    "    }\n",
    ")\n",
    "schema.validate(fruits)\n"
   ]
  },
  {
   "cell_type": "markdown",
   "id": "6b396eb3",
   "metadata": {},
   "source": [
    "# Export and Load From a YAML file"
   ]
  },
  {
   "cell_type": "markdown",
   "id": "a946ae50",
   "metadata": {},
   "source": [
    "## Export"
   ]
  },
  {
   "cell_type": "code",
   "execution_count": 58,
   "id": "86c4cc16",
   "metadata": {
    "ExecuteTime": {
     "end_time": "2023-08-23T17:47:14.057528Z",
     "start_time": "2023-08-23T17:47:08.842668Z"
    }
   },
   "outputs": [
    {
     "name": "stdout",
     "output_type": "stream",
     "text": [
      "schema_type: dataframe\n",
      "version: 0.16.1\n",
      "columns:\n",
      "  name:\n",
      "    title: null\n",
      "    description: null\n",
      "    dtype: str\n",
      "    nullable: false\n",
      "    checks:\n",
      "      isin:\n",
      "      - apple\n",
      "      - banana\n",
      "      - orange\n",
      "    unique: false\n",
      "    coerce: false\n",
      "    required: true\n",
      "    regex: false\n",
      "  store_*:\n",
      "    title: null\n",
      "    description: null\n",
      "    dtype: str\n",
      "    nullable: false\n",
      "    checks:\n",
      "      isin:\n",
      "      - Aldi\n",
      "      - Walmart\n",
      "      - Whole Foods\n",
      "      - Schnucks\n",
      "    unique: false\n",
      "    coerce: false\n",
      "    required: true\n",
      "    regex: true\n",
      "checks: null\n",
      "index: null\n",
      "dtype: null\n",
      "coerce: false\n",
      "strict: false\n",
      "name: null\n",
      "ordered: false\n",
      "unique: null\n",
      "report_duplicates: all\n",
      "unique_column_names: false\n",
      "add_missing_columns: false\n",
      "title: null\n",
      "description: null\n",
      "\n"
     ]
    }
   ],
   "source": [
    "yaml_schema = schema.to_yaml()\n",
    "print(yaml_schema)"
   ]
  },
  {
   "cell_type": "code",
   "execution_count": 61,
   "id": "c38b376a",
   "metadata": {
    "ExecuteTime": {
     "end_time": "2023-08-23T17:49:53.337863Z",
     "start_time": "2023-08-23T17:49:53.329233Z"
    }
   },
   "outputs": [
    {
     "data": {
      "text/plain": "725"
     },
     "execution_count": 61,
     "metadata": {},
     "output_type": "execute_result"
    }
   ],
   "source": [
    "from pathlib import Path\n",
    "\n",
    "f = Path(\"schema.yml\")\n",
    "f.touch()\n",
    "f.write_text(yaml_schema)"
   ]
  },
  {
   "cell_type": "markdown",
   "id": "fd3db611",
   "metadata": {},
   "source": [
    "## Load"
   ]
  },
  {
   "cell_type": "code",
   "execution_count": 62,
   "id": "bd70b32d",
   "metadata": {
    "ExecuteTime": {
     "end_time": "2023-08-23T17:49:54.573918Z",
     "start_time": "2023-08-23T17:49:54.547900Z"
    }
   },
   "outputs": [],
   "source": [
    "with f.open() as file:\n",
    "    yaml_schema = file.read()"
   ]
  },
  {
   "cell_type": "code",
   "execution_count": 63,
   "id": "6aba8b14",
   "metadata": {
    "ExecuteTime": {
     "end_time": "2023-08-23T17:49:54.901152Z",
     "start_time": "2023-08-23T17:49:54.868610Z"
    }
   },
   "outputs": [
    {
     "data": {
      "text/plain": "<Schema DataFrameSchema(columns={'name': <Schema Column(name=name, type=DataType(str))>, 'store_*': <Schema Column(name=store_*, type=DataType(str))>}, checks=[], index=None, coerce=False, dtype=None, strict=False, name=None, ordered=False, unique_column_names=Falsemetadata='None, unique_column_names=False, add_missing_columns=False)>"
     },
     "execution_count": 63,
     "metadata": {},
     "output_type": "execute_result"
    }
   ],
   "source": [
    "schema = pa.io.from_yaml(yaml_schema)\n",
    "schema"
   ]
  },
  {
   "cell_type": "markdown",
   "source": [
    "# [Original article](https://towardsdatascience.com/validate-your-pandas-dataframe-with-pandera-2995910e564)"
   ],
   "metadata": {
    "collapsed": false
   }
  }
 ],
 "metadata": {
  "hide_input": false,
  "interpreter": {
   "hash": "478cc5ef0f338997730d9103983e193fe6c3c8e58abb3c8c0481de8a2f51bddc"
  },
  "kernelspec": {
   "display_name": "Python 3.9.13 ('venv': venv)",
   "language": "python",
   "name": "python3"
  },
  "language_info": {
   "codemirror_mode": {
    "name": "ipython",
    "version": 3
   },
   "file_extension": ".py",
   "mimetype": "text/x-python",
   "name": "python",
   "nbconvert_exporter": "python",
   "pygments_lexer": "ipython3",
   "version": "3.9.13"
  },
  "toc": {
   "base_numbering": 1,
   "nav_menu": {},
   "number_sections": true,
   "sideBar": true,
   "skip_h1_title": false,
   "title_cell": "Table of Contents",
   "title_sidebar": "Contents",
   "toc_cell": false,
   "toc_position": {},
   "toc_section_display": true,
   "toc_window_display": false
  }
 },
 "nbformat": 4,
 "nbformat_minor": 5
}
