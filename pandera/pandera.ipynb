{
 "cells": [
  {
   "cell_type": "markdown",
   "id": "cc7b5ade",
   "metadata": {},
   "source": [
    "# Introduction"
   ]
  },
  {
   "cell_type": "markdown",
   "id": "06e46fad",
   "metadata": {
    "collapsed": false,
    "jupyter": {
     "outputs_hidden": false
    }
   },
   "source": [
    "## Problem:\n",
    "## Garbage In => Garbage out"
   ]
  },
  {
   "cell_type": "markdown",
   "id": "1db2c43f",
   "metadata": {
    "collapsed": false,
    "jupyter": {
     "outputs_hidden": false
    }
   },
   "source": [
    "Anecdote story:\n",
    "Demand prediction system for online retailer.\n",
    "\n",
    "\n",
    "One data source provided information about promotion campaigns, e.g.\n",
    "\n",
    "How it was:\n",
    "```\n",
    "\"\" -> No campaign\n",
    "\"Sping_2018\" -> sku included in promotion campaign \"Spring 2018\"\n",
    "```\n",
    "\n",
    "Generated boolean feature from it:\n",
    "``bool(len(column_name))``\n",
    "\n",
    "Then they silently changed it to :\n",
    "```\n",
    "\"None\" -> No campaign\n",
    "\"Sping_2018\" -> sku included in promotion campaign \"Spring 2018\"\n",
    "```"
   ]
  },
  {
   "cell_type": "code",
   "execution_count": null,
   "id": "714219d8",
   "metadata": {
    "collapsed": false,
    "jupyter": {
     "outputs_hidden": false
    }
   },
   "outputs": [],
   "source": []
  },
  {
   "cell_type": "code",
   "execution_count": 41,
   "id": "bc799698",
   "metadata": {
    "ExecuteTime": {
     "end_time": "2023-08-23T18:35:45.038048Z",
     "start_time": "2023-08-23T18:35:45.025727Z"
    },
    "collapsed": false,
    "jupyter": {
     "outputs_hidden": false
    }
   },
   "outputs": [],
   "source": [
    "import pandera as pa\n",
    "from pandera import Column, Check\n",
    "import numpy as np"
   ]
  },
  {
   "cell_type": "code",
   "execution_count": 43,
   "id": "2ef1fb81",
   "metadata": {
    "ExecuteTime": {
     "end_time": "2023-08-23T20:56:44.115473Z",
     "start_time": "2023-08-23T20:56:44.085962Z"
    }
   },
   "outputs": [
    {
     "data": {
      "text/html": [
       "<div>\n",
       "<style scoped>\n",
       "    .dataframe tbody tr th:only-of-type {\n",
       "        vertical-align: middle;\n",
       "    }\n",
       "\n",
       "    .dataframe tbody tr th {\n",
       "        vertical-align: top;\n",
       "    }\n",
       "\n",
       "    .dataframe thead th {\n",
       "        text-align: right;\n",
       "    }\n",
       "</style>\n",
       "<table border=\"1\" class=\"dataframe\">\n",
       "  <thead>\n",
       "    <tr style=\"text-align: right;\">\n",
       "      <th></th>\n",
       "      <th>name</th>\n",
       "      <th>store</th>\n",
       "      <th>price</th>\n",
       "    </tr>\n",
       "  </thead>\n",
       "  <tbody>\n",
       "    <tr>\n",
       "      <th>0</th>\n",
       "      <td>apple</td>\n",
       "      <td>Aldi</td>\n",
       "      <td>2</td>\n",
       "    </tr>\n",
       "    <tr>\n",
       "      <th>1</th>\n",
       "      <td>banana</td>\n",
       "      <td>Walmart</td>\n",
       "      <td>1</td>\n",
       "    </tr>\n",
       "    <tr>\n",
       "      <th>2</th>\n",
       "      <td>apple</td>\n",
       "      <td>Walmart</td>\n",
       "      <td>3</td>\n",
       "    </tr>\n",
       "    <tr>\n",
       "      <th>3</th>\n",
       "      <td>orange</td>\n",
       "      <td>Aldi</td>\n",
       "      <td>4</td>\n",
       "    </tr>\n",
       "  </tbody>\n",
       "</table>\n",
       "</div>"
      ],
      "text/plain": [
       "     name    store  price\n",
       "0   apple     Aldi      2\n",
       "1  banana  Walmart      1\n",
       "2   apple  Walmart      3\n",
       "3  orange     Aldi      4"
      ]
     },
     "execution_count": 43,
     "metadata": {},
     "output_type": "execute_result"
    }
   ],
   "source": [
    "import pandas as pd\n",
    "\n",
    "fruits = pd.DataFrame(\n",
    "    {\n",
    "        \"name\": [\"apple\", \"banana\", \"apple\", \"orange\"],\n",
    "        \"store\": [\"Aldi\", \"Walmart\", \"Walmart\", \"Aldi\"],\n",
    "        \"price\": [2, 1, 3, 4],\n",
    "    }\n",
    ")\n",
    "\n",
    "fruits"
   ]
  },
  {
   "cell_type": "code",
   "execution_count": 7,
   "id": "fef1d998-98e9-4446-a4a3-08fafd061d19",
   "metadata": {},
   "outputs": [
    {
     "data": {
      "text/html": [
       "<div>\n",
       "<style scoped>\n",
       "    .dataframe tbody tr th:only-of-type {\n",
       "        vertical-align: middle;\n",
       "    }\n",
       "\n",
       "    .dataframe tbody tr th {\n",
       "        vertical-align: top;\n",
       "    }\n",
       "\n",
       "    .dataframe thead th {\n",
       "        text-align: right;\n",
       "    }\n",
       "</style>\n",
       "<table border=\"1\" class=\"dataframe\">\n",
       "  <thead>\n",
       "    <tr style=\"text-align: right;\">\n",
       "      <th></th>\n",
       "      <th>name</th>\n",
       "      <th>price</th>\n",
       "    </tr>\n",
       "  </thead>\n",
       "  <tbody>\n",
       "    <tr>\n",
       "      <th>0</th>\n",
       "      <td>apple</td>\n",
       "      <td>2</td>\n",
       "    </tr>\n",
       "    <tr>\n",
       "      <th>1</th>\n",
       "      <td>banana</td>\n",
       "      <td>1</td>\n",
       "    </tr>\n",
       "    <tr>\n",
       "      <th>2</th>\n",
       "      <td>apple</td>\n",
       "      <td>3</td>\n",
       "    </tr>\n",
       "    <tr>\n",
       "      <th>3</th>\n",
       "      <td>orange</td>\n",
       "      <td>4</td>\n",
       "    </tr>\n",
       "  </tbody>\n",
       "</table>\n",
       "</div>"
      ],
      "text/plain": [
       "     name  price\n",
       "0   apple      2\n",
       "1  banana      1\n",
       "2   apple      3\n",
       "3  orange      4"
      ]
     },
     "execution_count": 7,
     "metadata": {},
     "output_type": "execute_result"
    }
   ],
   "source": [
    "# select fields\n",
    "fruits[[\"name\", \"price\"]]"
   ]
  },
  {
   "cell_type": "code",
   "execution_count": 8,
   "id": "4ae93dc4-35e4-4dc3-9cd3-c11d86b83005",
   "metadata": {},
   "outputs": [
    {
     "data": {
      "text/html": [
       "<div>\n",
       "<style scoped>\n",
       "    .dataframe tbody tr th:only-of-type {\n",
       "        vertical-align: middle;\n",
       "    }\n",
       "\n",
       "    .dataframe tbody tr th {\n",
       "        vertical-align: top;\n",
       "    }\n",
       "\n",
       "    .dataframe thead th {\n",
       "        text-align: right;\n",
       "    }\n",
       "</style>\n",
       "<table border=\"1\" class=\"dataframe\">\n",
       "  <thead>\n",
       "    <tr style=\"text-align: right;\">\n",
       "      <th></th>\n",
       "      <th>name</th>\n",
       "      <th>store</th>\n",
       "      <th>price</th>\n",
       "    </tr>\n",
       "  </thead>\n",
       "  <tbody>\n",
       "    <tr>\n",
       "      <th>2</th>\n",
       "      <td>apple</td>\n",
       "      <td>Walmart</td>\n",
       "      <td>3</td>\n",
       "    </tr>\n",
       "    <tr>\n",
       "      <th>3</th>\n",
       "      <td>orange</td>\n",
       "      <td>Aldi</td>\n",
       "      <td>4</td>\n",
       "    </tr>\n",
       "  </tbody>\n",
       "</table>\n",
       "</div>"
      ],
      "text/plain": [
       "     name    store  price\n",
       "2   apple  Walmart      3\n",
       "3  orange     Aldi      4"
      ]
     },
     "execution_count": 8,
     "metadata": {},
     "output_type": "execute_result"
    }
   ],
   "source": [
    "# filter data\n",
    "fruits.query(\"price > 2\")"
   ]
  },
  {
   "cell_type": "code",
   "execution_count": 9,
   "id": "fc3e8aa8-2977-41e5-a0c3-385d6f44db6c",
   "metadata": {},
   "outputs": [
    {
     "data": {
      "text/plain": [
       "name\n",
       "apple     2.5\n",
       "banana    1.0\n",
       "orange    4.0\n",
       "Name: price, dtype: float64"
      ]
     },
     "execution_count": 9,
     "metadata": {},
     "output_type": "execute_result"
    }
   ],
   "source": [
    "# calculate aggregated statistics\n",
    "fruits.groupby(\"name\")[\"price\"].mean()"
   ]
  },
  {
   "cell_type": "code",
   "execution_count": 10,
   "id": "1ac21677-4a82-4afc-88f6-e2d029809291",
   "metadata": {},
   "outputs": [
    {
     "data": {
      "text/html": [
       "<div>\n",
       "<style scoped>\n",
       "    .dataframe tbody tr th:only-of-type {\n",
       "        vertical-align: middle;\n",
       "    }\n",
       "\n",
       "    .dataframe tbody tr th {\n",
       "        vertical-align: top;\n",
       "    }\n",
       "\n",
       "    .dataframe thead th {\n",
       "        text-align: right;\n",
       "    }\n",
       "</style>\n",
       "<table border=\"1\" class=\"dataframe\">\n",
       "  <thead>\n",
       "    <tr style=\"text-align: right;\">\n",
       "      <th></th>\n",
       "      <th>name</th>\n",
       "      <th>store</th>\n",
       "      <th>price</th>\n",
       "    </tr>\n",
       "  </thead>\n",
       "  <tbody>\n",
       "    <tr>\n",
       "      <th>1</th>\n",
       "      <td>banana</td>\n",
       "      <td>Walmart</td>\n",
       "      <td>1</td>\n",
       "    </tr>\n",
       "    <tr>\n",
       "      <th>0</th>\n",
       "      <td>apple</td>\n",
       "      <td>Aldi</td>\n",
       "      <td>2</td>\n",
       "    </tr>\n",
       "    <tr>\n",
       "      <th>2</th>\n",
       "      <td>apple</td>\n",
       "      <td>Walmart</td>\n",
       "      <td>3</td>\n",
       "    </tr>\n",
       "    <tr>\n",
       "      <th>3</th>\n",
       "      <td>orange</td>\n",
       "      <td>Aldi</td>\n",
       "      <td>4</td>\n",
       "    </tr>\n",
       "  </tbody>\n",
       "</table>\n",
       "</div>"
      ],
      "text/plain": [
       "     name    store  price\n",
       "1  banana  Walmart      1\n",
       "0   apple     Aldi      2\n",
       "2   apple  Walmart      3\n",
       "3  orange     Aldi      4"
      ]
     },
     "execution_count": 10,
     "metadata": {},
     "output_type": "execute_result"
    }
   ],
   "source": [
    "# sort\n",
    "fruits.sort_values(by=\"price\")"
   ]
  },
  {
   "cell_type": "code",
   "execution_count": 16,
   "id": "46c3e27b-53cb-4d44-9c95-5d2f54a18948",
   "metadata": {},
   "outputs": [
    {
     "data": {
      "text/html": [
       "<div>\n",
       "<style scoped>\n",
       "    .dataframe tbody tr th:only-of-type {\n",
       "        vertical-align: middle;\n",
       "    }\n",
       "\n",
       "    .dataframe tbody tr th {\n",
       "        vertical-align: top;\n",
       "    }\n",
       "\n",
       "    .dataframe thead th {\n",
       "        text-align: right;\n",
       "    }\n",
       "</style>\n",
       "<table border=\"1\" class=\"dataframe\">\n",
       "  <thead>\n",
       "    <tr style=\"text-align: right;\">\n",
       "      <th></th>\n",
       "      <th>name</th>\n",
       "      <th>store</th>\n",
       "      <th>price</th>\n",
       "    </tr>\n",
       "  </thead>\n",
       "  <tbody>\n",
       "    <tr>\n",
       "      <th>0</th>\n",
       "      <td>apple</td>\n",
       "      <td>Aldi</td>\n",
       "      <td>2.2</td>\n",
       "    </tr>\n",
       "    <tr>\n",
       "      <th>1</th>\n",
       "      <td>banana</td>\n",
       "      <td>Walmart</td>\n",
       "      <td>1.1</td>\n",
       "    </tr>\n",
       "    <tr>\n",
       "      <th>2</th>\n",
       "      <td>apple</td>\n",
       "      <td>Walmart</td>\n",
       "      <td>3.3</td>\n",
       "    </tr>\n",
       "    <tr>\n",
       "      <th>3</th>\n",
       "      <td>orange</td>\n",
       "      <td>Aldi</td>\n",
       "      <td>4.4</td>\n",
       "    </tr>\n",
       "  </tbody>\n",
       "</table>\n",
       "</div>"
      ],
      "text/plain": [
       "     name    store  price\n",
       "0   apple     Aldi    2.2\n",
       "1  banana  Walmart    1.1\n",
       "2   apple  Walmart    3.3\n",
       "3  orange     Aldi    4.4"
      ]
     },
     "execution_count": 16,
     "metadata": {},
     "output_type": "execute_result"
    }
   ],
   "source": [
    "# manipulate data\n",
    "fruits[\"price\"] = fruits[\"price\"] * 1.1  # increase price by 10%\n",
    "fruits"
   ]
  },
  {
   "cell_type": "code",
   "execution_count": 17,
   "id": "ac65ae97-3c8f-4e40-a8dd-ea6d2d638e6f",
   "metadata": {},
   "outputs": [
    {
     "data": {
      "text/html": [
       "<div>\n",
       "<style scoped>\n",
       "    .dataframe tbody tr th:only-of-type {\n",
       "        vertical-align: middle;\n",
       "    }\n",
       "\n",
       "    .dataframe tbody tr th {\n",
       "        vertical-align: top;\n",
       "    }\n",
       "\n",
       "    .dataframe thead th {\n",
       "        text-align: right;\n",
       "    }\n",
       "</style>\n",
       "<table border=\"1\" class=\"dataframe\">\n",
       "  <thead>\n",
       "    <tr style=\"text-align: right;\">\n",
       "      <th></th>\n",
       "      <th>price</th>\n",
       "    </tr>\n",
       "  </thead>\n",
       "  <tbody>\n",
       "    <tr>\n",
       "      <th>count</th>\n",
       "      <td>4.000000</td>\n",
       "    </tr>\n",
       "    <tr>\n",
       "      <th>mean</th>\n",
       "      <td>2.750000</td>\n",
       "    </tr>\n",
       "    <tr>\n",
       "      <th>std</th>\n",
       "      <td>1.420094</td>\n",
       "    </tr>\n",
       "    <tr>\n",
       "      <th>min</th>\n",
       "      <td>1.100000</td>\n",
       "    </tr>\n",
       "    <tr>\n",
       "      <th>25%</th>\n",
       "      <td>1.925000</td>\n",
       "    </tr>\n",
       "    <tr>\n",
       "      <th>50%</th>\n",
       "      <td>2.750000</td>\n",
       "    </tr>\n",
       "    <tr>\n",
       "      <th>75%</th>\n",
       "      <td>3.575000</td>\n",
       "    </tr>\n",
       "    <tr>\n",
       "      <th>max</th>\n",
       "      <td>4.400000</td>\n",
       "    </tr>\n",
       "  </tbody>\n",
       "</table>\n",
       "</div>"
      ],
      "text/plain": [
       "          price\n",
       "count  4.000000\n",
       "mean   2.750000\n",
       "std    1.420094\n",
       "min    1.100000\n",
       "25%    1.925000\n",
       "50%    2.750000\n",
       "75%    3.575000\n",
       "max    4.400000"
      ]
     },
     "execution_count": 17,
     "metadata": {},
     "output_type": "execute_result"
    }
   ],
   "source": [
    "# summary statistics\n",
    "fruits.describe()"
   ]
  },
  {
   "cell_type": "code",
   "execution_count": 19,
   "id": "176a8a9a-fedc-4782-9ac1-7017242062db",
   "metadata": {},
   "outputs": [
    {
     "data": {
      "text/html": [
       "<div>\n",
       "<style scoped>\n",
       "    .dataframe tbody tr th:only-of-type {\n",
       "        vertical-align: middle;\n",
       "    }\n",
       "\n",
       "    .dataframe tbody tr th {\n",
       "        vertical-align: top;\n",
       "    }\n",
       "\n",
       "    .dataframe thead th {\n",
       "        text-align: right;\n",
       "    }\n",
       "</style>\n",
       "<table border=\"1\" class=\"dataframe\">\n",
       "  <thead>\n",
       "    <tr style=\"text-align: right;\">\n",
       "      <th></th>\n",
       "      <th>name</th>\n",
       "      <th>store</th>\n",
       "      <th>price</th>\n",
       "    </tr>\n",
       "  </thead>\n",
       "  <tbody>\n",
       "    <tr>\n",
       "      <th>0</th>\n",
       "      <td>apple</td>\n",
       "      <td>Aldi</td>\n",
       "      <td>2.2</td>\n",
       "    </tr>\n",
       "    <tr>\n",
       "      <th>1</th>\n",
       "      <td>banana</td>\n",
       "      <td>Walmart</td>\n",
       "      <td>1.1</td>\n",
       "    </tr>\n",
       "    <tr>\n",
       "      <th>3</th>\n",
       "      <td>orange</td>\n",
       "      <td>Aldi</td>\n",
       "      <td>4.4</td>\n",
       "    </tr>\n",
       "  </tbody>\n",
       "</table>\n",
       "</div>"
      ],
      "text/plain": [
       "     name    store  price\n",
       "0   apple     Aldi    2.2\n",
       "1  banana  Walmart    1.1\n",
       "3  orange     Aldi    4.4"
      ]
     },
     "execution_count": 19,
     "metadata": {},
     "output_type": "execute_result"
    }
   ],
   "source": [
    "# handle duplicates\n",
    "fruits.drop_duplicates(subset=['name'])"
   ]
  },
  {
   "cell_type": "code",
   "execution_count": 24,
   "id": "704a37fa-7b5e-4e63-a4df-b75019022131",
   "metadata": {},
   "outputs": [
    {
     "data": {
      "text/html": [
       "<div>\n",
       "<style scoped>\n",
       "    .dataframe tbody tr th:only-of-type {\n",
       "        vertical-align: middle;\n",
       "    }\n",
       "\n",
       "    .dataframe tbody tr th {\n",
       "        vertical-align: top;\n",
       "    }\n",
       "\n",
       "    .dataframe thead th {\n",
       "        text-align: right;\n",
       "    }\n",
       "</style>\n",
       "<table border=\"1\" class=\"dataframe\">\n",
       "  <thead>\n",
       "    <tr style=\"text-align: right;\">\n",
       "      <th>store</th>\n",
       "      <th>Aldi</th>\n",
       "      <th>Walmart</th>\n",
       "    </tr>\n",
       "    <tr>\n",
       "      <th>name</th>\n",
       "      <th></th>\n",
       "      <th></th>\n",
       "    </tr>\n",
       "  </thead>\n",
       "  <tbody>\n",
       "    <tr>\n",
       "      <th>apple</th>\n",
       "      <td>2.0</td>\n",
       "      <td>3.0</td>\n",
       "    </tr>\n",
       "    <tr>\n",
       "      <th>banana</th>\n",
       "      <td>NaN</td>\n",
       "      <td>1.0</td>\n",
       "    </tr>\n",
       "    <tr>\n",
       "      <th>orange</th>\n",
       "      <td>4.0</td>\n",
       "      <td>NaN</td>\n",
       "    </tr>\n",
       "  </tbody>\n",
       "</table>\n",
       "</div>"
      ],
      "text/plain": [
       "store   Aldi  Walmart\n",
       "name                 \n",
       "apple    2.0      3.0\n",
       "banana   NaN      1.0\n",
       "orange   4.0      NaN"
      ]
     },
     "execution_count": 24,
     "metadata": {},
     "output_type": "execute_result"
    }
   ],
   "source": [
    "# pivot table\n",
    "pd.pivot_table(fruits, values='price', index='name', columns='store')"
   ]
  },
  {
   "cell_type": "markdown",
   "id": "50b73665",
   "metadata": {
    "collapsed": false,
    "jupyter": {
     "outputs_hidden": false
    }
   },
   "source": [
    "## [Pandera website](https://union.ai/pandera)"
   ]
  },
  {
   "cell_type": "markdown",
   "id": "6152b5e0",
   "metadata": {
    "collapsed": false,
    "jupyter": {
     "outputs_hidden": false
    }
   },
   "source": [
    "# DataFrame Schema"
   ]
  },
  {
   "cell_type": "code",
   "execution_count": 46,
   "id": "407ac593",
   "metadata": {
    "ExecuteTime": {
     "end_time": "2023-08-23T21:40:25.390313Z",
     "start_time": "2023-08-23T21:40:25.369166Z"
    }
   },
   "outputs": [],
   "source": [
    "available_fruits = [\"apple\", \"banana\", \"orange\"]\n",
    "nearby_stores = [\"Aldi\", \"Walmart\"]\n",
    "\n",
    "schema = pa.DataFrameSchema(\n",
    "    {\n",
    "        \"name\": Column(str, Check.isin(available_fruits)),\n",
    "        \"store\": Column(str, Check.isin(nearby_stores)),\n",
    "        \"price\": Column(int, Check.less_than(5)),\n",
    "    }\n",
    ")"
   ]
  },
  {
   "cell_type": "code",
   "execution_count": 47,
   "id": "2e27c82a",
   "metadata": {
    "ExecuteTime": {
     "end_time": "2023-08-23T21:40:26.164727Z",
     "start_time": "2023-08-23T21:40:25.997799Z"
    },
    "collapsed": false,
    "jupyter": {
     "outputs_hidden": false
    }
   },
   "outputs": [
    {
     "data": {
      "text/html": [
       "<div>\n",
       "<style scoped>\n",
       "    .dataframe tbody tr th:only-of-type {\n",
       "        vertical-align: middle;\n",
       "    }\n",
       "\n",
       "    .dataframe tbody tr th {\n",
       "        vertical-align: top;\n",
       "    }\n",
       "\n",
       "    .dataframe thead th {\n",
       "        text-align: right;\n",
       "    }\n",
       "</style>\n",
       "<table border=\"1\" class=\"dataframe\">\n",
       "  <thead>\n",
       "    <tr style=\"text-align: right;\">\n",
       "      <th></th>\n",
       "      <th>name</th>\n",
       "      <th>store</th>\n",
       "      <th>price</th>\n",
       "    </tr>\n",
       "  </thead>\n",
       "  <tbody>\n",
       "    <tr>\n",
       "      <th>0</th>\n",
       "      <td>apple</td>\n",
       "      <td>Aldi</td>\n",
       "      <td>2</td>\n",
       "    </tr>\n",
       "    <tr>\n",
       "      <th>1</th>\n",
       "      <td>banana</td>\n",
       "      <td>Walmart</td>\n",
       "      <td>1</td>\n",
       "    </tr>\n",
       "    <tr>\n",
       "      <th>2</th>\n",
       "      <td>apple</td>\n",
       "      <td>Walmart</td>\n",
       "      <td>3</td>\n",
       "    </tr>\n",
       "    <tr>\n",
       "      <th>3</th>\n",
       "      <td>orange</td>\n",
       "      <td>Aldi</td>\n",
       "      <td>4</td>\n",
       "    </tr>\n",
       "  </tbody>\n",
       "</table>\n",
       "</div>"
      ],
      "text/plain": [
       "     name    store  price\n",
       "0   apple     Aldi      2\n",
       "1  banana  Walmart      1\n",
       "2   apple  Walmart      3\n",
       "3  orange     Aldi      4"
      ]
     },
     "execution_count": 47,
     "metadata": {},
     "output_type": "execute_result"
    }
   ],
   "source": [
    "schema.validate(fruits)"
   ]
  },
  {
   "cell_type": "code",
   "execution_count": 48,
   "id": "737b2ac9",
   "metadata": {
    "ExecuteTime": {
     "end_time": "2023-08-23T21:40:26.643866Z",
     "start_time": "2023-08-23T21:40:26.569070Z"
    }
   },
   "outputs": [
    {
     "data": {
      "text/html": [
       "<div>\n",
       "<style scoped>\n",
       "    .dataframe tbody tr th:only-of-type {\n",
       "        vertical-align: middle;\n",
       "    }\n",
       "\n",
       "    .dataframe tbody tr th {\n",
       "        vertical-align: top;\n",
       "    }\n",
       "\n",
       "    .dataframe thead th {\n",
       "        text-align: right;\n",
       "    }\n",
       "</style>\n",
       "<table border=\"1\" class=\"dataframe\">\n",
       "  <thead>\n",
       "    <tr style=\"text-align: right;\">\n",
       "      <th></th>\n",
       "      <th>name</th>\n",
       "      <th>store</th>\n",
       "      <th>price</th>\n",
       "    </tr>\n",
       "  </thead>\n",
       "  <tbody>\n",
       "    <tr>\n",
       "      <th>0</th>\n",
       "      <td>apple</td>\n",
       "      <td>Aldi</td>\n",
       "      <td>2</td>\n",
       "    </tr>\n",
       "    <tr>\n",
       "      <th>1</th>\n",
       "      <td>banana</td>\n",
       "      <td>Walmart</td>\n",
       "      <td>1</td>\n",
       "    </tr>\n",
       "    <tr>\n",
       "      <th>2</th>\n",
       "      <td>apple</td>\n",
       "      <td>Walmart</td>\n",
       "      <td>3</td>\n",
       "    </tr>\n",
       "    <tr>\n",
       "      <th>3</th>\n",
       "      <td>orange</td>\n",
       "      <td>Aldi</td>\n",
       "      <td>4</td>\n",
       "    </tr>\n",
       "  </tbody>\n",
       "</table>\n",
       "</div>"
      ],
      "text/plain": [
       "     name    store  price\n",
       "0   apple     Aldi      2\n",
       "1  banana  Walmart      1\n",
       "2   apple  Walmart      3\n",
       "3  orange     Aldi      4"
      ]
     },
     "execution_count": 48,
     "metadata": {},
     "output_type": "execute_result"
    }
   ],
   "source": [
    "schema = pa.DataFrameSchema(\n",
    "    {\n",
    "        \"name\": Column(str, Check.isin(available_fruits)),\n",
    "        \"store\": Column(str, Check.isin(nearby_stores)),\n",
    "        \"price\": Column(\n",
    "            int,\n",
    "            [\n",
    "                Check.less_than(5),\n",
    "                Check(lambda price: np.mean(price) < 4, element_wise=False),\n",
    "            ],\n",
    "        ),\n",
    "    }\n",
    ")\n",
    "schema.validate(fruits)\n"
   ]
  },
  {
   "cell_type": "markdown",
   "id": "ecc478f9",
   "metadata": {
    "collapsed": false,
    "jupyter": {
     "outputs_hidden": false
    }
   },
   "source": [
    "### More checks in the [documentation](https://pandera.readthedocs.io/en/stable/checks.html)"
   ]
  },
  {
   "cell_type": "markdown",
   "id": "96cfe159",
   "metadata": {},
   "source": [
    "# Schema Model"
   ]
  },
  {
   "cell_type": "code",
   "execution_count": 49,
   "id": "fade9cb7",
   "metadata": {
    "ExecuteTime": {
     "end_time": "2023-08-23T18:35:54.407410Z",
     "start_time": "2023-08-23T18:35:54.403226Z"
    }
   },
   "outputs": [
    {
     "data": {
      "text/html": [
       "<div>\n",
       "<style scoped>\n",
       "    .dataframe tbody tr th:only-of-type {\n",
       "        vertical-align: middle;\n",
       "    }\n",
       "\n",
       "    .dataframe tbody tr th {\n",
       "        vertical-align: top;\n",
       "    }\n",
       "\n",
       "    .dataframe thead th {\n",
       "        text-align: right;\n",
       "    }\n",
       "</style>\n",
       "<table border=\"1\" class=\"dataframe\">\n",
       "  <thead>\n",
       "    <tr style=\"text-align: right;\">\n",
       "      <th></th>\n",
       "      <th>name</th>\n",
       "      <th>store</th>\n",
       "      <th>price</th>\n",
       "    </tr>\n",
       "  </thead>\n",
       "  <tbody>\n",
       "    <tr>\n",
       "      <th>0</th>\n",
       "      <td>apple</td>\n",
       "      <td>Aldi</td>\n",
       "      <td>2</td>\n",
       "    </tr>\n",
       "    <tr>\n",
       "      <th>1</th>\n",
       "      <td>banana</td>\n",
       "      <td>Walmart</td>\n",
       "      <td>1</td>\n",
       "    </tr>\n",
       "    <tr>\n",
       "      <th>2</th>\n",
       "      <td>apple</td>\n",
       "      <td>Walmart</td>\n",
       "      <td>3</td>\n",
       "    </tr>\n",
       "    <tr>\n",
       "      <th>3</th>\n",
       "      <td>orange</td>\n",
       "      <td>Aldi</td>\n",
       "      <td>4</td>\n",
       "    </tr>\n",
       "  </tbody>\n",
       "</table>\n",
       "</div>"
      ],
      "text/plain": [
       "     name    store  price\n",
       "0   apple     Aldi      2\n",
       "1  banana  Walmart      1\n",
       "2   apple  Walmart      3\n",
       "3  orange     Aldi      4"
      ]
     },
     "execution_count": 49,
     "metadata": {},
     "output_type": "execute_result"
    }
   ],
   "source": [
    "from pandera.typing import Series\n",
    "\n",
    "\n",
    "class Schema(pa.SchemaModel):\n",
    "    name: Series[str] = pa.Field(isin=available_fruits)\n",
    "    store: Series[str] = pa.Field(isin=nearby_stores)\n",
    "    price: Series[int] = pa.Field(le=5)\n",
    "\n",
    "    @pa.check(\"price\")\n",
    "    def price_sum_lt_20(cls, price: Series[int]) -> Series[bool]:\n",
    "        return np.sum(price) < 20\n",
    "\n",
    "    @pa.check(\"price\")\n",
    "    def price_mean_lt_5(cls, price: Series[int]) -> Series[bool]:\n",
    "        return np.mean(price) < 5\n",
    "\n",
    "Schema.validate(fruits)"
   ]
  },
  {
   "cell_type": "markdown",
   "id": "a79cccf4",
   "metadata": {},
   "source": [
    "# Validation Decorator "
   ]
  },
  {
   "cell_type": "markdown",
   "id": "01b25cd1",
   "metadata": {},
   "source": [
    "## Check Input"
   ]
  },
  {
   "cell_type": "code",
   "execution_count": 31,
   "id": "05df26e0",
   "metadata": {
    "ExecuteTime": {
     "end_time": "2023-08-23T17:39:33.037514Z",
     "start_time": "2023-08-23T17:39:33.025124Z"
    }
   },
   "outputs": [
    {
     "data": {
      "text/plain": [
       "10"
      ]
     },
     "execution_count": 31,
     "metadata": {},
     "output_type": "execute_result"
    }
   ],
   "source": [
    "fruits = pd.DataFrame(\n",
    "    {\n",
    "        \"name\": [\"apple\", \"banana\", \"apple\", \"orange\"],\n",
    "        \"store\": [\"Aldi\", \"Walmart\", \"Walmart\", \"Aldi\"],\n",
    "        \"price\": [2, 1, 3, 4],\n",
    "    }\n",
    ")\n",
    "\n",
    "schema = pa.DataFrameSchema(\n",
    "    {\n",
    "        \"name\": Column(str, Check.isin(available_fruits)),\n",
    "        \"store\": Column(str, Check.isin(nearby_stores)),\n",
    "        \"price\": Column(int, Check.less_than(5)),\n",
    "    }\n",
    ")\n",
    "\n",
    "\n",
    "def get_total_price(fruits: pd.DataFrame, schema: pa.DataFrameSchema):\n",
    "    validated = schema.validate(fruits)\n",
    "    return validated[\"price\"].sum()\n",
    "\n",
    "\n",
    "get_total_price(fruits, schema)"
   ]
  },
  {
   "cell_type": "code",
   "execution_count": 50,
   "id": "f4fe5959",
   "metadata": {
    "ExecuteTime": {
     "end_time": "2023-08-23T17:39:34.006560Z",
     "start_time": "2023-08-23T17:39:33.964749Z"
    }
   },
   "outputs": [
    {
     "data": {
      "text/plain": [
       "10"
      ]
     },
     "execution_count": 50,
     "metadata": {},
     "output_type": "execute_result"
    }
   ],
   "source": [
    "from pandera import check_input, check_output, check_io\n",
    "\n",
    "@check_input(schema)\n",
    "def get_total_price(fruits: pd.DataFrame):\n",
    "    return fruits.price.sum()\n",
    "\n",
    "\n",
    "get_total_price(fruits)"
   ]
  },
  {
   "cell_type": "markdown",
   "id": "47fe5471",
   "metadata": {},
   "source": [
    "## Check Output"
   ]
  },
  {
   "cell_type": "code",
   "execution_count": 33,
   "id": "f4000414",
   "metadata": {
    "ExecuteTime": {
     "end_time": "2022-03-25T19:23:45.156508Z",
     "start_time": "2022-03-25T19:23:45.121056Z"
    },
    "code_folding": []
   },
   "outputs": [
    {
     "data": {
      "text/html": [
       "<div>\n",
       "<style scoped>\n",
       "    .dataframe tbody tr th:only-of-type {\n",
       "        vertical-align: middle;\n",
       "    }\n",
       "\n",
       "    .dataframe tbody tr th {\n",
       "        vertical-align: top;\n",
       "    }\n",
       "\n",
       "    .dataframe thead th {\n",
       "        text-align: right;\n",
       "    }\n",
       "</style>\n",
       "<table border=\"1\" class=\"dataframe\">\n",
       "  <thead>\n",
       "    <tr style=\"text-align: right;\">\n",
       "      <th></th>\n",
       "      <th>name</th>\n",
       "      <th>store</th>\n",
       "      <th>price</th>\n",
       "    </tr>\n",
       "  </thead>\n",
       "  <tbody>\n",
       "    <tr>\n",
       "      <th>0</th>\n",
       "      <td>apple</td>\n",
       "      <td>Aldi</td>\n",
       "      <td>2</td>\n",
       "    </tr>\n",
       "    <tr>\n",
       "      <th>1</th>\n",
       "      <td>banana</td>\n",
       "      <td>Walmart</td>\n",
       "      <td>1</td>\n",
       "    </tr>\n",
       "    <tr>\n",
       "      <th>2</th>\n",
       "      <td>apple</td>\n",
       "      <td>Walmart</td>\n",
       "      <td>3</td>\n",
       "    </tr>\n",
       "    <tr>\n",
       "      <th>3</th>\n",
       "      <td>orange</td>\n",
       "      <td>Aldi</td>\n",
       "      <td>4</td>\n",
       "    </tr>\n",
       "    <tr>\n",
       "      <th>0</th>\n",
       "      <td>apple</td>\n",
       "      <td>Whole Foods</td>\n",
       "      <td>3</td>\n",
       "    </tr>\n",
       "    <tr>\n",
       "      <th>1</th>\n",
       "      <td>banana</td>\n",
       "      <td>Whole Foods</td>\n",
       "      <td>2</td>\n",
       "    </tr>\n",
       "    <tr>\n",
       "      <th>2</th>\n",
       "      <td>apple</td>\n",
       "      <td>Schnucks</td>\n",
       "      <td>4</td>\n",
       "    </tr>\n",
       "    <tr>\n",
       "      <th>3</th>\n",
       "      <td>orange</td>\n",
       "      <td>Schnucks</td>\n",
       "      <td>5</td>\n",
       "    </tr>\n",
       "  </tbody>\n",
       "</table>\n",
       "</div>"
      ],
      "text/plain": [
       "     name        store  price\n",
       "0   apple         Aldi      2\n",
       "1  banana      Walmart      1\n",
       "2   apple      Walmart      3\n",
       "3  orange         Aldi      4\n",
       "0   apple  Whole Foods      3\n",
       "1  banana  Whole Foods      2\n",
       "2   apple     Schnucks      4\n",
       "3  orange     Schnucks      5"
      ]
     },
     "execution_count": 33,
     "metadata": {},
     "output_type": "execute_result"
    }
   ],
   "source": [
    "fruits_nearby = pd.DataFrame(\n",
    "    {\n",
    "        \"name\": [\"apple\", \"banana\", \"apple\", \"orange\"],\n",
    "        \"store\": [\"Aldi\", \"Walmart\", \"Walmart\", \"Aldi\"],\n",
    "        \"price\": [2, 1, 3, 4],\n",
    "    }\n",
    ")\n",
    "\n",
    "fruits_faraway = pd.DataFrame(\n",
    "    {\n",
    "        \"name\": [\"apple\", \"banana\", \"apple\", \"orange\"],\n",
    "        \"store\": [\"Whole Foods\", \"Whole Foods\", \"Schnucks\", \"Schnucks\"],\n",
    "        \"price\": [3, 2, 4, 5],\n",
    "    }\n",
    ")\n",
    "\n",
    "out_schema = pa.DataFrameSchema(\n",
    "    {\"store\": Column(str, Check.isin([\"Aldi\", \"Walmart\", \"Whole Foods\", \"Schnucks\"]))}\n",
    ")\n",
    "\n",
    "\n",
    "@check_output(out_schema)\n",
    "def combine_fruits(fruits_nearby: pd.DataFrame, fruits_faraway: pd.DataFrame):\n",
    "    fruits = pd.concat([fruits_nearby, fruits_faraway])\n",
    "    return fruits\n",
    "\n",
    "\n",
    "combine_fruits(fruits_nearby, fruits_faraway)"
   ]
  },
  {
   "cell_type": "markdown",
   "id": "c56d96d2",
   "metadata": {},
   "source": [
    "## Check Both"
   ]
  },
  {
   "cell_type": "code",
   "execution_count": 51,
   "id": "1fcc660e",
   "metadata": {
    "ExecuteTime": {
     "end_time": "2022-03-25T19:23:56.679696Z",
     "start_time": "2022-03-25T19:23:56.654195Z"
    }
   },
   "outputs": [
    {
     "data": {
      "text/html": [
       "<div>\n",
       "<style scoped>\n",
       "    .dataframe tbody tr th:only-of-type {\n",
       "        vertical-align: middle;\n",
       "    }\n",
       "\n",
       "    .dataframe tbody tr th {\n",
       "        vertical-align: top;\n",
       "    }\n",
       "\n",
       "    .dataframe thead th {\n",
       "        text-align: right;\n",
       "    }\n",
       "</style>\n",
       "<table border=\"1\" class=\"dataframe\">\n",
       "  <thead>\n",
       "    <tr style=\"text-align: right;\">\n",
       "      <th></th>\n",
       "      <th>name</th>\n",
       "      <th>store</th>\n",
       "      <th>price</th>\n",
       "    </tr>\n",
       "  </thead>\n",
       "  <tbody>\n",
       "    <tr>\n",
       "      <th>0</th>\n",
       "      <td>apple</td>\n",
       "      <td>Aldi</td>\n",
       "      <td>2</td>\n",
       "    </tr>\n",
       "    <tr>\n",
       "      <th>1</th>\n",
       "      <td>banana</td>\n",
       "      <td>Walmart</td>\n",
       "      <td>1</td>\n",
       "    </tr>\n",
       "    <tr>\n",
       "      <th>2</th>\n",
       "      <td>apple</td>\n",
       "      <td>Walmart</td>\n",
       "      <td>3</td>\n",
       "    </tr>\n",
       "    <tr>\n",
       "      <th>3</th>\n",
       "      <td>orange</td>\n",
       "      <td>Aldi</td>\n",
       "      <td>4</td>\n",
       "    </tr>\n",
       "    <tr>\n",
       "      <th>0</th>\n",
       "      <td>apple</td>\n",
       "      <td>Whole Foods</td>\n",
       "      <td>3</td>\n",
       "    </tr>\n",
       "    <tr>\n",
       "      <th>1</th>\n",
       "      <td>banana</td>\n",
       "      <td>Whole Foods</td>\n",
       "      <td>2</td>\n",
       "    </tr>\n",
       "    <tr>\n",
       "      <th>2</th>\n",
       "      <td>apple</td>\n",
       "      <td>Schnucks</td>\n",
       "      <td>4</td>\n",
       "    </tr>\n",
       "    <tr>\n",
       "      <th>3</th>\n",
       "      <td>orange</td>\n",
       "      <td>Schnucks</td>\n",
       "      <td>5</td>\n",
       "    </tr>\n",
       "  </tbody>\n",
       "</table>\n",
       "</div>"
      ],
      "text/plain": [
       "     name        store  price\n",
       "0   apple         Aldi      2\n",
       "1  banana      Walmart      1\n",
       "2   apple      Walmart      3\n",
       "3  orange         Aldi      4\n",
       "0   apple  Whole Foods      3\n",
       "1  banana  Whole Foods      2\n",
       "2   apple     Schnucks      4\n",
       "3  orange     Schnucks      5"
      ]
     },
     "execution_count": 51,
     "metadata": {},
     "output_type": "execute_result"
    }
   ],
   "source": [
    "in_schema = pa.DataFrameSchema({\"store\": Column(str)})\n",
    "\n",
    "out_schema = pa.DataFrameSchema(\n",
    "    {\"store\": Column(str, Check.isin([\"Aldi\", \"Walmart\", \"Whole Foods\", \"Schnucks\"]))}\n",
    ")\n",
    "\n",
    "\n",
    "@check_io(fruits_nearby=in_schema, fruits_faraway=in_schema, out=out_schema)\n",
    "def combine_fruits(fruits_nearby: pd.DataFrame, fruits_faraway: pd.DataFrame):\n",
    "    fruits = pd.concat([fruits_nearby, fruits_faraway])\n",
    "    return fruits\n",
    "\n",
    "\n",
    "combine_fruits(fruits_nearby, fruits_faraway)"
   ]
  },
  {
   "cell_type": "markdown",
   "id": "67f25784",
   "metadata": {},
   "source": [
    "# Other Arguments for Column Validation"
   ]
  },
  {
   "cell_type": "markdown",
   "id": "ab134b13",
   "metadata": {},
   "source": [
    "## Deal with Null Values"
   ]
  },
  {
   "cell_type": "code",
   "execution_count": 53,
   "id": "c07491f2",
   "metadata": {
    "ExecuteTime": {
     "end_time": "2023-08-23T17:42:16.136961Z",
     "start_time": "2023-08-23T17:42:16.126732Z"
    }
   },
   "outputs": [
    {
     "data": {
      "text/html": [
       "<div>\n",
       "<style scoped>\n",
       "    .dataframe tbody tr th:only-of-type {\n",
       "        vertical-align: middle;\n",
       "    }\n",
       "\n",
       "    .dataframe tbody tr th {\n",
       "        vertical-align: top;\n",
       "    }\n",
       "\n",
       "    .dataframe thead th {\n",
       "        text-align: right;\n",
       "    }\n",
       "</style>\n",
       "<table border=\"1\" class=\"dataframe\">\n",
       "  <thead>\n",
       "    <tr style=\"text-align: right;\">\n",
       "      <th></th>\n",
       "      <th>name</th>\n",
       "      <th>store</th>\n",
       "      <th>price</th>\n",
       "    </tr>\n",
       "  </thead>\n",
       "  <tbody>\n",
       "    <tr>\n",
       "      <th>0</th>\n",
       "      <td>apple</td>\n",
       "      <td>Aldi</td>\n",
       "      <td>2</td>\n",
       "    </tr>\n",
       "    <tr>\n",
       "      <th>1</th>\n",
       "      <td>banana</td>\n",
       "      <td>Walmart</td>\n",
       "      <td>1</td>\n",
       "    </tr>\n",
       "    <tr>\n",
       "      <th>2</th>\n",
       "      <td>apple</td>\n",
       "      <td>Walmart</td>\n",
       "      <td>3</td>\n",
       "    </tr>\n",
       "    <tr>\n",
       "      <th>3</th>\n",
       "      <td>orange</td>\n",
       "      <td>NaN</td>\n",
       "      <td>4</td>\n",
       "    </tr>\n",
       "  </tbody>\n",
       "</table>\n",
       "</div>"
      ],
      "text/plain": [
       "     name    store  price\n",
       "0   apple     Aldi      2\n",
       "1  banana  Walmart      1\n",
       "2   apple  Walmart      3\n",
       "3  orange      NaN      4"
      ]
     },
     "execution_count": 53,
     "metadata": {},
     "output_type": "execute_result"
    }
   ],
   "source": [
    "fruits = pd.DataFrame(\n",
    "    {\n",
    "        \"name\": [\"apple\", \"banana\", \"apple\", \"orange\"],\n",
    "        \"store\": [\"Aldi\", \"Walmart\", \"Walmart\", np.nan],\n",
    "        \"price\": [2, 1, 3, 4],\n",
    "    }\n",
    ")\n",
    "\n",
    "fruits"
   ]
  },
  {
   "cell_type": "code",
   "execution_count": 54,
   "id": "57828b2f",
   "metadata": {
    "ExecuteTime": {
     "end_time": "2023-08-23T17:42:16.902357Z",
     "start_time": "2023-08-23T17:42:16.855146Z"
    }
   },
   "outputs": [
    {
     "data": {
      "text/html": [
       "<div>\n",
       "<style scoped>\n",
       "    .dataframe tbody tr th:only-of-type {\n",
       "        vertical-align: middle;\n",
       "    }\n",
       "\n",
       "    .dataframe tbody tr th {\n",
       "        vertical-align: top;\n",
       "    }\n",
       "\n",
       "    .dataframe thead th {\n",
       "        text-align: right;\n",
       "    }\n",
       "</style>\n",
       "<table border=\"1\" class=\"dataframe\">\n",
       "  <thead>\n",
       "    <tr style=\"text-align: right;\">\n",
       "      <th></th>\n",
       "      <th>name</th>\n",
       "      <th>store</th>\n",
       "      <th>price</th>\n",
       "    </tr>\n",
       "  </thead>\n",
       "  <tbody>\n",
       "    <tr>\n",
       "      <th>0</th>\n",
       "      <td>apple</td>\n",
       "      <td>Aldi</td>\n",
       "      <td>2</td>\n",
       "    </tr>\n",
       "    <tr>\n",
       "      <th>1</th>\n",
       "      <td>banana</td>\n",
       "      <td>Walmart</td>\n",
       "      <td>1</td>\n",
       "    </tr>\n",
       "    <tr>\n",
       "      <th>2</th>\n",
       "      <td>apple</td>\n",
       "      <td>Walmart</td>\n",
       "      <td>3</td>\n",
       "    </tr>\n",
       "    <tr>\n",
       "      <th>3</th>\n",
       "      <td>orange</td>\n",
       "      <td>NaN</td>\n",
       "      <td>4</td>\n",
       "    </tr>\n",
       "  </tbody>\n",
       "</table>\n",
       "</div>"
      ],
      "text/plain": [
       "     name    store  price\n",
       "0   apple     Aldi      2\n",
       "1  banana  Walmart      1\n",
       "2   apple  Walmart      3\n",
       "3  orange      NaN      4"
      ]
     },
     "execution_count": 54,
     "metadata": {},
     "output_type": "execute_result"
    }
   ],
   "source": [
    "schema = pa.DataFrameSchema(\n",
    "    {\n",
    "        \"name\": Column(str, Check.isin(available_fruits)),\n",
    "        \"store\": Column(\n",
    "            str,\n",
    "            Check.isin(nearby_stores),\n",
    "            nullable=True,\n",
    "        ),\n",
    "        \"price\": Column(int, Check.less_than(5)),\n",
    "    }\n",
    ")\n",
    "schema.validate(fruits)\n"
   ]
  },
  {
   "cell_type": "markdown",
   "id": "14a3efc3",
   "metadata": {
    "collapsed": false,
    "jupyter": {
     "outputs_hidden": false
    }
   },
   "source": [
    "# Deal with data types"
   ]
  },
  {
   "cell_type": "code",
   "execution_count": 49,
   "id": "aa05fc68",
   "metadata": {
    "ExecuteTime": {
     "end_time": "2023-08-23T17:42:58.246097Z",
     "start_time": "2023-08-23T17:42:58.241320Z"
    },
    "collapsed": false,
    "jupyter": {
     "outputs_hidden": false
    }
   },
   "outputs": [],
   "source": [
    "fruits = pd.DataFrame(\n",
    "    {\n",
    "        \"name\": [\"apple\", \"banana\", \"apple\", \"orange\"],\n",
    "        \"store\": [\"Aldi\", \"Walmart\", \"Walmart\", \"Aldi\"],\n",
    "        \"price\": [\"2\", \"1\", \"3\", \"4\"],\n",
    "    }\n",
    ")"
   ]
  },
  {
   "cell_type": "code",
   "execution_count": 50,
   "id": "af998ef2",
   "metadata": {
    "ExecuteTime": {
     "end_time": "2023-08-23T17:42:58.421416Z",
     "start_time": "2023-08-23T17:42:58.382807Z"
    },
    "collapsed": false,
    "jupyter": {
     "outputs_hidden": false
    }
   },
   "outputs": [
    {
     "data": {
      "text/html": [
       "<div>\n",
       "<style scoped>\n",
       "    .dataframe tbody tr th:only-of-type {\n",
       "        vertical-align: middle;\n",
       "    }\n",
       "\n",
       "    .dataframe tbody tr th {\n",
       "        vertical-align: top;\n",
       "    }\n",
       "\n",
       "    .dataframe thead th {\n",
       "        text-align: right;\n",
       "    }\n",
       "</style>\n",
       "<table border=\"1\" class=\"dataframe\">\n",
       "  <thead>\n",
       "    <tr style=\"text-align: right;\">\n",
       "      <th></th>\n",
       "      <th>name</th>\n",
       "      <th>store</th>\n",
       "      <th>price</th>\n",
       "    </tr>\n",
       "  </thead>\n",
       "  <tbody>\n",
       "    <tr>\n",
       "      <th>0</th>\n",
       "      <td>apple</td>\n",
       "      <td>Aldi</td>\n",
       "      <td>2</td>\n",
       "    </tr>\n",
       "    <tr>\n",
       "      <th>1</th>\n",
       "      <td>banana</td>\n",
       "      <td>Walmart</td>\n",
       "      <td>1</td>\n",
       "    </tr>\n",
       "    <tr>\n",
       "      <th>2</th>\n",
       "      <td>apple</td>\n",
       "      <td>Walmart</td>\n",
       "      <td>3</td>\n",
       "    </tr>\n",
       "    <tr>\n",
       "      <th>3</th>\n",
       "      <td>orange</td>\n",
       "      <td>Aldi</td>\n",
       "      <td>4</td>\n",
       "    </tr>\n",
       "  </tbody>\n",
       "</table>\n",
       "</div>"
      ],
      "text/plain": [
       "     name    store  price\n",
       "0   apple     Aldi      2\n",
       "1  banana  Walmart      1\n",
       "2   apple  Walmart      3\n",
       "3  orange     Aldi      4"
      ]
     },
     "execution_count": 50,
     "metadata": {},
     "output_type": "execute_result"
    }
   ],
   "source": [
    "schema = pa.DataFrameSchema(\n",
    "    {\n",
    "        \"name\": Column(str, Check.isin(available_fruits)),\n",
    "        \"store\": Column( str, Check.isin(nearby_stores)),\n",
    "        \"price\": Column(\n",
    "            int,\n",
    "            Check.less_than(5),\n",
    "            coerce=True\n",
    "        ),\n",
    "    }\n",
    ")\n",
    "schema.validate(fruits)\n"
   ]
  },
  {
   "cell_type": "markdown",
   "id": "e4998af4",
   "metadata": {},
   "source": [
    "## Deal with Duplicates"
   ]
  },
  {
   "cell_type": "code",
   "execution_count": 38,
   "id": "a0d79c0a",
   "metadata": {
    "ExecuteTime": {
     "end_time": "2023-08-23T17:43:50.874829Z",
     "start_time": "2023-08-23T17:43:50.731900Z"
    }
   },
   "outputs": [
    {
     "ename": "SchemaError",
     "evalue": "series 'store' contains duplicate values:\n1    Walmart\n2    Walmart\nName: store, dtype: object",
     "output_type": "error",
     "traceback": [
      "\u001b[0;31m---------------------------------------------------------------------------\u001b[0m",
      "\u001b[0;31mSchemaError\u001b[0m                               Traceback (most recent call last)",
      "Cell \u001b[0;32mIn[38], line 13\u001b[0m\n\u001b[1;32m      1\u001b[0m schema \u001b[38;5;241m=\u001b[39m pa\u001b[38;5;241m.\u001b[39mDataFrameSchema(\n\u001b[1;32m      2\u001b[0m     {\n\u001b[1;32m      3\u001b[0m         \u001b[38;5;124m\"\u001b[39m\u001b[38;5;124mname\u001b[39m\u001b[38;5;124m\"\u001b[39m: Column(\u001b[38;5;28mstr\u001b[39m, Check\u001b[38;5;241m.\u001b[39misin(available_fruits)),\n\u001b[0;32m   (...)\u001b[0m\n\u001b[1;32m     11\u001b[0m     }\n\u001b[1;32m     12\u001b[0m )\n\u001b[0;32m---> 13\u001b[0m \u001b[43mschema\u001b[49m\u001b[38;5;241;43m.\u001b[39;49m\u001b[43mvalidate\u001b[49m\u001b[43m(\u001b[49m\u001b[43mfruits\u001b[49m\u001b[43m)\u001b[49m\n",
      "File \u001b[0;32m~/Library/Caches/pypoetry/virtualenvs/pandera-hello-Qn0kq0TZ-py3.11/lib/python3.11/site-packages/pandera/api/pandas/container.py:366\u001b[0m, in \u001b[0;36mDataFrameSchema.validate\u001b[0;34m(self, check_obj, head, tail, sample, random_state, lazy, inplace)\u001b[0m\n\u001b[1;32m    354\u001b[0m     check_obj \u001b[38;5;241m=\u001b[39m check_obj\u001b[38;5;241m.\u001b[39mmap_partitions(  \u001b[38;5;66;03m# type: ignore [operator]\u001b[39;00m\n\u001b[1;32m    355\u001b[0m         \u001b[38;5;28mself\u001b[39m\u001b[38;5;241m.\u001b[39m_validate,\n\u001b[1;32m    356\u001b[0m         head\u001b[38;5;241m=\u001b[39mhead,\n\u001b[0;32m   (...)\u001b[0m\n\u001b[1;32m    362\u001b[0m         meta\u001b[38;5;241m=\u001b[39mcheck_obj,\n\u001b[1;32m    363\u001b[0m     )\n\u001b[1;32m    364\u001b[0m     \u001b[38;5;28;01mreturn\u001b[39;00m check_obj\u001b[38;5;241m.\u001b[39mpandera\u001b[38;5;241m.\u001b[39madd_schema(\u001b[38;5;28mself\u001b[39m)\n\u001b[0;32m--> 366\u001b[0m \u001b[38;5;28;01mreturn\u001b[39;00m \u001b[38;5;28;43mself\u001b[39;49m\u001b[38;5;241;43m.\u001b[39;49m\u001b[43m_validate\u001b[49m\u001b[43m(\u001b[49m\n\u001b[1;32m    367\u001b[0m \u001b[43m    \u001b[49m\u001b[43mcheck_obj\u001b[49m\u001b[38;5;241;43m=\u001b[39;49m\u001b[43mcheck_obj\u001b[49m\u001b[43m,\u001b[49m\n\u001b[1;32m    368\u001b[0m \u001b[43m    \u001b[49m\u001b[43mhead\u001b[49m\u001b[38;5;241;43m=\u001b[39;49m\u001b[43mhead\u001b[49m\u001b[43m,\u001b[49m\n\u001b[1;32m    369\u001b[0m \u001b[43m    \u001b[49m\u001b[43mtail\u001b[49m\u001b[38;5;241;43m=\u001b[39;49m\u001b[43mtail\u001b[49m\u001b[43m,\u001b[49m\n\u001b[1;32m    370\u001b[0m \u001b[43m    \u001b[49m\u001b[43msample\u001b[49m\u001b[38;5;241;43m=\u001b[39;49m\u001b[43msample\u001b[49m\u001b[43m,\u001b[49m\n\u001b[1;32m    371\u001b[0m \u001b[43m    \u001b[49m\u001b[43mrandom_state\u001b[49m\u001b[38;5;241;43m=\u001b[39;49m\u001b[43mrandom_state\u001b[49m\u001b[43m,\u001b[49m\n\u001b[1;32m    372\u001b[0m \u001b[43m    \u001b[49m\u001b[43mlazy\u001b[49m\u001b[38;5;241;43m=\u001b[39;49m\u001b[43mlazy\u001b[49m\u001b[43m,\u001b[49m\n\u001b[1;32m    373\u001b[0m \u001b[43m    \u001b[49m\u001b[43minplace\u001b[49m\u001b[38;5;241;43m=\u001b[39;49m\u001b[43minplace\u001b[49m\u001b[43m,\u001b[49m\n\u001b[1;32m    374\u001b[0m \u001b[43m\u001b[49m\u001b[43m)\u001b[49m\n",
      "File \u001b[0;32m~/Library/Caches/pypoetry/virtualenvs/pandera-hello-Qn0kq0TZ-py3.11/lib/python3.11/site-packages/pandera/api/pandas/container.py:395\u001b[0m, in \u001b[0;36mDataFrameSchema._validate\u001b[0;34m(self, check_obj, head, tail, sample, random_state, lazy, inplace)\u001b[0m\n\u001b[1;32m    386\u001b[0m \u001b[38;5;28;01mif\u001b[39;00m \u001b[38;5;28mself\u001b[39m\u001b[38;5;241m.\u001b[39m_is_inferred:\n\u001b[1;32m    387\u001b[0m     warnings\u001b[38;5;241m.\u001b[39mwarn(\n\u001b[1;32m    388\u001b[0m         \u001b[38;5;124mf\u001b[39m\u001b[38;5;124m\"\u001b[39m\u001b[38;5;124mThis \u001b[39m\u001b[38;5;132;01m{\u001b[39;00m\u001b[38;5;28mtype\u001b[39m(\u001b[38;5;28mself\u001b[39m)\u001b[38;5;132;01m}\u001b[39;00m\u001b[38;5;124m is an inferred schema that hasn\u001b[39m\u001b[38;5;124m'\u001b[39m\u001b[38;5;124mt been \u001b[39m\u001b[38;5;124m\"\u001b[39m\n\u001b[1;32m    389\u001b[0m         \u001b[38;5;124m\"\u001b[39m\u001b[38;5;124mmodified. It\u001b[39m\u001b[38;5;124m'\u001b[39m\u001b[38;5;124ms recommended that you refine the schema \u001b[39m\u001b[38;5;124m\"\u001b[39m\n\u001b[0;32m   (...)\u001b[0m\n\u001b[1;32m    392\u001b[0m         \u001b[38;5;167;01mUserWarning\u001b[39;00m,\n\u001b[1;32m    393\u001b[0m     )\n\u001b[0;32m--> 395\u001b[0m \u001b[38;5;28;01mreturn\u001b[39;00m \u001b[38;5;28;43mself\u001b[39;49m\u001b[38;5;241;43m.\u001b[39;49m\u001b[43mget_backend\u001b[49m\u001b[43m(\u001b[49m\u001b[43mcheck_obj\u001b[49m\u001b[43m)\u001b[49m\u001b[38;5;241;43m.\u001b[39;49m\u001b[43mvalidate\u001b[49m\u001b[43m(\u001b[49m\n\u001b[1;32m    396\u001b[0m \u001b[43m    \u001b[49m\u001b[43mcheck_obj\u001b[49m\u001b[43m,\u001b[49m\n\u001b[1;32m    397\u001b[0m \u001b[43m    \u001b[49m\u001b[43mschema\u001b[49m\u001b[38;5;241;43m=\u001b[39;49m\u001b[38;5;28;43mself\u001b[39;49m\u001b[43m,\u001b[49m\n\u001b[1;32m    398\u001b[0m \u001b[43m    \u001b[49m\u001b[43mhead\u001b[49m\u001b[38;5;241;43m=\u001b[39;49m\u001b[43mhead\u001b[49m\u001b[43m,\u001b[49m\n\u001b[1;32m    399\u001b[0m \u001b[43m    \u001b[49m\u001b[43mtail\u001b[49m\u001b[38;5;241;43m=\u001b[39;49m\u001b[43mtail\u001b[49m\u001b[43m,\u001b[49m\n\u001b[1;32m    400\u001b[0m \u001b[43m    \u001b[49m\u001b[43msample\u001b[49m\u001b[38;5;241;43m=\u001b[39;49m\u001b[43msample\u001b[49m\u001b[43m,\u001b[49m\n\u001b[1;32m    401\u001b[0m \u001b[43m    \u001b[49m\u001b[43mrandom_state\u001b[49m\u001b[38;5;241;43m=\u001b[39;49m\u001b[43mrandom_state\u001b[49m\u001b[43m,\u001b[49m\n\u001b[1;32m    402\u001b[0m \u001b[43m    \u001b[49m\u001b[43mlazy\u001b[49m\u001b[38;5;241;43m=\u001b[39;49m\u001b[43mlazy\u001b[49m\u001b[43m,\u001b[49m\n\u001b[1;32m    403\u001b[0m \u001b[43m    \u001b[49m\u001b[43minplace\u001b[49m\u001b[38;5;241;43m=\u001b[39;49m\u001b[43minplace\u001b[49m\u001b[43m,\u001b[49m\n\u001b[1;32m    404\u001b[0m \u001b[43m\u001b[49m\u001b[43m)\u001b[49m\n",
      "File \u001b[0;32m~/Library/Caches/pypoetry/virtualenvs/pandera-hello-Qn0kq0TZ-py3.11/lib/python3.11/site-packages/pandera/backends/pandas/container.py:97\u001b[0m, in \u001b[0;36mDataFrameSchemaBackend.validate\u001b[0;34m(self, check_obj, schema, head, tail, sample, random_state, lazy, inplace)\u001b[0m\n\u001b[1;32m     92\u001b[0m components \u001b[38;5;241m=\u001b[39m \u001b[38;5;28mself\u001b[39m\u001b[38;5;241m.\u001b[39mcollect_schema_components(\n\u001b[1;32m     93\u001b[0m     check_obj, schema, column_info\n\u001b[1;32m     94\u001b[0m )\n\u001b[1;32m     96\u001b[0m \u001b[38;5;66;03m# run the checks\u001b[39;00m\n\u001b[0;32m---> 97\u001b[0m error_handler \u001b[38;5;241m=\u001b[39m \u001b[38;5;28;43mself\u001b[39;49m\u001b[38;5;241;43m.\u001b[39;49m\u001b[43mrun_checks_and_handle_errors\u001b[49m\u001b[43m(\u001b[49m\n\u001b[1;32m     98\u001b[0m \u001b[43m    \u001b[49m\u001b[43merror_handler\u001b[49m\u001b[43m,\u001b[49m\n\u001b[1;32m     99\u001b[0m \u001b[43m    \u001b[49m\u001b[43mschema\u001b[49m\u001b[43m,\u001b[49m\n\u001b[1;32m    100\u001b[0m \u001b[43m    \u001b[49m\u001b[43mcheck_obj\u001b[49m\u001b[43m,\u001b[49m\n\u001b[1;32m    101\u001b[0m \u001b[43m    \u001b[49m\u001b[43mcolumn_info\u001b[49m\u001b[43m,\u001b[49m\n\u001b[1;32m    102\u001b[0m \u001b[43m    \u001b[49m\u001b[43msample\u001b[49m\u001b[43m,\u001b[49m\n\u001b[1;32m    103\u001b[0m \u001b[43m    \u001b[49m\u001b[43mcomponents\u001b[49m\u001b[43m,\u001b[49m\n\u001b[1;32m    104\u001b[0m \u001b[43m    \u001b[49m\u001b[43mlazy\u001b[49m\u001b[43m,\u001b[49m\n\u001b[1;32m    105\u001b[0m \u001b[43m    \u001b[49m\u001b[43mhead\u001b[49m\u001b[43m,\u001b[49m\n\u001b[1;32m    106\u001b[0m \u001b[43m    \u001b[49m\u001b[43mtail\u001b[49m\u001b[43m,\u001b[49m\n\u001b[1;32m    107\u001b[0m \u001b[43m    \u001b[49m\u001b[43mrandom_state\u001b[49m\u001b[43m,\u001b[49m\n\u001b[1;32m    108\u001b[0m \u001b[43m\u001b[49m\u001b[43m)\u001b[49m\n\u001b[1;32m    110\u001b[0m \u001b[38;5;28;01mif\u001b[39;00m error_handler\u001b[38;5;241m.\u001b[39mcollected_errors:\n\u001b[1;32m    111\u001b[0m     \u001b[38;5;28;01mif\u001b[39;00m \u001b[38;5;28mgetattr\u001b[39m(schema, \u001b[38;5;124m\"\u001b[39m\u001b[38;5;124mdrop_invalid_rows\u001b[39m\u001b[38;5;124m\"\u001b[39m, \u001b[38;5;28;01mFalse\u001b[39;00m):\n",
      "File \u001b[0;32m~/Library/Caches/pypoetry/virtualenvs/pandera-hello-Qn0kq0TZ-py3.11/lib/python3.11/site-packages/pandera/backends/pandas/container.py:172\u001b[0m, in \u001b[0;36mDataFrameSchemaBackend.run_checks_and_handle_errors\u001b[0;34m(self, error_handler, schema, check_obj, column_info, sample, components, lazy, head, tail, random_state)\u001b[0m\n\u001b[1;32m    161\u001b[0m         \u001b[38;5;28;01melse\u001b[39;00m:\n\u001b[1;32m    162\u001b[0m             error \u001b[38;5;241m=\u001b[39m SchemaError(\n\u001b[1;32m    163\u001b[0m                 schema,\n\u001b[1;32m    164\u001b[0m                 data\u001b[38;5;241m=\u001b[39mcheck_obj,\n\u001b[0;32m   (...)\u001b[0m\n\u001b[1;32m    170\u001b[0m                 reason_code\u001b[38;5;241m=\u001b[39mresult\u001b[38;5;241m.\u001b[39mreason_code,\n\u001b[1;32m    171\u001b[0m             )\n\u001b[0;32m--> 172\u001b[0m         \u001b[43merror_handler\u001b[49m\u001b[38;5;241;43m.\u001b[39;49m\u001b[43mcollect_error\u001b[49m\u001b[43m(\u001b[49m\n\u001b[1;32m    173\u001b[0m \u001b[43m            \u001b[49m\u001b[43mresult\u001b[49m\u001b[38;5;241;43m.\u001b[39;49m\u001b[43mreason_code\u001b[49m\u001b[43m,\u001b[49m\n\u001b[1;32m    174\u001b[0m \u001b[43m            \u001b[49m\u001b[43merror\u001b[49m\u001b[43m,\u001b[49m\n\u001b[1;32m    175\u001b[0m \u001b[43m            \u001b[49m\u001b[43moriginal_exc\u001b[49m\u001b[38;5;241;43m=\u001b[39;49m\u001b[43mresult\u001b[49m\u001b[38;5;241;43m.\u001b[39;49m\u001b[43moriginal_exc\u001b[49m\u001b[43m,\u001b[49m\n\u001b[1;32m    176\u001b[0m \u001b[43m        \u001b[49m\u001b[43m)\u001b[49m\n\u001b[1;32m    178\u001b[0m \u001b[38;5;28;01mreturn\u001b[39;00m error_handler\n",
      "File \u001b[0;32m~/Library/Caches/pypoetry/virtualenvs/pandera-hello-Qn0kq0TZ-py3.11/lib/python3.11/site-packages/pandera/error_handlers.py:38\u001b[0m, in \u001b[0;36mSchemaErrorHandler.collect_error\u001b[0;34m(self, reason_code, schema_error, original_exc)\u001b[0m\n\u001b[1;32m     31\u001b[0m \u001b[38;5;250m\u001b[39m\u001b[38;5;124;03m\"\"\"Collect schema error, raising exception if lazy is False.\u001b[39;00m\n\u001b[1;32m     32\u001b[0m \n\u001b[1;32m     33\u001b[0m \u001b[38;5;124;03m:param reason_code: string representing reason for error.\u001b[39;00m\n\u001b[1;32m     34\u001b[0m \u001b[38;5;124;03m:param schema_error: ``SchemaError`` object.\u001b[39;00m\n\u001b[1;32m     35\u001b[0m \u001b[38;5;124;03m:param original_exc: original exception associated with the SchemaError.\u001b[39;00m\n\u001b[1;32m     36\u001b[0m \u001b[38;5;124;03m\"\"\"\u001b[39;00m\n\u001b[1;32m     37\u001b[0m \u001b[38;5;28;01mif\u001b[39;00m \u001b[38;5;129;01mnot\u001b[39;00m \u001b[38;5;28mself\u001b[39m\u001b[38;5;241m.\u001b[39m_lazy:\n\u001b[0;32m---> 38\u001b[0m     \u001b[38;5;28;01mraise\u001b[39;00m schema_error \u001b[38;5;28;01mfrom\u001b[39;00m \u001b[38;5;21;01moriginal_exc\u001b[39;00m\n\u001b[1;32m     40\u001b[0m \u001b[38;5;66;03m# delete data of validated object from SchemaError object to prevent\u001b[39;00m\n\u001b[1;32m     41\u001b[0m \u001b[38;5;66;03m# storing copies of the validated DataFrame/Series for every\u001b[39;00m\n\u001b[1;32m     42\u001b[0m \u001b[38;5;66;03m# SchemaError collected.\u001b[39;00m\n\u001b[1;32m     43\u001b[0m \u001b[38;5;28;01mdel\u001b[39;00m schema_error\u001b[38;5;241m.\u001b[39mdata\n",
      "File \u001b[0;32m~/Library/Caches/pypoetry/virtualenvs/pandera-hello-Qn0kq0TZ-py3.11/lib/python3.11/site-packages/pandera/backends/pandas/container.py:192\u001b[0m, in \u001b[0;36mDataFrameSchemaBackend.run_schema_component_checks\u001b[0;34m(self, check_obj, schema_components, lazy)\u001b[0m\n\u001b[1;32m    190\u001b[0m \u001b[38;5;28;01mfor\u001b[39;00m schema_component \u001b[38;5;129;01min\u001b[39;00m schema_components:\n\u001b[1;32m    191\u001b[0m     \u001b[38;5;28;01mtry\u001b[39;00m:\n\u001b[0;32m--> 192\u001b[0m         result \u001b[38;5;241m=\u001b[39m \u001b[43mschema_component\u001b[49m\u001b[38;5;241;43m.\u001b[39;49m\u001b[43mvalidate\u001b[49m\u001b[43m(\u001b[49m\n\u001b[1;32m    193\u001b[0m \u001b[43m            \u001b[49m\u001b[43mcheck_obj\u001b[49m\u001b[43m,\u001b[49m\u001b[43m \u001b[49m\u001b[43mlazy\u001b[49m\u001b[38;5;241;43m=\u001b[39;49m\u001b[43mlazy\u001b[49m\u001b[43m,\u001b[49m\u001b[43m \u001b[49m\u001b[43minplace\u001b[49m\u001b[38;5;241;43m=\u001b[39;49m\u001b[38;5;28;43;01mTrue\u001b[39;49;00m\n\u001b[1;32m    194\u001b[0m \u001b[43m        \u001b[49m\u001b[43m)\u001b[49m\n\u001b[1;32m    195\u001b[0m         check_passed\u001b[38;5;241m.\u001b[39mappend(is_table(result))\n\u001b[1;32m    196\u001b[0m     \u001b[38;5;28;01mexcept\u001b[39;00m SchemaError \u001b[38;5;28;01mas\u001b[39;00m err:\n",
      "File \u001b[0;32m~/Library/Caches/pypoetry/virtualenvs/pandera-hello-Qn0kq0TZ-py3.11/lib/python3.11/site-packages/pandera/api/pandas/components.py:169\u001b[0m, in \u001b[0;36mColumn.validate\u001b[0;34m(self, check_obj, head, tail, sample, random_state, lazy, inplace)\u001b[0m\n\u001b[1;32m    142\u001b[0m \u001b[38;5;28;01mdef\u001b[39;00m \u001b[38;5;21mvalidate\u001b[39m(\n\u001b[1;32m    143\u001b[0m     \u001b[38;5;28mself\u001b[39m,\n\u001b[1;32m    144\u001b[0m     check_obj: pd\u001b[38;5;241m.\u001b[39mDataFrame,\n\u001b[0;32m   (...)\u001b[0m\n\u001b[1;32m    150\u001b[0m     inplace: \u001b[38;5;28mbool\u001b[39m \u001b[38;5;241m=\u001b[39m \u001b[38;5;28;01mFalse\u001b[39;00m,\n\u001b[1;32m    151\u001b[0m ) \u001b[38;5;241m-\u001b[39m\u001b[38;5;241m>\u001b[39m pd\u001b[38;5;241m.\u001b[39mDataFrame:\n\u001b[1;32m    152\u001b[0m \u001b[38;5;250m    \u001b[39m\u001b[38;5;124;03m\"\"\"Validate a Column in a DataFrame object.\u001b[39;00m\n\u001b[1;32m    153\u001b[0m \n\u001b[1;32m    154\u001b[0m \u001b[38;5;124;03m    :param check_obj: pandas DataFrame to validate.\u001b[39;00m\n\u001b[0;32m   (...)\u001b[0m\n\u001b[1;32m    167\u001b[0m \u001b[38;5;124;03m    :returns: validated DataFrame.\u001b[39;00m\n\u001b[1;32m    168\u001b[0m \u001b[38;5;124;03m    \"\"\"\u001b[39;00m\n\u001b[0;32m--> 169\u001b[0m     \u001b[38;5;28;01mreturn\u001b[39;00m \u001b[38;5;28;43mself\u001b[39;49m\u001b[38;5;241;43m.\u001b[39;49m\u001b[43mget_backend\u001b[49m\u001b[43m(\u001b[49m\u001b[43mcheck_obj\u001b[49m\u001b[43m)\u001b[49m\u001b[38;5;241;43m.\u001b[39;49m\u001b[43mvalidate\u001b[49m\u001b[43m(\u001b[49m\n\u001b[1;32m    170\u001b[0m \u001b[43m        \u001b[49m\u001b[43mcheck_obj\u001b[49m\u001b[43m,\u001b[49m\n\u001b[1;32m    171\u001b[0m \u001b[43m        \u001b[49m\u001b[38;5;28;43mself\u001b[39;49m\u001b[43m,\u001b[49m\n\u001b[1;32m    172\u001b[0m \u001b[43m        \u001b[49m\u001b[43mhead\u001b[49m\u001b[38;5;241;43m=\u001b[39;49m\u001b[43mhead\u001b[49m\u001b[43m,\u001b[49m\n\u001b[1;32m    173\u001b[0m \u001b[43m        \u001b[49m\u001b[43mtail\u001b[49m\u001b[38;5;241;43m=\u001b[39;49m\u001b[43mtail\u001b[49m\u001b[43m,\u001b[49m\n\u001b[1;32m    174\u001b[0m \u001b[43m        \u001b[49m\u001b[43msample\u001b[49m\u001b[38;5;241;43m=\u001b[39;49m\u001b[43msample\u001b[49m\u001b[43m,\u001b[49m\n\u001b[1;32m    175\u001b[0m \u001b[43m        \u001b[49m\u001b[43mrandom_state\u001b[49m\u001b[38;5;241;43m=\u001b[39;49m\u001b[43mrandom_state\u001b[49m\u001b[43m,\u001b[49m\n\u001b[1;32m    176\u001b[0m \u001b[43m        \u001b[49m\u001b[43mlazy\u001b[49m\u001b[38;5;241;43m=\u001b[39;49m\u001b[43mlazy\u001b[49m\u001b[43m,\u001b[49m\n\u001b[1;32m    177\u001b[0m \u001b[43m        \u001b[49m\u001b[43minplace\u001b[49m\u001b[38;5;241;43m=\u001b[39;49m\u001b[43minplace\u001b[49m\u001b[43m,\u001b[49m\n\u001b[1;32m    178\u001b[0m \u001b[43m    \u001b[49m\u001b[43m)\u001b[49m\n",
      "File \u001b[0;32m~/Library/Caches/pypoetry/virtualenvs/pandera-hello-Qn0kq0TZ-py3.11/lib/python3.11/site-packages/pandera/backends/pandas/components.py:119\u001b[0m, in \u001b[0;36mColumnBackend.validate\u001b[0;34m(self, check_obj, schema, head, tail, sample, random_state, lazy, inplace)\u001b[0m\n\u001b[1;32m    115\u001b[0m             check_obj \u001b[38;5;241m=\u001b[39m validate_column(\n\u001b[1;32m    116\u001b[0m                 check_obj, column_name, return_check_obj\u001b[38;5;241m=\u001b[39m\u001b[38;5;28;01mTrue\u001b[39;00m\n\u001b[1;32m    117\u001b[0m             )\n\u001b[1;32m    118\u001b[0m         \u001b[38;5;28;01melse\u001b[39;00m:\n\u001b[0;32m--> 119\u001b[0m             \u001b[43mvalidate_column\u001b[49m\u001b[43m(\u001b[49m\u001b[43mcheck_obj\u001b[49m\u001b[43m,\u001b[49m\u001b[43m \u001b[49m\u001b[43mcolumn_name\u001b[49m\u001b[43m)\u001b[49m\n\u001b[1;32m    121\u001b[0m \u001b[38;5;28;01mif\u001b[39;00m lazy \u001b[38;5;129;01mand\u001b[39;00m error_handler\u001b[38;5;241m.\u001b[39mcollected_errors:\n\u001b[1;32m    122\u001b[0m     \u001b[38;5;28;01mraise\u001b[39;00m SchemaErrors(\n\u001b[1;32m    123\u001b[0m         schema\u001b[38;5;241m=\u001b[39mschema,\n\u001b[1;32m    124\u001b[0m         schema_errors\u001b[38;5;241m=\u001b[39merror_handler\u001b[38;5;241m.\u001b[39mcollected_errors,\n\u001b[1;32m    125\u001b[0m         data\u001b[38;5;241m=\u001b[39mcheck_obj,\n\u001b[1;32m    126\u001b[0m     )\n",
      "File \u001b[0;32m~/Library/Caches/pypoetry/virtualenvs/pandera-hello-Qn0kq0TZ-py3.11/lib/python3.11/site-packages/pandera/backends/pandas/components.py:89\u001b[0m, in \u001b[0;36mColumnBackend.validate.<locals>.validate_column\u001b[0;34m(check_obj, column_name, return_check_obj)\u001b[0m\n\u001b[1;32m     84\u001b[0m         error_handler\u001b[38;5;241m.\u001b[39mcollect_error(\n\u001b[1;32m     85\u001b[0m             reason_code\u001b[38;5;241m=\u001b[39m\u001b[38;5;28;01mNone\u001b[39;00m,\n\u001b[1;32m     86\u001b[0m             schema_error\u001b[38;5;241m=\u001b[39merr,\n\u001b[1;32m     87\u001b[0m         )\n\u001b[1;32m     88\u001b[0m \u001b[38;5;28;01mexcept\u001b[39;00m SchemaError \u001b[38;5;28;01mas\u001b[39;00m err:\n\u001b[0;32m---> 89\u001b[0m     \u001b[43merror_handler\u001b[49m\u001b[38;5;241;43m.\u001b[39;49m\u001b[43mcollect_error\u001b[49m\u001b[43m(\u001b[49m\u001b[43merr\u001b[49m\u001b[38;5;241;43m.\u001b[39;49m\u001b[43mreason_code\u001b[49m\u001b[43m,\u001b[49m\u001b[43m \u001b[49m\u001b[43merr\u001b[49m\u001b[43m)\u001b[49m\n",
      "File \u001b[0;32m~/Library/Caches/pypoetry/virtualenvs/pandera-hello-Qn0kq0TZ-py3.11/lib/python3.11/site-packages/pandera/error_handlers.py:38\u001b[0m, in \u001b[0;36mSchemaErrorHandler.collect_error\u001b[0;34m(self, reason_code, schema_error, original_exc)\u001b[0m\n\u001b[1;32m     31\u001b[0m \u001b[38;5;250m\u001b[39m\u001b[38;5;124;03m\"\"\"Collect schema error, raising exception if lazy is False.\u001b[39;00m\n\u001b[1;32m     32\u001b[0m \n\u001b[1;32m     33\u001b[0m \u001b[38;5;124;03m:param reason_code: string representing reason for error.\u001b[39;00m\n\u001b[1;32m     34\u001b[0m \u001b[38;5;124;03m:param schema_error: ``SchemaError`` object.\u001b[39;00m\n\u001b[1;32m     35\u001b[0m \u001b[38;5;124;03m:param original_exc: original exception associated with the SchemaError.\u001b[39;00m\n\u001b[1;32m     36\u001b[0m \u001b[38;5;124;03m\"\"\"\u001b[39;00m\n\u001b[1;32m     37\u001b[0m \u001b[38;5;28;01mif\u001b[39;00m \u001b[38;5;129;01mnot\u001b[39;00m \u001b[38;5;28mself\u001b[39m\u001b[38;5;241m.\u001b[39m_lazy:\n\u001b[0;32m---> 38\u001b[0m     \u001b[38;5;28;01mraise\u001b[39;00m schema_error \u001b[38;5;28;01mfrom\u001b[39;00m \u001b[38;5;21;01moriginal_exc\u001b[39;00m\n\u001b[1;32m     40\u001b[0m \u001b[38;5;66;03m# delete data of validated object from SchemaError object to prevent\u001b[39;00m\n\u001b[1;32m     41\u001b[0m \u001b[38;5;66;03m# storing copies of the validated DataFrame/Series for every\u001b[39;00m\n\u001b[1;32m     42\u001b[0m \u001b[38;5;66;03m# SchemaError collected.\u001b[39;00m\n\u001b[1;32m     43\u001b[0m \u001b[38;5;28;01mdel\u001b[39;00m schema_error\u001b[38;5;241m.\u001b[39mdata\n",
      "File \u001b[0;32m~/Library/Caches/pypoetry/virtualenvs/pandera-hello-Qn0kq0TZ-py3.11/lib/python3.11/site-packages/pandera/backends/pandas/components.py:68\u001b[0m, in \u001b[0;36mColumnBackend.validate.<locals>.validate_column\u001b[0;34m(check_obj, column_name, return_check_obj)\u001b[0m\n\u001b[1;32m     65\u001b[0m \u001b[38;5;28;01mdef\u001b[39;00m \u001b[38;5;21mvalidate_column\u001b[39m(check_obj, column_name, return_check_obj\u001b[38;5;241m=\u001b[39m\u001b[38;5;28;01mFalse\u001b[39;00m):\n\u001b[1;32m     66\u001b[0m     \u001b[38;5;28;01mtry\u001b[39;00m:\n\u001b[1;32m     67\u001b[0m         \u001b[38;5;66;03m# pylint: disable=super-with-arguments\u001b[39;00m\n\u001b[0;32m---> 68\u001b[0m         validated_check_obj \u001b[38;5;241m=\u001b[39m \u001b[38;5;28;43msuper\u001b[39;49m\u001b[43m(\u001b[49m\u001b[43mColumnBackend\u001b[49m\u001b[43m,\u001b[49m\u001b[43m \u001b[49m\u001b[38;5;28;43mself\u001b[39;49m\u001b[43m)\u001b[49m\u001b[38;5;241;43m.\u001b[39;49m\u001b[43mvalidate\u001b[49m\u001b[43m(\u001b[49m\n\u001b[1;32m     69\u001b[0m \u001b[43m            \u001b[49m\u001b[43mcheck_obj\u001b[49m\u001b[43m,\u001b[49m\n\u001b[1;32m     70\u001b[0m \u001b[43m            \u001b[49m\u001b[43mcopy\u001b[49m\u001b[43m(\u001b[49m\u001b[43mschema\u001b[49m\u001b[43m)\u001b[49m\u001b[38;5;241;43m.\u001b[39;49m\u001b[43mset_name\u001b[49m\u001b[43m(\u001b[49m\u001b[43mcolumn_name\u001b[49m\u001b[43m)\u001b[49m\u001b[43m,\u001b[49m\n\u001b[1;32m     71\u001b[0m \u001b[43m            \u001b[49m\u001b[43mhead\u001b[49m\u001b[38;5;241;43m=\u001b[39;49m\u001b[43mhead\u001b[49m\u001b[43m,\u001b[49m\n\u001b[1;32m     72\u001b[0m \u001b[43m            \u001b[49m\u001b[43mtail\u001b[49m\u001b[38;5;241;43m=\u001b[39;49m\u001b[43mtail\u001b[49m\u001b[43m,\u001b[49m\n\u001b[1;32m     73\u001b[0m \u001b[43m            \u001b[49m\u001b[43msample\u001b[49m\u001b[38;5;241;43m=\u001b[39;49m\u001b[43msample\u001b[49m\u001b[43m,\u001b[49m\n\u001b[1;32m     74\u001b[0m \u001b[43m            \u001b[49m\u001b[43mrandom_state\u001b[49m\u001b[38;5;241;43m=\u001b[39;49m\u001b[43mrandom_state\u001b[49m\u001b[43m,\u001b[49m\n\u001b[1;32m     75\u001b[0m \u001b[43m            \u001b[49m\u001b[43mlazy\u001b[49m\u001b[38;5;241;43m=\u001b[39;49m\u001b[43mlazy\u001b[49m\u001b[43m,\u001b[49m\n\u001b[1;32m     76\u001b[0m \u001b[43m            \u001b[49m\u001b[43minplace\u001b[49m\u001b[38;5;241;43m=\u001b[39;49m\u001b[43minplace\u001b[49m\u001b[43m,\u001b[49m\n\u001b[1;32m     77\u001b[0m \u001b[43m        \u001b[49m\u001b[43m)\u001b[49m\n\u001b[1;32m     79\u001b[0m         \u001b[38;5;28;01mif\u001b[39;00m return_check_obj:\n\u001b[1;32m     80\u001b[0m             \u001b[38;5;28;01mreturn\u001b[39;00m validated_check_obj\n",
      "File \u001b[0;32m~/Library/Caches/pypoetry/virtualenvs/pandera-hello-Qn0kq0TZ-py3.11/lib/python3.11/site-packages/pandera/backends/pandas/array.py:69\u001b[0m, in \u001b[0;36mArraySchemaBackend.validate\u001b[0;34m(self, check_obj, schema, head, tail, sample, random_state, lazy, inplace)\u001b[0m\n\u001b[1;32m     66\u001b[0m     error_handler\u001b[38;5;241m.\u001b[39mcollect_error(exc\u001b[38;5;241m.\u001b[39mreason_code, exc)\n\u001b[1;32m     68\u001b[0m \u001b[38;5;66;03m# run the core checks\u001b[39;00m\n\u001b[0;32m---> 69\u001b[0m error_handler \u001b[38;5;241m=\u001b[39m \u001b[38;5;28;43mself\u001b[39;49m\u001b[38;5;241;43m.\u001b[39;49m\u001b[43mrun_checks_and_handle_errors\u001b[49m\u001b[43m(\u001b[49m\n\u001b[1;32m     70\u001b[0m \u001b[43m    \u001b[49m\u001b[43merror_handler\u001b[49m\u001b[43m,\u001b[49m\n\u001b[1;32m     71\u001b[0m \u001b[43m    \u001b[49m\u001b[43mschema\u001b[49m\u001b[43m,\u001b[49m\n\u001b[1;32m     72\u001b[0m \u001b[43m    \u001b[49m\u001b[43mcheck_obj\u001b[49m\u001b[43m,\u001b[49m\n\u001b[1;32m     73\u001b[0m \u001b[43m    \u001b[49m\u001b[43mhead\u001b[49m\u001b[43m,\u001b[49m\n\u001b[1;32m     74\u001b[0m \u001b[43m    \u001b[49m\u001b[43mtail\u001b[49m\u001b[43m,\u001b[49m\n\u001b[1;32m     75\u001b[0m \u001b[43m    \u001b[49m\u001b[43msample\u001b[49m\u001b[43m,\u001b[49m\n\u001b[1;32m     76\u001b[0m \u001b[43m    \u001b[49m\u001b[43mrandom_state\u001b[49m\u001b[43m,\u001b[49m\n\u001b[1;32m     77\u001b[0m \u001b[43m\u001b[49m\u001b[43m)\u001b[49m\n\u001b[1;32m     79\u001b[0m \u001b[38;5;28;01mif\u001b[39;00m lazy \u001b[38;5;129;01mand\u001b[39;00m error_handler\u001b[38;5;241m.\u001b[39mcollected_errors:\n\u001b[1;32m     80\u001b[0m     \u001b[38;5;28;01mif\u001b[39;00m \u001b[38;5;28mgetattr\u001b[39m(schema, \u001b[38;5;124m\"\u001b[39m\u001b[38;5;124mdrop_invalid_rows\u001b[39m\u001b[38;5;124m\"\u001b[39m, \u001b[38;5;28;01mFalse\u001b[39;00m):\n",
      "File \u001b[0;32m~/Library/Caches/pypoetry/virtualenvs/pandera-hello-Qn0kq0TZ-py3.11/lib/python3.11/site-packages/pandera/backends/pandas/array.py:150\u001b[0m, in \u001b[0;36mArraySchemaBackend.run_checks_and_handle_errors\u001b[0;34m(self, error_handler, schema, check_obj, head, tail, sample, random_state)\u001b[0m\n\u001b[1;32m    139\u001b[0m         \u001b[38;5;28;01melse\u001b[39;00m:\n\u001b[1;32m    140\u001b[0m             error \u001b[38;5;241m=\u001b[39m SchemaError(\n\u001b[1;32m    141\u001b[0m                 schema\u001b[38;5;241m=\u001b[39mschema,\n\u001b[1;32m    142\u001b[0m                 data\u001b[38;5;241m=\u001b[39mcheck_obj,\n\u001b[0;32m   (...)\u001b[0m\n\u001b[1;32m    148\u001b[0m                 reason_code\u001b[38;5;241m=\u001b[39mresult\u001b[38;5;241m.\u001b[39mreason_code,\n\u001b[1;32m    149\u001b[0m             )\n\u001b[0;32m--> 150\u001b[0m             \u001b[43merror_handler\u001b[49m\u001b[38;5;241;43m.\u001b[39;49m\u001b[43mcollect_error\u001b[49m\u001b[43m(\u001b[49m\n\u001b[1;32m    151\u001b[0m \u001b[43m                \u001b[49m\u001b[43mresult\u001b[49m\u001b[38;5;241;43m.\u001b[39;49m\u001b[43mreason_code\u001b[49m\u001b[43m,\u001b[49m\n\u001b[1;32m    152\u001b[0m \u001b[43m                \u001b[49m\u001b[43merror\u001b[49m\u001b[43m,\u001b[49m\n\u001b[1;32m    153\u001b[0m \u001b[43m                \u001b[49m\u001b[43moriginal_exc\u001b[49m\u001b[38;5;241;43m=\u001b[39;49m\u001b[43mresult\u001b[49m\u001b[38;5;241;43m.\u001b[39;49m\u001b[43moriginal_exc\u001b[49m\u001b[43m,\u001b[49m\n\u001b[1;32m    154\u001b[0m \u001b[43m            \u001b[49m\u001b[43m)\u001b[49m\n\u001b[1;32m    156\u001b[0m \u001b[38;5;28;01mreturn\u001b[39;00m error_handler\n",
      "File \u001b[0;32m~/Library/Caches/pypoetry/virtualenvs/pandera-hello-Qn0kq0TZ-py3.11/lib/python3.11/site-packages/pandera/error_handlers.py:38\u001b[0m, in \u001b[0;36mSchemaErrorHandler.collect_error\u001b[0;34m(self, reason_code, schema_error, original_exc)\u001b[0m\n\u001b[1;32m     31\u001b[0m \u001b[38;5;250m\u001b[39m\u001b[38;5;124;03m\"\"\"Collect schema error, raising exception if lazy is False.\u001b[39;00m\n\u001b[1;32m     32\u001b[0m \n\u001b[1;32m     33\u001b[0m \u001b[38;5;124;03m:param reason_code: string representing reason for error.\u001b[39;00m\n\u001b[1;32m     34\u001b[0m \u001b[38;5;124;03m:param schema_error: ``SchemaError`` object.\u001b[39;00m\n\u001b[1;32m     35\u001b[0m \u001b[38;5;124;03m:param original_exc: original exception associated with the SchemaError.\u001b[39;00m\n\u001b[1;32m     36\u001b[0m \u001b[38;5;124;03m\"\"\"\u001b[39;00m\n\u001b[1;32m     37\u001b[0m \u001b[38;5;28;01mif\u001b[39;00m \u001b[38;5;129;01mnot\u001b[39;00m \u001b[38;5;28mself\u001b[39m\u001b[38;5;241m.\u001b[39m_lazy:\n\u001b[0;32m---> 38\u001b[0m     \u001b[38;5;28;01mraise\u001b[39;00m schema_error \u001b[38;5;28;01mfrom\u001b[39;00m \u001b[38;5;21;01moriginal_exc\u001b[39;00m\n\u001b[1;32m     40\u001b[0m \u001b[38;5;66;03m# delete data of validated object from SchemaError object to prevent\u001b[39;00m\n\u001b[1;32m     41\u001b[0m \u001b[38;5;66;03m# storing copies of the validated DataFrame/Series for every\u001b[39;00m\n\u001b[1;32m     42\u001b[0m \u001b[38;5;66;03m# SchemaError collected.\u001b[39;00m\n\u001b[1;32m     43\u001b[0m \u001b[38;5;28;01mdel\u001b[39;00m schema_error\u001b[38;5;241m.\u001b[39mdata\n",
      "\u001b[0;31mSchemaError\u001b[0m: series 'store' contains duplicate values:\n1    Walmart\n2    Walmart\nName: store, dtype: object"
     ]
    }
   ],
   "source": [
    "schema = pa.DataFrameSchema(\n",
    "    {\n",
    "        \"name\": Column(str, Check.isin(available_fruits)),\n",
    "        \"store\": Column(\n",
    "            str,\n",
    "            Check.isin(nearby_stores),\n",
    "            nullable=True,\n",
    "            unique=True\n",
    "        ),\n",
    "        \"price\": Column(int, Check.less_than(5)),\n",
    "    }\n",
    ")\n",
    "schema.validate(fruits)\n"
   ]
  },
  {
   "cell_type": "markdown",
   "id": "045edb47",
   "metadata": {},
   "source": [
    "## Convert Data Types"
   ]
  },
  {
   "cell_type": "code",
   "execution_count": 39,
   "id": "0e7e9deb",
   "metadata": {
    "ExecuteTime": {
     "end_time": "2023-08-23T17:43:21.338600Z",
     "start_time": "2023-08-23T17:43:21.260921Z"
    }
   },
   "outputs": [
    {
     "data": {
      "text/plain": [
       "name     object\n",
       "store    object\n",
       "price    object\n",
       "dtype: object"
      ]
     },
     "execution_count": 39,
     "metadata": {},
     "output_type": "execute_result"
    }
   ],
   "source": [
    "fruits = pd.DataFrame(\n",
    "    {\n",
    "        \"name\": [\"apple\", \"banana\", \"apple\", \"orange\"],\n",
    "        \"store\": [\"Aldi\", \"Walmart\", \"Walmart\", \"Aldi\"],\n",
    "        \"price\": [2, 1, 3, 4],\n",
    "    }\n",
    ")\n",
    "\n",
    "schema = pa.DataFrameSchema({\"price\": Column(str, coerce=True)})\n",
    "validated = schema.validate(fruits)\n",
    "validated.dtypes"
   ]
  },
  {
   "cell_type": "markdown",
   "id": "5c0a8392",
   "metadata": {},
   "source": [
    "## Patern Matching"
   ]
  },
  {
   "cell_type": "code",
   "execution_count": 40,
   "id": "1b2afa5d",
   "metadata": {
    "ExecuteTime": {
     "end_time": "2023-08-23T17:45:55.991126Z",
     "start_time": "2023-08-23T17:45:55.968088Z"
    }
   },
   "outputs": [
    {
     "data": {
      "text/html": [
       "<div>\n",
       "<style scoped>\n",
       "    .dataframe tbody tr th:only-of-type {\n",
       "        vertical-align: middle;\n",
       "    }\n",
       "\n",
       "    .dataframe tbody tr th {\n",
       "        vertical-align: top;\n",
       "    }\n",
       "\n",
       "    .dataframe thead th {\n",
       "        text-align: right;\n",
       "    }\n",
       "</style>\n",
       "<table border=\"1\" class=\"dataframe\">\n",
       "  <thead>\n",
       "    <tr style=\"text-align: right;\">\n",
       "      <th></th>\n",
       "      <th>name</th>\n",
       "      <th>store_nearby</th>\n",
       "      <th>store_far</th>\n",
       "    </tr>\n",
       "  </thead>\n",
       "  <tbody>\n",
       "    <tr>\n",
       "      <th>0</th>\n",
       "      <td>apple</td>\n",
       "      <td>Aldi</td>\n",
       "      <td>Whole Foods</td>\n",
       "    </tr>\n",
       "    <tr>\n",
       "      <th>1</th>\n",
       "      <td>banana</td>\n",
       "      <td>Walmart</td>\n",
       "      <td>Schnucks</td>\n",
       "    </tr>\n",
       "    <tr>\n",
       "      <th>2</th>\n",
       "      <td>apple</td>\n",
       "      <td>Walmart</td>\n",
       "      <td>Whole Foods</td>\n",
       "    </tr>\n",
       "    <tr>\n",
       "      <th>3</th>\n",
       "      <td>orange</td>\n",
       "      <td>Aldi</td>\n",
       "      <td>Schnucks</td>\n",
       "    </tr>\n",
       "  </tbody>\n",
       "</table>\n",
       "</div>"
      ],
      "text/plain": [
       "     name store_nearby    store_far\n",
       "0   apple         Aldi  Whole Foods\n",
       "1  banana      Walmart     Schnucks\n",
       "2   apple      Walmart  Whole Foods\n",
       "3  orange         Aldi     Schnucks"
      ]
     },
     "execution_count": 40,
     "metadata": {},
     "output_type": "execute_result"
    }
   ],
   "source": [
    "favorite_stores = [\"Aldi\", \"Walmart\", \"Whole Foods\", \"Schnucks\"]\n",
    "\n",
    "fruits = pd.DataFrame(\n",
    "    {\n",
    "        \"name\": [\"apple\", \"banana\", \"apple\", \"orange\"],\n",
    "        \"store_nearby\": [\"Aldi\", \"Walmart\", \"Walmart\", \"Aldi\"],\n",
    "        \"store_far\": [\"Whole Foods\", \"Schnucks\", \"Whole Foods\", \"Schnucks\"],\n",
    "    }\n",
    ")\n",
    "\n",
    "schema = pa.DataFrameSchema(\n",
    "    {\n",
    "        \"name\": Column(str, Check.isin(available_fruits)),\n",
    "        \"store_*\": Column(\n",
    "            str,\n",
    "            Check.isin(favorite_stores),\n",
    "            regex=True\n",
    "        ),\n",
    "    }\n",
    ")\n",
    "schema.validate(fruits)\n"
   ]
  },
  {
   "cell_type": "markdown",
   "id": "6b396eb3",
   "metadata": {},
   "source": [
    "# Export and Load From a YAML file"
   ]
  },
  {
   "cell_type": "markdown",
   "id": "a946ae50",
   "metadata": {},
   "source": [
    "## Export"
   ]
  },
  {
   "cell_type": "code",
   "execution_count": 58,
   "id": "86c4cc16",
   "metadata": {
    "ExecuteTime": {
     "end_time": "2023-08-23T17:47:14.057528Z",
     "start_time": "2023-08-23T17:47:08.842668Z"
    }
   },
   "outputs": [
    {
     "name": "stdout",
     "output_type": "stream",
     "text": [
      "schema_type: dataframe\n",
      "version: 0.16.1\n",
      "columns:\n",
      "  name:\n",
      "    title: null\n",
      "    description: null\n",
      "    dtype: str\n",
      "    nullable: false\n",
      "    checks:\n",
      "      isin:\n",
      "      - apple\n",
      "      - banana\n",
      "      - orange\n",
      "    unique: false\n",
      "    coerce: false\n",
      "    required: true\n",
      "    regex: false\n",
      "  store_*:\n",
      "    title: null\n",
      "    description: null\n",
      "    dtype: str\n",
      "    nullable: false\n",
      "    checks:\n",
      "      isin:\n",
      "      - Aldi\n",
      "      - Walmart\n",
      "      - Whole Foods\n",
      "      - Schnucks\n",
      "    unique: false\n",
      "    coerce: false\n",
      "    required: true\n",
      "    regex: true\n",
      "checks: null\n",
      "index: null\n",
      "dtype: null\n",
      "coerce: false\n",
      "strict: false\n",
      "name: null\n",
      "ordered: false\n",
      "unique: null\n",
      "report_duplicates: all\n",
      "unique_column_names: false\n",
      "add_missing_columns: false\n",
      "title: null\n",
      "description: null\n",
      "\n"
     ]
    }
   ],
   "source": [
    "yaml_schema = schema.to_yaml()\n",
    "print(yaml_schema)"
   ]
  },
  {
   "cell_type": "code",
   "execution_count": 61,
   "id": "c38b376a",
   "metadata": {
    "ExecuteTime": {
     "end_time": "2023-08-23T17:49:53.337863Z",
     "start_time": "2023-08-23T17:49:53.329233Z"
    }
   },
   "outputs": [
    {
     "data": {
      "text/plain": [
       "725"
      ]
     },
     "execution_count": 61,
     "metadata": {},
     "output_type": "execute_result"
    }
   ],
   "source": [
    "from pathlib import Path\n",
    "\n",
    "f = Path(\"schema.yml\")\n",
    "f.touch()\n",
    "f.write_text(yaml_schema)"
   ]
  },
  {
   "cell_type": "markdown",
   "id": "fd3db611",
   "metadata": {},
   "source": [
    "## Load"
   ]
  },
  {
   "cell_type": "code",
   "execution_count": 62,
   "id": "bd70b32d",
   "metadata": {
    "ExecuteTime": {
     "end_time": "2023-08-23T17:49:54.573918Z",
     "start_time": "2023-08-23T17:49:54.547900Z"
    }
   },
   "outputs": [],
   "source": [
    "with f.open() as file:\n",
    "    yaml_schema = file.read()"
   ]
  },
  {
   "cell_type": "code",
   "execution_count": 63,
   "id": "6aba8b14",
   "metadata": {
    "ExecuteTime": {
     "end_time": "2023-08-23T17:49:54.901152Z",
     "start_time": "2023-08-23T17:49:54.868610Z"
    }
   },
   "outputs": [
    {
     "data": {
      "text/plain": [
       "<Schema DataFrameSchema(columns={'name': <Schema Column(name=name, type=DataType(str))>, 'store_*': <Schema Column(name=store_*, type=DataType(str))>}, checks=[], index=None, coerce=False, dtype=None, strict=False, name=None, ordered=False, unique_column_names=Falsemetadata='None, unique_column_names=False, add_missing_columns=False)>"
      ]
     },
     "execution_count": 63,
     "metadata": {},
     "output_type": "execute_result"
    }
   ],
   "source": [
    "schema = pa.io.from_yaml(yaml_schema)\n",
    "schema"
   ]
  },
  {
   "cell_type": "markdown",
   "id": "6d633c96",
   "metadata": {
    "collapsed": false,
    "jupyter": {
     "outputs_hidden": false
    }
   },
   "source": [
    "# [Original article](https://towardsdatascience.com/validate-your-pandas-dataframe-with-pandera-2995910e564)"
   ]
  }
 ],
 "metadata": {
  "hide_input": false,
  "interpreter": {
   "hash": "478cc5ef0f338997730d9103983e193fe6c3c8e58abb3c8c0481de8a2f51bddc"
  },
  "kernelspec": {
   "display_name": "Python 3 (ipykernel)",
   "language": "python",
   "name": "python3"
  },
  "language_info": {
   "codemirror_mode": {
    "name": "ipython",
    "version": 3
   },
   "file_extension": ".py",
   "mimetype": "text/x-python",
   "name": "python",
   "nbconvert_exporter": "python",
   "pygments_lexer": "ipython3",
   "version": "3.11.3"
  },
  "toc": {
   "base_numbering": 1,
   "nav_menu": {},
   "number_sections": true,
   "sideBar": true,
   "skip_h1_title": false,
   "title_cell": "Table of Contents",
   "title_sidebar": "Contents",
   "toc_cell": false,
   "toc_position": {},
   "toc_section_display": true,
   "toc_window_display": false
  }
 },
 "nbformat": 4,
 "nbformat_minor": 5
}
